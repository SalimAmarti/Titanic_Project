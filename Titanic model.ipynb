{
 "cells": [
  {
   "cell_type": "markdown",
   "metadata": {},
   "source": [
    "# Imports"
   ]
  },
  {
   "cell_type": "code",
   "execution_count": 256,
   "metadata": {},
   "outputs": [],
   "source": [
    "import pandas as pd\n",
    "import numpy as np\n",
    "import matplotlib as plt\n",
    "import seaborn as sns\n",
    "%matplotlib inline"
   ]
  },
  {
   "cell_type": "markdown",
   "metadata": {},
   "source": [
    "# Data collection"
   ]
  },
  {
   "cell_type": "markdown",
   "metadata": {},
   "source": [
    "<b><i> Data import </i></b>"
   ]
  },
  {
   "cell_type": "code",
   "execution_count": 257,
   "metadata": {},
   "outputs": [],
   "source": [
    "tit_data = pd.read_csv(\"Titanic dataset/train.csv\")"
   ]
  },
  {
   "cell_type": "code",
   "execution_count": 258,
   "metadata": {},
   "outputs": [
    {
     "data": {
      "text/html": [
       "<div>\n",
       "<style scoped>\n",
       "    .dataframe tbody tr th:only-of-type {\n",
       "        vertical-align: middle;\n",
       "    }\n",
       "\n",
       "    .dataframe tbody tr th {\n",
       "        vertical-align: top;\n",
       "    }\n",
       "\n",
       "    .dataframe thead th {\n",
       "        text-align: right;\n",
       "    }\n",
       "</style>\n",
       "<table border=\"1\" class=\"dataframe\">\n",
       "  <thead>\n",
       "    <tr style=\"text-align: right;\">\n",
       "      <th></th>\n",
       "      <th>PassengerId</th>\n",
       "      <th>Survived</th>\n",
       "      <th>Pclass</th>\n",
       "      <th>Name</th>\n",
       "      <th>Sex</th>\n",
       "      <th>Age</th>\n",
       "      <th>SibSp</th>\n",
       "      <th>Parch</th>\n",
       "      <th>Ticket</th>\n",
       "      <th>Fare</th>\n",
       "      <th>Cabin</th>\n",
       "      <th>Embarked</th>\n",
       "    </tr>\n",
       "  </thead>\n",
       "  <tbody>\n",
       "    <tr>\n",
       "      <td>0</td>\n",
       "      <td>1</td>\n",
       "      <td>0</td>\n",
       "      <td>3</td>\n",
       "      <td>Braund, Mr. Owen Harris</td>\n",
       "      <td>male</td>\n",
       "      <td>22.0</td>\n",
       "      <td>1</td>\n",
       "      <td>0</td>\n",
       "      <td>A/5 21171</td>\n",
       "      <td>7.2500</td>\n",
       "      <td>NaN</td>\n",
       "      <td>S</td>\n",
       "    </tr>\n",
       "    <tr>\n",
       "      <td>1</td>\n",
       "      <td>2</td>\n",
       "      <td>1</td>\n",
       "      <td>1</td>\n",
       "      <td>Cumings, Mrs. John Bradley (Florence Briggs Th...</td>\n",
       "      <td>female</td>\n",
       "      <td>38.0</td>\n",
       "      <td>1</td>\n",
       "      <td>0</td>\n",
       "      <td>PC 17599</td>\n",
       "      <td>71.2833</td>\n",
       "      <td>C85</td>\n",
       "      <td>C</td>\n",
       "    </tr>\n",
       "    <tr>\n",
       "      <td>2</td>\n",
       "      <td>3</td>\n",
       "      <td>1</td>\n",
       "      <td>3</td>\n",
       "      <td>Heikkinen, Miss. Laina</td>\n",
       "      <td>female</td>\n",
       "      <td>26.0</td>\n",
       "      <td>0</td>\n",
       "      <td>0</td>\n",
       "      <td>STON/O2. 3101282</td>\n",
       "      <td>7.9250</td>\n",
       "      <td>NaN</td>\n",
       "      <td>S</td>\n",
       "    </tr>\n",
       "    <tr>\n",
       "      <td>3</td>\n",
       "      <td>4</td>\n",
       "      <td>1</td>\n",
       "      <td>1</td>\n",
       "      <td>Futrelle, Mrs. Jacques Heath (Lily May Peel)</td>\n",
       "      <td>female</td>\n",
       "      <td>35.0</td>\n",
       "      <td>1</td>\n",
       "      <td>0</td>\n",
       "      <td>113803</td>\n",
       "      <td>53.1000</td>\n",
       "      <td>C123</td>\n",
       "      <td>S</td>\n",
       "    </tr>\n",
       "    <tr>\n",
       "      <td>4</td>\n",
       "      <td>5</td>\n",
       "      <td>0</td>\n",
       "      <td>3</td>\n",
       "      <td>Allen, Mr. William Henry</td>\n",
       "      <td>male</td>\n",
       "      <td>35.0</td>\n",
       "      <td>0</td>\n",
       "      <td>0</td>\n",
       "      <td>373450</td>\n",
       "      <td>8.0500</td>\n",
       "      <td>NaN</td>\n",
       "      <td>S</td>\n",
       "    </tr>\n",
       "  </tbody>\n",
       "</table>\n",
       "</div>"
      ],
      "text/plain": [
       "   PassengerId  Survived  Pclass  \\\n",
       "0            1         0       3   \n",
       "1            2         1       1   \n",
       "2            3         1       3   \n",
       "3            4         1       1   \n",
       "4            5         0       3   \n",
       "\n",
       "                                                Name     Sex   Age  SibSp  \\\n",
       "0                            Braund, Mr. Owen Harris    male  22.0      1   \n",
       "1  Cumings, Mrs. John Bradley (Florence Briggs Th...  female  38.0      1   \n",
       "2                             Heikkinen, Miss. Laina  female  26.0      0   \n",
       "3       Futrelle, Mrs. Jacques Heath (Lily May Peel)  female  35.0      1   \n",
       "4                           Allen, Mr. William Henry    male  35.0      0   \n",
       "\n",
       "   Parch            Ticket     Fare Cabin Embarked  \n",
       "0      0         A/5 21171   7.2500   NaN        S  \n",
       "1      0          PC 17599  71.2833   C85        C  \n",
       "2      0  STON/O2. 3101282   7.9250   NaN        S  \n",
       "3      0            113803  53.1000  C123        S  \n",
       "4      0            373450   8.0500   NaN        S  "
      ]
     },
     "execution_count": 258,
     "metadata": {},
     "output_type": "execute_result"
    }
   ],
   "source": [
    "tit_data.head()"
   ]
  },
  {
   "cell_type": "markdown",
   "metadata": {},
   "source": [
    "<b><i> Columns description </i></b>"
   ]
  },
  {
   "cell_type": "code",
   "execution_count": 259,
   "metadata": {},
   "outputs": [
    {
     "data": {
      "text/plain": [
       "Index(['PassengerId', 'Survived', 'Pclass', 'Name', 'Sex', 'Age', 'SibSp',\n",
       "       'Parch', 'Ticket', 'Fare', 'Cabin', 'Embarked'],\n",
       "      dtype='object')"
      ]
     },
     "execution_count": 259,
     "metadata": {},
     "output_type": "execute_result"
    }
   ],
   "source": [
    "tit_data.columns"
   ]
  },
  {
   "cell_type": "markdown",
   "metadata": {},
   "source": [
    "| Variable | Definition | Key |\n",
    "| --- | --- | --- |\n",
    "| survival | Survival | 0 = No, 1 = Yes |\n",
    "| pclass | Ticket class\t| 1 = 1st, 2 = 2nd, 3 = 3rd |\n",
    "| sex | Sex |\t\n",
    "| Age |\tAge in years |\t\n",
    "| sibsp | # of siblings / spouses aboard the Titanic |\n",
    "| parch | # of parents / children aboard the Titanic |\t\n",
    "| ticket | Ticket number |\t\n",
    "| fare | Passenger fare\t|\n",
    "| cabin | Cabin number |\t\n",
    "| embarked | Port of Embarkation | C = Cherbourg, Q = Queenstown, S = Southampton |"
   ]
  },
  {
   "cell_type": "markdown",
   "metadata": {},
   "source": [
    "# Data cleaning"
   ]
  },
  {
   "cell_type": "markdown",
   "metadata": {},
   "source": [
    "<b><i> Describe the data </i></b>"
   ]
  },
  {
   "cell_type": "code",
   "execution_count": 260,
   "metadata": {},
   "outputs": [
    {
     "data": {
      "text/html": [
       "<div>\n",
       "<style scoped>\n",
       "    .dataframe tbody tr th:only-of-type {\n",
       "        vertical-align: middle;\n",
       "    }\n",
       "\n",
       "    .dataframe tbody tr th {\n",
       "        vertical-align: top;\n",
       "    }\n",
       "\n",
       "    .dataframe thead th {\n",
       "        text-align: right;\n",
       "    }\n",
       "</style>\n",
       "<table border=\"1\" class=\"dataframe\">\n",
       "  <thead>\n",
       "    <tr style=\"text-align: right;\">\n",
       "      <th></th>\n",
       "      <th>PassengerId</th>\n",
       "      <th>Survived</th>\n",
       "      <th>Pclass</th>\n",
       "      <th>Age</th>\n",
       "      <th>SibSp</th>\n",
       "      <th>Parch</th>\n",
       "      <th>Fare</th>\n",
       "    </tr>\n",
       "  </thead>\n",
       "  <tbody>\n",
       "    <tr>\n",
       "      <td>count</td>\n",
       "      <td>891.000000</td>\n",
       "      <td>891.000000</td>\n",
       "      <td>891.000000</td>\n",
       "      <td>714.000000</td>\n",
       "      <td>891.000000</td>\n",
       "      <td>891.000000</td>\n",
       "      <td>891.000000</td>\n",
       "    </tr>\n",
       "    <tr>\n",
       "      <td>mean</td>\n",
       "      <td>446.000000</td>\n",
       "      <td>0.383838</td>\n",
       "      <td>2.308642</td>\n",
       "      <td>29.699118</td>\n",
       "      <td>0.523008</td>\n",
       "      <td>0.381594</td>\n",
       "      <td>32.204208</td>\n",
       "    </tr>\n",
       "    <tr>\n",
       "      <td>std</td>\n",
       "      <td>257.353842</td>\n",
       "      <td>0.486592</td>\n",
       "      <td>0.836071</td>\n",
       "      <td>14.526497</td>\n",
       "      <td>1.102743</td>\n",
       "      <td>0.806057</td>\n",
       "      <td>49.693429</td>\n",
       "    </tr>\n",
       "    <tr>\n",
       "      <td>min</td>\n",
       "      <td>1.000000</td>\n",
       "      <td>0.000000</td>\n",
       "      <td>1.000000</td>\n",
       "      <td>0.420000</td>\n",
       "      <td>0.000000</td>\n",
       "      <td>0.000000</td>\n",
       "      <td>0.000000</td>\n",
       "    </tr>\n",
       "    <tr>\n",
       "      <td>25%</td>\n",
       "      <td>223.500000</td>\n",
       "      <td>0.000000</td>\n",
       "      <td>2.000000</td>\n",
       "      <td>20.125000</td>\n",
       "      <td>0.000000</td>\n",
       "      <td>0.000000</td>\n",
       "      <td>7.910400</td>\n",
       "    </tr>\n",
       "    <tr>\n",
       "      <td>50%</td>\n",
       "      <td>446.000000</td>\n",
       "      <td>0.000000</td>\n",
       "      <td>3.000000</td>\n",
       "      <td>28.000000</td>\n",
       "      <td>0.000000</td>\n",
       "      <td>0.000000</td>\n",
       "      <td>14.454200</td>\n",
       "    </tr>\n",
       "    <tr>\n",
       "      <td>75%</td>\n",
       "      <td>668.500000</td>\n",
       "      <td>1.000000</td>\n",
       "      <td>3.000000</td>\n",
       "      <td>38.000000</td>\n",
       "      <td>1.000000</td>\n",
       "      <td>0.000000</td>\n",
       "      <td>31.000000</td>\n",
       "    </tr>\n",
       "    <tr>\n",
       "      <td>max</td>\n",
       "      <td>891.000000</td>\n",
       "      <td>1.000000</td>\n",
       "      <td>3.000000</td>\n",
       "      <td>80.000000</td>\n",
       "      <td>8.000000</td>\n",
       "      <td>6.000000</td>\n",
       "      <td>512.329200</td>\n",
       "    </tr>\n",
       "  </tbody>\n",
       "</table>\n",
       "</div>"
      ],
      "text/plain": [
       "       PassengerId    Survived      Pclass         Age       SibSp  \\\n",
       "count   891.000000  891.000000  891.000000  714.000000  891.000000   \n",
       "mean    446.000000    0.383838    2.308642   29.699118    0.523008   \n",
       "std     257.353842    0.486592    0.836071   14.526497    1.102743   \n",
       "min       1.000000    0.000000    1.000000    0.420000    0.000000   \n",
       "25%     223.500000    0.000000    2.000000   20.125000    0.000000   \n",
       "50%     446.000000    0.000000    3.000000   28.000000    0.000000   \n",
       "75%     668.500000    1.000000    3.000000   38.000000    1.000000   \n",
       "max     891.000000    1.000000    3.000000   80.000000    8.000000   \n",
       "\n",
       "            Parch        Fare  \n",
       "count  891.000000  891.000000  \n",
       "mean     0.381594   32.204208  \n",
       "std      0.806057   49.693429  \n",
       "min      0.000000    0.000000  \n",
       "25%      0.000000    7.910400  \n",
       "50%      0.000000   14.454200  \n",
       "75%      0.000000   31.000000  \n",
       "max      6.000000  512.329200  "
      ]
     },
     "execution_count": 260,
     "metadata": {},
     "output_type": "execute_result"
    }
   ],
   "source": [
    "tit_data.describe()"
   ]
  },
  {
   "cell_type": "markdown",
   "metadata": {},
   "source": [
    "I notice that there is an outlier in the \"Fare\" feature. I wanna look into it."
   ]
  },
  {
   "cell_type": "code",
   "execution_count": 261,
   "metadata": {},
   "outputs": [
    {
     "data": {
      "text/html": [
       "<div>\n",
       "<style scoped>\n",
       "    .dataframe tbody tr th:only-of-type {\n",
       "        vertical-align: middle;\n",
       "    }\n",
       "\n",
       "    .dataframe tbody tr th {\n",
       "        vertical-align: top;\n",
       "    }\n",
       "\n",
       "    .dataframe thead th {\n",
       "        text-align: right;\n",
       "    }\n",
       "</style>\n",
       "<table border=\"1\" class=\"dataframe\">\n",
       "  <thead>\n",
       "    <tr style=\"text-align: right;\">\n",
       "      <th></th>\n",
       "      <th>PassengerId</th>\n",
       "      <th>Survived</th>\n",
       "      <th>Pclass</th>\n",
       "      <th>Name</th>\n",
       "      <th>Sex</th>\n",
       "      <th>Age</th>\n",
       "      <th>SibSp</th>\n",
       "      <th>Parch</th>\n",
       "      <th>Ticket</th>\n",
       "      <th>Fare</th>\n",
       "      <th>Cabin</th>\n",
       "      <th>Embarked</th>\n",
       "    </tr>\n",
       "  </thead>\n",
       "  <tbody>\n",
       "    <tr>\n",
       "      <td>258</td>\n",
       "      <td>259</td>\n",
       "      <td>1</td>\n",
       "      <td>1</td>\n",
       "      <td>Ward, Miss. Anna</td>\n",
       "      <td>female</td>\n",
       "      <td>35.0</td>\n",
       "      <td>0</td>\n",
       "      <td>0</td>\n",
       "      <td>PC 17755</td>\n",
       "      <td>512.3292</td>\n",
       "      <td>NaN</td>\n",
       "      <td>C</td>\n",
       "    </tr>\n",
       "    <tr>\n",
       "      <td>679</td>\n",
       "      <td>680</td>\n",
       "      <td>1</td>\n",
       "      <td>1</td>\n",
       "      <td>Cardeza, Mr. Thomas Drake Martinez</td>\n",
       "      <td>male</td>\n",
       "      <td>36.0</td>\n",
       "      <td>0</td>\n",
       "      <td>1</td>\n",
       "      <td>PC 17755</td>\n",
       "      <td>512.3292</td>\n",
       "      <td>B51 B53 B55</td>\n",
       "      <td>C</td>\n",
       "    </tr>\n",
       "    <tr>\n",
       "      <td>737</td>\n",
       "      <td>738</td>\n",
       "      <td>1</td>\n",
       "      <td>1</td>\n",
       "      <td>Lesurer, Mr. Gustave J</td>\n",
       "      <td>male</td>\n",
       "      <td>35.0</td>\n",
       "      <td>0</td>\n",
       "      <td>0</td>\n",
       "      <td>PC 17755</td>\n",
       "      <td>512.3292</td>\n",
       "      <td>B101</td>\n",
       "      <td>C</td>\n",
       "    </tr>\n",
       "  </tbody>\n",
       "</table>\n",
       "</div>"
      ],
      "text/plain": [
       "     PassengerId  Survived  Pclass                                Name  \\\n",
       "258          259         1       1                    Ward, Miss. Anna   \n",
       "679          680         1       1  Cardeza, Mr. Thomas Drake Martinez   \n",
       "737          738         1       1              Lesurer, Mr. Gustave J   \n",
       "\n",
       "        Sex   Age  SibSp  Parch    Ticket      Fare        Cabin Embarked  \n",
       "258  female  35.0      0      0  PC 17755  512.3292          NaN        C  \n",
       "679    male  36.0      0      1  PC 17755  512.3292  B51 B53 B55        C  \n",
       "737    male  35.0      0      0  PC 17755  512.3292         B101        C  "
      ]
     },
     "execution_count": 261,
     "metadata": {},
     "output_type": "execute_result"
    }
   ],
   "source": [
    "tit_data[tit_data['Fare']==max(tit_data['Fare'])]"
   ]
  },
  {
   "cell_type": "markdown",
   "metadata": {},
   "source": [
    "I assume these 3 people are from the higher class of the ship."
   ]
  },
  {
   "cell_type": "markdown",
   "metadata": {},
   "source": [
    "<b><i> Check for null values </i></b>"
   ]
  },
  {
   "cell_type": "code",
   "execution_count": 267,
   "metadata": {},
   "outputs": [
    {
     "data": {
      "text/plain": [
       "<matplotlib.axes._subplots.AxesSubplot at 0x1a2db06dd0>"
      ]
     },
     "execution_count": 267,
     "metadata": {},
     "output_type": "execute_result"
    },
    {
     "data": {
      "image/png": "[encoded data removed]",
      "text/plain": [
       "<Figure size 432x288 with 1 Axes>"
      ]
     },
     "metadata": {
      "needs_background": "light"
     },
     "output_type": "display_data"
    }
   ],
   "source": [
    "sns.heatmap(tit_data.isnull(),yticklabels=False,cbar=False,cmap='cividis')"
   ]
  },
  {
   "cell_type": "code",
   "execution_count": 268,
   "metadata": {},
   "outputs": [
    {
     "name": "stdout",
     "output_type": "stream",
     "text": [
      "20% of missing values in the 'Age' feature.\n",
      "77% of missing values in the 'Cabin' feature.\n"
     ]
    }
   ],
   "source": [
    "print(\"{0:.0%}\".format(tit_data['Age'].isnull().value_counts()[1]/tit_data.shape[0]),\"of missing values in the 'Age' feature.\")\n",
    "print(\"{0:.0%}\".format(tit_data['Cabin'].isnull().value_counts()[1]/tit_data.shape[0]),\"of missing values in the 'Cabin' feature.\")"
   ]
  },
  {
   "cell_type": "markdown",
   "metadata": {},
   "source": [
    "We can see that the \"Cabin\" feature has a lot of missing values, we might consider dropping it.\n",
    "Regarding the \"Age\" feature, we might look into other solutions..."
   ]
  },
  {
   "cell_type": "code",
   "execution_count": 269,
   "metadata": {},
   "outputs": [],
   "source": [
    "tit_data_clean = tit_data.drop('Cabin',axis=1)"
   ]
  },
  {
   "cell_type": "code",
   "execution_count": 270,
   "metadata": {},
   "outputs": [
    {
     "data": {
      "text/html": [
       "<div>\n",
       "<style scoped>\n",
       "    .dataframe tbody tr th:only-of-type {\n",
       "        vertical-align: middle;\n",
       "    }\n",
       "\n",
       "    .dataframe tbody tr th {\n",
       "        vertical-align: top;\n",
       "    }\n",
       "\n",
       "    .dataframe thead th {\n",
       "        text-align: right;\n",
       "    }\n",
       "</style>\n",
       "<table border=\"1\" class=\"dataframe\">\n",
       "  <thead>\n",
       "    <tr style=\"text-align: right;\">\n",
       "      <th></th>\n",
       "      <th>PassengerId</th>\n",
       "      <th>Survived</th>\n",
       "      <th>Pclass</th>\n",
       "      <th>Name</th>\n",
       "      <th>Sex</th>\n",
       "      <th>Age</th>\n",
       "      <th>SibSp</th>\n",
       "      <th>Parch</th>\n",
       "      <th>Ticket</th>\n",
       "      <th>Fare</th>\n",
       "      <th>Embarked</th>\n",
       "    </tr>\n",
       "  </thead>\n",
       "  <tbody>\n",
       "    <tr>\n",
       "      <td>0</td>\n",
       "      <td>1</td>\n",
       "      <td>0</td>\n",
       "      <td>3</td>\n",
       "      <td>Braund, Mr. Owen Harris</td>\n",
       "      <td>male</td>\n",
       "      <td>22.0</td>\n",
       "      <td>1</td>\n",
       "      <td>0</td>\n",
       "      <td>A/5 21171</td>\n",
       "      <td>7.2500</td>\n",
       "      <td>S</td>\n",
       "    </tr>\n",
       "    <tr>\n",
       "      <td>1</td>\n",
       "      <td>2</td>\n",
       "      <td>1</td>\n",
       "      <td>1</td>\n",
       "      <td>Cumings, Mrs. John Bradley (Florence Briggs Th...</td>\n",
       "      <td>female</td>\n",
       "      <td>38.0</td>\n",
       "      <td>1</td>\n",
       "      <td>0</td>\n",
       "      <td>PC 17599</td>\n",
       "      <td>71.2833</td>\n",
       "      <td>C</td>\n",
       "    </tr>\n",
       "    <tr>\n",
       "      <td>2</td>\n",
       "      <td>3</td>\n",
       "      <td>1</td>\n",
       "      <td>3</td>\n",
       "      <td>Heikkinen, Miss. Laina</td>\n",
       "      <td>female</td>\n",
       "      <td>26.0</td>\n",
       "      <td>0</td>\n",
       "      <td>0</td>\n",
       "      <td>STON/O2. 3101282</td>\n",
       "      <td>7.9250</td>\n",
       "      <td>S</td>\n",
       "    </tr>\n",
       "    <tr>\n",
       "      <td>3</td>\n",
       "      <td>4</td>\n",
       "      <td>1</td>\n",
       "      <td>1</td>\n",
       "      <td>Futrelle, Mrs. Jacques Heath (Lily May Peel)</td>\n",
       "      <td>female</td>\n",
       "      <td>35.0</td>\n",
       "      <td>1</td>\n",
       "      <td>0</td>\n",
       "      <td>113803</td>\n",
       "      <td>53.1000</td>\n",
       "      <td>S</td>\n",
       "    </tr>\n",
       "    <tr>\n",
       "      <td>4</td>\n",
       "      <td>5</td>\n",
       "      <td>0</td>\n",
       "      <td>3</td>\n",
       "      <td>Allen, Mr. William Henry</td>\n",
       "      <td>male</td>\n",
       "      <td>35.0</td>\n",
       "      <td>0</td>\n",
       "      <td>0</td>\n",
       "      <td>373450</td>\n",
       "      <td>8.0500</td>\n",
       "      <td>S</td>\n",
       "    </tr>\n",
       "  </tbody>\n",
       "</table>\n",
       "</div>"
      ],
      "text/plain": [
       "   PassengerId  Survived  Pclass  \\\n",
       "0            1         0       3   \n",
       "1            2         1       1   \n",
       "2            3         1       3   \n",
       "3            4         1       1   \n",
       "4            5         0       3   \n",
       "\n",
       "                                                Name     Sex   Age  SibSp  \\\n",
       "0                            Braund, Mr. Owen Harris    male  22.0      1   \n",
       "1  Cumings, Mrs. John Bradley (Florence Briggs Th...  female  38.0      1   \n",
       "2                             Heikkinen, Miss. Laina  female  26.0      0   \n",
       "3       Futrelle, Mrs. Jacques Heath (Lily May Peel)  female  35.0      1   \n",
       "4                           Allen, Mr. William Henry    male  35.0      0   \n",
       "\n",
       "   Parch            Ticket     Fare Embarked  \n",
       "0      0         A/5 21171   7.2500        S  \n",
       "1      0          PC 17599  71.2833        C  \n",
       "2      0  STON/O2. 3101282   7.9250        S  \n",
       "3      0            113803  53.1000        S  \n",
       "4      0            373450   8.0500        S  "
      ]
     },
     "execution_count": 270,
     "metadata": {},
     "output_type": "execute_result"
    }
   ],
   "source": [
    "tit_data_clean.head()"
   ]
  },
  {
   "cell_type": "code",
   "execution_count": 271,
   "metadata": {},
   "outputs": [
    {
     "data": {
      "text/plain": [
       "count    714.000000\n",
       "mean      29.699118\n",
       "std       14.526497\n",
       "min        0.420000\n",
       "25%       20.125000\n",
       "50%       28.000000\n",
       "75%       38.000000\n",
       "max       80.000000\n",
       "Name: Age, dtype: float64"
      ]
     },
     "execution_count": 271,
     "metadata": {},
     "output_type": "execute_result"
    }
   ],
   "source": [
    "tit_data_clean['Age'].describe()"
   ]
  },
  {
   "cell_type": "markdown",
   "metadata": {},
   "source": [
    "I notice that \"mean\" and \"median\" are quite close. I assume both could be working solutions for filling missing values. I will choose \"mean\" to fill NAs.\n",
    "Let's figure out if there is a smarter way to impute the \"mean\"."
   ]
  },
  {
   "cell_type": "code",
   "execution_count": 272,
   "metadata": {},
   "outputs": [
    {
     "data": {
      "text/html": [
       "<div>\n",
       "<style scoped>\n",
       "    .dataframe tbody tr th:only-of-type {\n",
       "        vertical-align: middle;\n",
       "    }\n",
       "\n",
       "    .dataframe tbody tr th {\n",
       "        vertical-align: top;\n",
       "    }\n",
       "\n",
       "    .dataframe thead th {\n",
       "        text-align: right;\n",
       "    }\n",
       "</style>\n",
       "<table border=\"1\" class=\"dataframe\">\n",
       "  <thead>\n",
       "    <tr style=\"text-align: right;\">\n",
       "      <th></th>\n",
       "      <th>PassengerId</th>\n",
       "      <th>Survived</th>\n",
       "      <th>Pclass</th>\n",
       "      <th>Name</th>\n",
       "      <th>Sex</th>\n",
       "      <th>Age</th>\n",
       "      <th>SibSp</th>\n",
       "      <th>Parch</th>\n",
       "      <th>Ticket</th>\n",
       "      <th>Fare</th>\n",
       "      <th>Embarked</th>\n",
       "    </tr>\n",
       "  </thead>\n",
       "  <tbody>\n",
       "    <tr>\n",
       "      <td>0</td>\n",
       "      <td>1</td>\n",
       "      <td>0</td>\n",
       "      <td>3</td>\n",
       "      <td>Braund, Mr. Owen Harris</td>\n",
       "      <td>male</td>\n",
       "      <td>22.0</td>\n",
       "      <td>1</td>\n",
       "      <td>0</td>\n",
       "      <td>A/5 21171</td>\n",
       "      <td>7.2500</td>\n",
       "      <td>S</td>\n",
       "    </tr>\n",
       "    <tr>\n",
       "      <td>1</td>\n",
       "      <td>2</td>\n",
       "      <td>1</td>\n",
       "      <td>1</td>\n",
       "      <td>Cumings, Mrs. John Bradley (Florence Briggs Th...</td>\n",
       "      <td>female</td>\n",
       "      <td>38.0</td>\n",
       "      <td>1</td>\n",
       "      <td>0</td>\n",
       "      <td>PC 17599</td>\n",
       "      <td>71.2833</td>\n",
       "      <td>C</td>\n",
       "    </tr>\n",
       "    <tr>\n",
       "      <td>2</td>\n",
       "      <td>3</td>\n",
       "      <td>1</td>\n",
       "      <td>3</td>\n",
       "      <td>Heikkinen, Miss. Laina</td>\n",
       "      <td>female</td>\n",
       "      <td>26.0</td>\n",
       "      <td>0</td>\n",
       "      <td>0</td>\n",
       "      <td>STON/O2. 3101282</td>\n",
       "      <td>7.9250</td>\n",
       "      <td>S</td>\n",
       "    </tr>\n",
       "    <tr>\n",
       "      <td>3</td>\n",
       "      <td>4</td>\n",
       "      <td>1</td>\n",
       "      <td>1</td>\n",
       "      <td>Futrelle, Mrs. Jacques Heath (Lily May Peel)</td>\n",
       "      <td>female</td>\n",
       "      <td>35.0</td>\n",
       "      <td>1</td>\n",
       "      <td>0</td>\n",
       "      <td>113803</td>\n",
       "      <td>53.1000</td>\n",
       "      <td>S</td>\n",
       "    </tr>\n",
       "    <tr>\n",
       "      <td>4</td>\n",
       "      <td>5</td>\n",
       "      <td>0</td>\n",
       "      <td>3</td>\n",
       "      <td>Allen, Mr. William Henry</td>\n",
       "      <td>male</td>\n",
       "      <td>35.0</td>\n",
       "      <td>0</td>\n",
       "      <td>0</td>\n",
       "      <td>373450</td>\n",
       "      <td>8.0500</td>\n",
       "      <td>S</td>\n",
       "    </tr>\n",
       "  </tbody>\n",
       "</table>\n",
       "</div>"
      ],
      "text/plain": [
       "   PassengerId  Survived  Pclass  \\\n",
       "0            1         0       3   \n",
       "1            2         1       1   \n",
       "2            3         1       3   \n",
       "3            4         1       1   \n",
       "4            5         0       3   \n",
       "\n",
       "                                                Name     Sex   Age  SibSp  \\\n",
       "0                            Braund, Mr. Owen Harris    male  22.0      1   \n",
       "1  Cumings, Mrs. John Bradley (Florence Briggs Th...  female  38.0      1   \n",
       "2                             Heikkinen, Miss. Laina  female  26.0      0   \n",
       "3       Futrelle, Mrs. Jacques Heath (Lily May Peel)  female  35.0      1   \n",
       "4                           Allen, Mr. William Henry    male  35.0      0   \n",
       "\n",
       "   Parch            Ticket     Fare Embarked  \n",
       "0      0         A/5 21171   7.2500        S  \n",
       "1      0          PC 17599  71.2833        C  \n",
       "2      0  STON/O2. 3101282   7.9250        S  \n",
       "3      0            113803  53.1000        S  \n",
       "4      0            373450   8.0500        S  "
      ]
     },
     "execution_count": 272,
     "metadata": {},
     "output_type": "execute_result"
    }
   ],
   "source": [
    "tit_data_clean.head()"
   ]
  },
  {
   "cell_type": "code",
   "execution_count": 348,
   "metadata": {},
   "outputs": [
    {
     "data": {
      "text/plain": [
       "<matplotlib.axes._subplots.AxesSubplot at 0x1a5ce0e4d0>"
      ]
     },
     "execution_count": 348,
     "metadata": {},
     "output_type": "execute_result"
    },
    {
     "data": {
      "image/png": "[encoded data removed]",
      "text/plain": [
       "<Figure size 432x288 with 1 Axes>"
      ]
     },
     "metadata": {
      "needs_background": "light"
     },
     "output_type": "display_data"
    }
   ],
   "source": [
    "sns.boxplot(x='Pclass',y='Age',data=tit_data_clean,palette='cividis',saturation=0)"
   ]
  },
  {
   "cell_type": "markdown",
   "metadata": {},
   "source": [
    "It seems like passengers who were in a higher class tended to be older. We could take the age mean of each class and input these accordingly to the missing values."
   ]
  },
  {
   "cell_type": "code",
   "execution_count": 280,
   "metadata": {},
   "outputs": [
    {
     "data": {
      "text/plain": [
       "38.233440860215055"
      ]
     },
     "execution_count": 280,
     "metadata": {},
     "output_type": "execute_result"
    }
   ],
   "source": [
    "tit_data_clean[tit_data_clean['Pclass']==1]['Age'].mean()"
   ]
  },
  {
   "cell_type": "code",
   "execution_count": 281,
   "metadata": {},
   "outputs": [
    {
     "data": {
      "text/plain": [
       "29.87763005780347"
      ]
     },
     "execution_count": 281,
     "metadata": {},
     "output_type": "execute_result"
    }
   ],
   "source": [
    "tit_data_clean[tit_data_clean['Pclass']==2]['Age'].mean()"
   ]
  },
  {
   "cell_type": "code",
   "execution_count": 282,
   "metadata": {},
   "outputs": [
    {
     "data": {
      "text/plain": [
       "25.14061971830986"
      ]
     },
     "execution_count": 282,
     "metadata": {},
     "output_type": "execute_result"
    }
   ],
   "source": [
    "tit_data_clean[tit_data_clean['Pclass']==3]['Age'].mean()"
   ]
  },
  {
   "cell_type": "code",
   "execution_count": 283,
   "metadata": {},
   "outputs": [],
   "source": [
    "def impute_age(cols):\n",
    "    Age = cols[0]\n",
    "    Pclass = cols[1]\n",
    "    \n",
    "    if pd.isnull(Age):\n",
    "\n",
    "        if Pclass == 1:\n",
    "            return 38\n",
    "\n",
    "        elif Pclass == 2:\n",
    "            return 30\n",
    "\n",
    "        else:\n",
    "            return 25\n",
    "\n",
    "    else:\n",
    "        return Age"
   ]
  },
  {
   "cell_type": "code",
   "execution_count": 284,
   "metadata": {},
   "outputs": [],
   "source": [
    "tit_data_clean['Age'] = tit_data_clean[['Age','Pclass']].apply(impute_age,axis=1)"
   ]
  },
  {
   "cell_type": "code",
   "execution_count": 285,
   "metadata": {},
   "outputs": [],
   "source": [
    "#tit_data_clean['Age'].fillna(tit_data['Age'].mean(),inplace=True)"
   ]
  },
  {
   "cell_type": "code",
   "execution_count": 286,
   "metadata": {},
   "outputs": [
    {
     "data": {
      "text/plain": [
       "<matplotlib.axes._subplots.AxesSubplot at 0x1a2ea8c6d0>"
      ]
     },
     "execution_count": 286,
     "metadata": {},
     "output_type": "execute_result"
    },
    {
     "data": {
      "image/png": "[encoded data removed]",
      "text/plain": [
       "<Figure size 432x288 with 1 Axes>"
      ]
     },
     "metadata": {
      "needs_background": "light"
     },
     "output_type": "display_data"
    }
   ],
   "source": [
    "sns.heatmap(tit_data_clean.isnull(),yticklabels=False,cbar=False,cmap='cividis')"
   ]
  },
  {
   "cell_type": "markdown",
   "metadata": {},
   "source": [
    "That's it! We took care of null values."
   ]
  },
  {
   "cell_type": "markdown",
   "metadata": {},
   "source": [
    "# Exploratory Data Analysis (EDA)"
   ]
  },
  {
   "cell_type": "markdown",
   "metadata": {},
   "source": [
    "We might perform other steps of data cleaning during the EDA."
   ]
  },
  {
   "cell_type": "code",
   "execution_count": 287,
   "metadata": {
    "scrolled": true
   },
   "outputs": [
    {
     "data": {
      "text/html": [
       "<div>\n",
       "<style scoped>\n",
       "    .dataframe tbody tr th:only-of-type {\n",
       "        vertical-align: middle;\n",
       "    }\n",
       "\n",
       "    .dataframe tbody tr th {\n",
       "        vertical-align: top;\n",
       "    }\n",
       "\n",
       "    .dataframe thead th {\n",
       "        text-align: right;\n",
       "    }\n",
       "</style>\n",
       "<table border=\"1\" class=\"dataframe\">\n",
       "  <thead>\n",
       "    <tr style=\"text-align: right;\">\n",
       "      <th></th>\n",
       "      <th>PassengerId</th>\n",
       "      <th>Survived</th>\n",
       "      <th>Pclass</th>\n",
       "      <th>Name</th>\n",
       "      <th>Sex</th>\n",
       "      <th>Age</th>\n",
       "      <th>SibSp</th>\n",
       "      <th>Parch</th>\n",
       "      <th>Ticket</th>\n",
       "      <th>Fare</th>\n",
       "      <th>Embarked</th>\n",
       "    </tr>\n",
       "  </thead>\n",
       "  <tbody>\n",
       "    <tr>\n",
       "      <td>0</td>\n",
       "      <td>1</td>\n",
       "      <td>0</td>\n",
       "      <td>3</td>\n",
       "      <td>Braund, Mr. Owen Harris</td>\n",
       "      <td>male</td>\n",
       "      <td>22.0</td>\n",
       "      <td>1</td>\n",
       "      <td>0</td>\n",
       "      <td>A/5 21171</td>\n",
       "      <td>7.2500</td>\n",
       "      <td>S</td>\n",
       "    </tr>\n",
       "    <tr>\n",
       "      <td>1</td>\n",
       "      <td>2</td>\n",
       "      <td>1</td>\n",
       "      <td>1</td>\n",
       "      <td>Cumings, Mrs. John Bradley (Florence Briggs Th...</td>\n",
       "      <td>female</td>\n",
       "      <td>38.0</td>\n",
       "      <td>1</td>\n",
       "      <td>0</td>\n",
       "      <td>PC 17599</td>\n",
       "      <td>71.2833</td>\n",
       "      <td>C</td>\n",
       "    </tr>\n",
       "    <tr>\n",
       "      <td>2</td>\n",
       "      <td>3</td>\n",
       "      <td>1</td>\n",
       "      <td>3</td>\n",
       "      <td>Heikkinen, Miss. Laina</td>\n",
       "      <td>female</td>\n",
       "      <td>26.0</td>\n",
       "      <td>0</td>\n",
       "      <td>0</td>\n",
       "      <td>STON/O2. 3101282</td>\n",
       "      <td>7.9250</td>\n",
       "      <td>S</td>\n",
       "    </tr>\n",
       "    <tr>\n",
       "      <td>3</td>\n",
       "      <td>4</td>\n",
       "      <td>1</td>\n",
       "      <td>1</td>\n",
       "      <td>Futrelle, Mrs. Jacques Heath (Lily May Peel)</td>\n",
       "      <td>female</td>\n",
       "      <td>35.0</td>\n",
       "      <td>1</td>\n",
       "      <td>0</td>\n",
       "      <td>113803</td>\n",
       "      <td>53.1000</td>\n",
       "      <td>S</td>\n",
       "    </tr>\n",
       "    <tr>\n",
       "      <td>4</td>\n",
       "      <td>5</td>\n",
       "      <td>0</td>\n",
       "      <td>3</td>\n",
       "      <td>Allen, Mr. William Henry</td>\n",
       "      <td>male</td>\n",
       "      <td>35.0</td>\n",
       "      <td>0</td>\n",
       "      <td>0</td>\n",
       "      <td>373450</td>\n",
       "      <td>8.0500</td>\n",
       "      <td>S</td>\n",
       "    </tr>\n",
       "  </tbody>\n",
       "</table>\n",
       "</div>"
      ],
      "text/plain": [
       "   PassengerId  Survived  Pclass  \\\n",
       "0            1         0       3   \n",
       "1            2         1       1   \n",
       "2            3         1       3   \n",
       "3            4         1       1   \n",
       "4            5         0       3   \n",
       "\n",
       "                                                Name     Sex   Age  SibSp  \\\n",
       "0                            Braund, Mr. Owen Harris    male  22.0      1   \n",
       "1  Cumings, Mrs. John Bradley (Florence Briggs Th...  female  38.0      1   \n",
       "2                             Heikkinen, Miss. Laina  female  26.0      0   \n",
       "3       Futrelle, Mrs. Jacques Heath (Lily May Peel)  female  35.0      1   \n",
       "4                           Allen, Mr. William Henry    male  35.0      0   \n",
       "\n",
       "   Parch            Ticket     Fare Embarked  \n",
       "0      0         A/5 21171   7.2500        S  \n",
       "1      0          PC 17599  71.2833        C  \n",
       "2      0  STON/O2. 3101282   7.9250        S  \n",
       "3      0            113803  53.1000        S  \n",
       "4      0            373450   8.0500        S  "
      ]
     },
     "execution_count": 287,
     "metadata": {},
     "output_type": "execute_result"
    }
   ],
   "source": [
    "tit_data_clean.head()"
   ]
  },
  {
   "cell_type": "code",
   "execution_count": 358,
   "metadata": {},
   "outputs": [
    {
     "data": {
      "text/plain": [
       "<seaborn.axisgrid.PairGrid at 0x1a6de1ce90>"
      ]
     },
     "execution_count": 358,
     "metadata": {},
     "output_type": "execute_result"
    },
    {
     "data": {
      "image/png": "[encoded data removed]",
      "text/plain": [
       "<Figure size 1311.88x1260 with 56 Axes>"
      ]
     },
     "metadata": {
      "needs_background": "light"
     },
     "output_type": "display_data"
    }
   ],
   "source": [
    "sns.pairplot(tit_data_clean,hue=\"Survived\",plot_kws={'palette':'Dark2','alpha':1})"
   ]
  },
  {
   "cell_type": "markdown",
   "metadata": {},
   "source": [
    "I will have a look in more details at some numerical features."
   ]
  },
  {
   "cell_type": "markdown",
   "metadata": {},
   "source": [
    "<b> NUMERICAL FEATURES </b>"
   ]
  },
  {
   "cell_type": "markdown",
   "metadata": {},
   "source": [
    "<b><i> Age </i></b>"
   ]
  },
  {
   "cell_type": "code",
   "execution_count": 24,
   "metadata": {},
   "outputs": [
    {
     "data": {
      "text/html": [
       "<div>\n",
       "<style scoped>\n",
       "    .dataframe tbody tr th:only-of-type {\n",
       "        vertical-align: middle;\n",
       "    }\n",
       "\n",
       "    .dataframe tbody tr th {\n",
       "        vertical-align: top;\n",
       "    }\n",
       "\n",
       "    .dataframe thead th {\n",
       "        text-align: right;\n",
       "    }\n",
       "</style>\n",
       "<table border=\"1\" class=\"dataframe\">\n",
       "  <thead>\n",
       "    <tr style=\"text-align: right;\">\n",
       "      <th></th>\n",
       "      <th>PassengerId</th>\n",
       "      <th>Survived</th>\n",
       "      <th>Pclass</th>\n",
       "      <th>Name</th>\n",
       "      <th>Sex</th>\n",
       "      <th>Age</th>\n",
       "      <th>SibSp</th>\n",
       "      <th>Parch</th>\n",
       "      <th>Ticket</th>\n",
       "      <th>Fare</th>\n",
       "      <th>Embarked</th>\n",
       "    </tr>\n",
       "  </thead>\n",
       "  <tbody>\n",
       "    <tr>\n",
       "      <td>0</td>\n",
       "      <td>1</td>\n",
       "      <td>0</td>\n",
       "      <td>3</td>\n",
       "      <td>Braund, Mr. Owen Harris</td>\n",
       "      <td>male</td>\n",
       "      <td>22.0</td>\n",
       "      <td>1</td>\n",
       "      <td>0</td>\n",
       "      <td>A/5 21171</td>\n",
       "      <td>7.2500</td>\n",
       "      <td>S</td>\n",
       "    </tr>\n",
       "    <tr>\n",
       "      <td>1</td>\n",
       "      <td>2</td>\n",
       "      <td>1</td>\n",
       "      <td>1</td>\n",
       "      <td>Cumings, Mrs. John Bradley (Florence Briggs Th...</td>\n",
       "      <td>female</td>\n",
       "      <td>38.0</td>\n",
       "      <td>1</td>\n",
       "      <td>0</td>\n",
       "      <td>PC 17599</td>\n",
       "      <td>71.2833</td>\n",
       "      <td>C</td>\n",
       "    </tr>\n",
       "    <tr>\n",
       "      <td>2</td>\n",
       "      <td>3</td>\n",
       "      <td>1</td>\n",
       "      <td>3</td>\n",
       "      <td>Heikkinen, Miss. Laina</td>\n",
       "      <td>female</td>\n",
       "      <td>26.0</td>\n",
       "      <td>0</td>\n",
       "      <td>0</td>\n",
       "      <td>STON/O2. 3101282</td>\n",
       "      <td>7.9250</td>\n",
       "      <td>S</td>\n",
       "    </tr>\n",
       "    <tr>\n",
       "      <td>3</td>\n",
       "      <td>4</td>\n",
       "      <td>1</td>\n",
       "      <td>1</td>\n",
       "      <td>Futrelle, Mrs. Jacques Heath (Lily May Peel)</td>\n",
       "      <td>female</td>\n",
       "      <td>35.0</td>\n",
       "      <td>1</td>\n",
       "      <td>0</td>\n",
       "      <td>113803</td>\n",
       "      <td>53.1000</td>\n",
       "      <td>S</td>\n",
       "    </tr>\n",
       "    <tr>\n",
       "      <td>4</td>\n",
       "      <td>5</td>\n",
       "      <td>0</td>\n",
       "      <td>3</td>\n",
       "      <td>Allen, Mr. William Henry</td>\n",
       "      <td>male</td>\n",
       "      <td>35.0</td>\n",
       "      <td>0</td>\n",
       "      <td>0</td>\n",
       "      <td>373450</td>\n",
       "      <td>8.0500</td>\n",
       "      <td>S</td>\n",
       "    </tr>\n",
       "  </tbody>\n",
       "</table>\n",
       "</div>"
      ],
      "text/plain": [
       "   PassengerId  Survived  Pclass  \\\n",
       "0            1         0       3   \n",
       "1            2         1       1   \n",
       "2            3         1       3   \n",
       "3            4         1       1   \n",
       "4            5         0       3   \n",
       "\n",
       "                                                Name     Sex   Age  SibSp  \\\n",
       "0                            Braund, Mr. Owen Harris    male  22.0      1   \n",
       "1  Cumings, Mrs. John Bradley (Florence Briggs Th...  female  38.0      1   \n",
       "2                             Heikkinen, Miss. Laina  female  26.0      0   \n",
       "3       Futrelle, Mrs. Jacques Heath (Lily May Peel)  female  35.0      1   \n",
       "4                           Allen, Mr. William Henry    male  35.0      0   \n",
       "\n",
       "   Parch            Ticket     Fare Embarked  \n",
       "0      0         A/5 21171   7.2500        S  \n",
       "1      0          PC 17599  71.2833        C  \n",
       "2      0  STON/O2. 3101282   7.9250        S  \n",
       "3      0            113803  53.1000        S  \n",
       "4      0            373450   8.0500        S  "
      ]
     },
     "execution_count": 24,
     "metadata": {},
     "output_type": "execute_result"
    }
   ],
   "source": [
    "tit_data_clean.head()"
   ]
  },
  {
   "cell_type": "code",
   "execution_count": 359,
   "metadata": {},
   "outputs": [
    {
     "data": {
      "text/plain": [
       "<matplotlib.axes._subplots.AxesSubplot at 0x1a6f643e10>"
      ]
     },
     "execution_count": 359,
     "metadata": {},
     "output_type": "execute_result"
    },
    {
     "data": {
      "image/png": "[encoded data removed]",
      "text/plain": [
       "<Figure size 432x288 with 1 Axes>"
      ]
     },
     "metadata": {
      "needs_background": "light"
     },
     "output_type": "display_data"
    }
   ],
   "source": [
    "sns.distplot(tit_data_clean['Age'],kde=False,bins=50,hist_kws={'color':'black','alpha':0.8})"
   ]
  },
  {
   "cell_type": "markdown",
   "metadata": {},
   "source": [
    "Having a look at this chart, I would like to know if the age had any impact on being a survivor or not. Therefore, I will transform these numerical values into categorical values in order to determine if any category was spared more than another."
   ]
  },
  {
   "cell_type": "code",
   "execution_count": 361,
   "metadata": {},
   "outputs": [
    {
     "name": "stderr",
     "output_type": "stream",
     "text": [
      "/Users/salim/opt/anaconda3/lib/python3.7/site-packages/ipykernel_launcher.py:8: SettingWithCopyWarning: \n",
      "A value is trying to be set on a copy of a slice from a DataFrame\n",
      "\n",
      "See the caveats in the documentation: http://pandas.pydata.org/pandas-docs/stable/user_guide/indexing.html#returning-a-view-versus-a-copy\n",
      "  \n",
      "/Users/salim/opt/anaconda3/lib/python3.7/site-packages/pandas/core/indexing.py:205: SettingWithCopyWarning: \n",
      "A value is trying to be set on a copy of a slice from a DataFrame\n",
      "\n",
      "See the caveats in the documentation: http://pandas.pydata.org/pandas-docs/stable/user_guide/indexing.html#returning-a-view-versus-a-copy\n",
      "  self._setitem_with_indexer(indexer, value)\n",
      "/Users/salim/opt/anaconda3/lib/python3.7/site-packages/ipykernel_launcher.py:10: SettingWithCopyWarning: \n",
      "A value is trying to be set on a copy of a slice from a DataFrame\n",
      "\n",
      "See the caveats in the documentation: http://pandas.pydata.org/pandas-docs/stable/user_guide/indexing.html#returning-a-view-versus-a-copy\n",
      "  # Remove the CWD from sys.path while we load stuff.\n",
      "/Users/salim/opt/anaconda3/lib/python3.7/site-packages/ipykernel_launcher.py:14: SettingWithCopyWarning: \n",
      "A value is trying to be set on a copy of a slice from a DataFrame\n",
      "\n",
      "See the caveats in the documentation: http://pandas.pydata.org/pandas-docs/stable/user_guide/indexing.html#returning-a-view-versus-a-copy\n",
      "  \n",
      "/Users/salim/opt/anaconda3/lib/python3.7/site-packages/ipykernel_launcher.py:4: SettingWithCopyWarning: \n",
      "A value is trying to be set on a copy of a slice from a DataFrame\n",
      "\n",
      "See the caveats in the documentation: http://pandas.pydata.org/pandas-docs/stable/user_guide/indexing.html#returning-a-view-versus-a-copy\n",
      "  after removing the cwd from sys.path.\n",
      "/Users/salim/opt/anaconda3/lib/python3.7/site-packages/ipykernel_launcher.py:6: SettingWithCopyWarning: \n",
      "A value is trying to be set on a copy of a slice from a DataFrame\n",
      "\n",
      "See the caveats in the documentation: http://pandas.pydata.org/pandas-docs/stable/user_guide/indexing.html#returning-a-view-versus-a-copy\n",
      "  \n",
      "/Users/salim/opt/anaconda3/lib/python3.7/site-packages/ipykernel_launcher.py:16: SettingWithCopyWarning: \n",
      "A value is trying to be set on a copy of a slice from a DataFrame\n",
      "\n",
      "See the caveats in the documentation: http://pandas.pydata.org/pandas-docs/stable/user_guide/indexing.html#returning-a-view-versus-a-copy\n",
      "  app.launch_new_instance()\n",
      "/Users/salim/opt/anaconda3/lib/python3.7/site-packages/ipykernel_launcher.py:12: SettingWithCopyWarning: \n",
      "A value is trying to be set on a copy of a slice from a DataFrame\n",
      "\n",
      "See the caveats in the documentation: http://pandas.pydata.org/pandas-docs/stable/user_guide/indexing.html#returning-a-view-versus-a-copy\n",
      "  if sys.path[0] == '':\n",
      "/Users/salim/opt/anaconda3/lib/python3.7/site-packages/ipykernel_launcher.py:18: SettingWithCopyWarning: \n",
      "A value is trying to be set on a copy of a slice from a DataFrame\n",
      "\n",
      "See the caveats in the documentation: http://pandas.pydata.org/pandas-docs/stable/user_guide/indexing.html#returning-a-view-versus-a-copy\n"
     ]
    }
   ],
   "source": [
    "tit_data_clean['Age_cat']=0\n",
    "for i in range(0,tit_data_clean.shape[0]):\n",
    "    if tit_data_clean['Age'][i]<=10:\n",
    "        tit_data_clean['Age_cat'][i]='0-10'\n",
    "    elif tit_data_clean['Age'][i]>10 and tit_data_clean['Age'][i]<=20:\n",
    "        tit_data_clean['Age_cat'][i]='11-20'\n",
    "    elif tit_data_clean['Age'][i]>20 and tit_data_clean['Age'][i]<=30:\n",
    "        tit_data_clean['Age_cat'][i]='21-30'\n",
    "    elif tit_data_clean['Age'][i]>30 and tit_data_clean['Age'][i]<=40:\n",
    "        tit_data_clean['Age_cat'][i]='31-40'\n",
    "    elif tit_data_clean['Age'][i]>40 and tit_data_clean['Age'][i]<=50:\n",
    "        tit_data_clean['Age_cat'][i]='41-50'       \n",
    "    elif tit_data_clean['Age'][i]>50 and tit_data_clean['Age'][i]<=60:\n",
    "        tit_data_clean['Age_cat'][i]='51-60'\n",
    "    elif tit_data_clean['Age'][i]>60 and tit_data_clean['Age'][i]<=70:\n",
    "        tit_data_clean['Age_cat'][i]='61-70'\n",
    "    elif tit_data_clean['Age'][i]>70 and tit_data_clean['Age'][i]<=80:\n",
    "        tit_data_clean['Age_cat'][i]='71-80'"
   ]
  },
  {
   "cell_type": "code",
   "execution_count": 362,
   "metadata": {},
   "outputs": [
    {
     "data": {
      "text/plain": [
       "<seaborn.axisgrid.FacetGrid at 0x1a2eb721d0>"
      ]
     },
     "execution_count": 362,
     "metadata": {},
     "output_type": "execute_result"
    },
    {
     "data": {
      "image/png": "[encoded data removed]",
      "text/plain": [
       "<Figure size 360x360 with 1 Axes>"
      ]
     },
     "metadata": {
      "needs_background": "light"
     },
     "output_type": "display_data"
    }
   ],
   "source": [
    "sns.catplot(x='Age_cat',data=tit_data_clean,kind='count',order=['0-10','11-20','21-30','31-40','41-50','51-60','61-70','71-80'],palette='cividis')"
   ]
  },
  {
   "cell_type": "markdown",
   "metadata": {},
   "source": [
    "Most passengers were aged between 21 and 30 y.o."
   ]
  },
  {
   "cell_type": "code",
   "execution_count": 363,
   "metadata": {},
   "outputs": [
    {
     "data": {
      "text/plain": [
       "<seaborn.axisgrid.FacetGrid at 0x1a70c76ad0>"
      ]
     },
     "execution_count": 363,
     "metadata": {},
     "output_type": "execute_result"
    },
    {
     "data": {
      "image/png": "[encoded data removed]",
      "text/plain": [
       "<Figure size 360x360 with 1 Axes>"
      ]
     },
     "metadata": {
      "needs_background": "light"
     },
     "output_type": "display_data"
    }
   ],
   "source": [
    "sns.catplot(x='Age_cat',y='Survived',data=tit_data_clean,kind='bar',order=['0-10','11-20','21-30','31-40','41-50','51-60','61-70','71-80'],palette='cividis')"
   ]
  },
  {
   "cell_type": "markdown",
   "metadata": {},
   "source": [
    "On average, it looks like babies and kids had more chance to survive."
   ]
  },
  {
   "cell_type": "code",
   "execution_count": 364,
   "metadata": {},
   "outputs": [
    {
     "data": {
      "text/plain": [
       "<seaborn.axisgrid.FacetGrid at 0x1a70c76710>"
      ]
     },
     "execution_count": 364,
     "metadata": {},
     "output_type": "execute_result"
    },
    {
     "data": {
      "image/png": "[encoded data removed]",
      "text/plain": [
       "<Figure size 430.5x360 with 1 Axes>"
      ]
     },
     "metadata": {
      "needs_background": "light"
     },
     "output_type": "display_data"
    }
   ],
   "source": [
    "sns.catplot(x='Age_cat',y='Survived',data=tit_data_clean,kind='bar',hue='Sex',order=['0-10','11-20','21-30','31-40','41-50','51-60','61-70','71-80'],palette='cividis')"
   ]
  },
  {
   "cell_type": "markdown",
   "metadata": {},
   "source": [
    "On this chart we see that on average females between 61 and 70 y.o were more likely to survive than the other categories. For males, it is clear that young kids between 0 and 10 y.o were more likely to survive."
   ]
  },
  {
   "cell_type": "markdown",
   "metadata": {},
   "source": [
    "<b><i> SibSp + Parch </i></b>"
   ]
  },
  {
   "cell_type": "code",
   "execution_count": 365,
   "metadata": {},
   "outputs": [
    {
     "data": {
      "text/html": [
       "<div>\n",
       "<style scoped>\n",
       "    .dataframe tbody tr th:only-of-type {\n",
       "        vertical-align: middle;\n",
       "    }\n",
       "\n",
       "    .dataframe tbody tr th {\n",
       "        vertical-align: top;\n",
       "    }\n",
       "\n",
       "    .dataframe thead th {\n",
       "        text-align: right;\n",
       "    }\n",
       "</style>\n",
       "<table border=\"1\" class=\"dataframe\">\n",
       "  <thead>\n",
       "    <tr style=\"text-align: right;\">\n",
       "      <th></th>\n",
       "      <th>PassengerId</th>\n",
       "      <th>Survived</th>\n",
       "      <th>Pclass</th>\n",
       "      <th>Name</th>\n",
       "      <th>Sex</th>\n",
       "      <th>Age</th>\n",
       "      <th>SibSp</th>\n",
       "      <th>Parch</th>\n",
       "      <th>Ticket</th>\n",
       "      <th>Fare</th>\n",
       "      <th>Embarked</th>\n",
       "      <th>Age_cat</th>\n",
       "    </tr>\n",
       "  </thead>\n",
       "  <tbody>\n",
       "    <tr>\n",
       "      <td>0</td>\n",
       "      <td>1</td>\n",
       "      <td>0</td>\n",
       "      <td>3</td>\n",
       "      <td>Braund, Mr. Owen Harris</td>\n",
       "      <td>male</td>\n",
       "      <td>22.0</td>\n",
       "      <td>1</td>\n",
       "      <td>0</td>\n",
       "      <td>A/5 21171</td>\n",
       "      <td>7.2500</td>\n",
       "      <td>S</td>\n",
       "      <td>21-30</td>\n",
       "    </tr>\n",
       "    <tr>\n",
       "      <td>1</td>\n",
       "      <td>2</td>\n",
       "      <td>1</td>\n",
       "      <td>1</td>\n",
       "      <td>Cumings, Mrs. John Bradley (Florence Briggs Th...</td>\n",
       "      <td>female</td>\n",
       "      <td>38.0</td>\n",
       "      <td>1</td>\n",
       "      <td>0</td>\n",
       "      <td>PC 17599</td>\n",
       "      <td>71.2833</td>\n",
       "      <td>C</td>\n",
       "      <td>31-40</td>\n",
       "    </tr>\n",
       "    <tr>\n",
       "      <td>2</td>\n",
       "      <td>3</td>\n",
       "      <td>1</td>\n",
       "      <td>3</td>\n",
       "      <td>Heikkinen, Miss. Laina</td>\n",
       "      <td>female</td>\n",
       "      <td>26.0</td>\n",
       "      <td>0</td>\n",
       "      <td>0</td>\n",
       "      <td>STON/O2. 3101282</td>\n",
       "      <td>7.9250</td>\n",
       "      <td>S</td>\n",
       "      <td>21-30</td>\n",
       "    </tr>\n",
       "    <tr>\n",
       "      <td>3</td>\n",
       "      <td>4</td>\n",
       "      <td>1</td>\n",
       "      <td>1</td>\n",
       "      <td>Futrelle, Mrs. Jacques Heath (Lily May Peel)</td>\n",
       "      <td>female</td>\n",
       "      <td>35.0</td>\n",
       "      <td>1</td>\n",
       "      <td>0</td>\n",
       "      <td>113803</td>\n",
       "      <td>53.1000</td>\n",
       "      <td>S</td>\n",
       "      <td>31-40</td>\n",
       "    </tr>\n",
       "    <tr>\n",
       "      <td>4</td>\n",
       "      <td>5</td>\n",
       "      <td>0</td>\n",
       "      <td>3</td>\n",
       "      <td>Allen, Mr. William Henry</td>\n",
       "      <td>male</td>\n",
       "      <td>35.0</td>\n",
       "      <td>0</td>\n",
       "      <td>0</td>\n",
       "      <td>373450</td>\n",
       "      <td>8.0500</td>\n",
       "      <td>S</td>\n",
       "      <td>31-40</td>\n",
       "    </tr>\n",
       "  </tbody>\n",
       "</table>\n",
       "</div>"
      ],
      "text/plain": [
       "   PassengerId  Survived  Pclass  \\\n",
       "0            1         0       3   \n",
       "1            2         1       1   \n",
       "2            3         1       3   \n",
       "3            4         1       1   \n",
       "4            5         0       3   \n",
       "\n",
       "                                                Name     Sex   Age  SibSp  \\\n",
       "0                            Braund, Mr. Owen Harris    male  22.0      1   \n",
       "1  Cumings, Mrs. John Bradley (Florence Briggs Th...  female  38.0      1   \n",
       "2                             Heikkinen, Miss. Laina  female  26.0      0   \n",
       "3       Futrelle, Mrs. Jacques Heath (Lily May Peel)  female  35.0      1   \n",
       "4                           Allen, Mr. William Henry    male  35.0      0   \n",
       "\n",
       "   Parch            Ticket     Fare Embarked Age_cat  \n",
       "0      0         A/5 21171   7.2500        S   21-30  \n",
       "1      0          PC 17599  71.2833        C   31-40  \n",
       "2      0  STON/O2. 3101282   7.9250        S   21-30  \n",
       "3      0            113803  53.1000        S   31-40  \n",
       "4      0            373450   8.0500        S   31-40  "
      ]
     },
     "execution_count": 365,
     "metadata": {},
     "output_type": "execute_result"
    }
   ],
   "source": [
    "tit_data_clean.head()"
   ]
  },
  {
   "cell_type": "markdown",
   "metadata": {},
   "source": [
    "As 'SibSp' and 'Parch' are related, I will try to create a new feature called 'Family size'. I will then visualize this new feature and determine if larger/smaller families had more chance to survive."
   ]
  },
  {
   "cell_type": "code",
   "execution_count": 366,
   "metadata": {},
   "outputs": [],
   "source": [
    "tit_data_clean['Family Size'] = tit_data_clean['SibSp'] + tit_data_clean['Parch']"
   ]
  },
  {
   "cell_type": "code",
   "execution_count": 367,
   "metadata": {},
   "outputs": [
    {
     "name": "stderr",
     "output_type": "stream",
     "text": [
      "/Users/salim/opt/anaconda3/lib/python3.7/site-packages/seaborn/axisgrid.py:715: UserWarning: Using the countplot function without specifying `order` is likely to produce an incorrect plot.\n",
      "  warnings.warn(warning)\n"
     ]
    },
    {
     "data": {
      "text/plain": [
       "<seaborn.axisgrid.FacetGrid at 0x1a70e22850>"
      ]
     },
     "execution_count": 367,
     "metadata": {},
     "output_type": "execute_result"
    },
    {
     "data": {
      "image/png": "[encoded data removed]",
      "text/plain": [
       "<Figure size 771.875x360 with 2 Axes>"
      ]
     },
     "metadata": {
      "needs_background": "light"
     },
     "output_type": "display_data"
    }
   ],
   "source": [
    "sns.FacetGrid(tit_data_clean,col='Sex',hue='Survived',height=5,palette='cividis').map(sns.countplot,'Family Size').add_legend()"
   ]
  },
  {
   "cell_type": "markdown",
   "metadata": {},
   "source": [
    "These two graphs are very insightful:\n",
    "- On the one hand, all females survived if they were either alone, or having a family between 1 and 3 people.\n",
    "- On the other hand, males were less likely to survive if they were alone or having a family of 1 person (spouse?). Between 2 and 4 persons in the family, they had more chance to survive."
   ]
  },
  {
   "cell_type": "markdown",
   "metadata": {},
   "source": [
    "<b><i> Fare </i></b>"
   ]
  },
  {
   "cell_type": "code",
   "execution_count": 368,
   "metadata": {},
   "outputs": [
    {
     "data": {
      "text/html": [
       "<div>\n",
       "<style scoped>\n",
       "    .dataframe tbody tr th:only-of-type {\n",
       "        vertical-align: middle;\n",
       "    }\n",
       "\n",
       "    .dataframe tbody tr th {\n",
       "        vertical-align: top;\n",
       "    }\n",
       "\n",
       "    .dataframe thead th {\n",
       "        text-align: right;\n",
       "    }\n",
       "</style>\n",
       "<table border=\"1\" class=\"dataframe\">\n",
       "  <thead>\n",
       "    <tr style=\"text-align: right;\">\n",
       "      <th></th>\n",
       "      <th>PassengerId</th>\n",
       "      <th>Survived</th>\n",
       "      <th>Pclass</th>\n",
       "      <th>Name</th>\n",
       "      <th>Sex</th>\n",
       "      <th>Age</th>\n",
       "      <th>SibSp</th>\n",
       "      <th>Parch</th>\n",
       "      <th>Ticket</th>\n",
       "      <th>Fare</th>\n",
       "      <th>Embarked</th>\n",
       "      <th>Age_cat</th>\n",
       "      <th>Family Size</th>\n",
       "    </tr>\n",
       "  </thead>\n",
       "  <tbody>\n",
       "    <tr>\n",
       "      <td>0</td>\n",
       "      <td>1</td>\n",
       "      <td>0</td>\n",
       "      <td>3</td>\n",
       "      <td>Braund, Mr. Owen Harris</td>\n",
       "      <td>male</td>\n",
       "      <td>22.0</td>\n",
       "      <td>1</td>\n",
       "      <td>0</td>\n",
       "      <td>A/5 21171</td>\n",
       "      <td>7.2500</td>\n",
       "      <td>S</td>\n",
       "      <td>21-30</td>\n",
       "      <td>1</td>\n",
       "    </tr>\n",
       "    <tr>\n",
       "      <td>1</td>\n",
       "      <td>2</td>\n",
       "      <td>1</td>\n",
       "      <td>1</td>\n",
       "      <td>Cumings, Mrs. John Bradley (Florence Briggs Th...</td>\n",
       "      <td>female</td>\n",
       "      <td>38.0</td>\n",
       "      <td>1</td>\n",
       "      <td>0</td>\n",
       "      <td>PC 17599</td>\n",
       "      <td>71.2833</td>\n",
       "      <td>C</td>\n",
       "      <td>31-40</td>\n",
       "      <td>1</td>\n",
       "    </tr>\n",
       "    <tr>\n",
       "      <td>2</td>\n",
       "      <td>3</td>\n",
       "      <td>1</td>\n",
       "      <td>3</td>\n",
       "      <td>Heikkinen, Miss. Laina</td>\n",
       "      <td>female</td>\n",
       "      <td>26.0</td>\n",
       "      <td>0</td>\n",
       "      <td>0</td>\n",
       "      <td>STON/O2. 3101282</td>\n",
       "      <td>7.9250</td>\n",
       "      <td>S</td>\n",
       "      <td>21-30</td>\n",
       "      <td>0</td>\n",
       "    </tr>\n",
       "    <tr>\n",
       "      <td>3</td>\n",
       "      <td>4</td>\n",
       "      <td>1</td>\n",
       "      <td>1</td>\n",
       "      <td>Futrelle, Mrs. Jacques Heath (Lily May Peel)</td>\n",
       "      <td>female</td>\n",
       "      <td>35.0</td>\n",
       "      <td>1</td>\n",
       "      <td>0</td>\n",
       "      <td>113803</td>\n",
       "      <td>53.1000</td>\n",
       "      <td>S</td>\n",
       "      <td>31-40</td>\n",
       "      <td>1</td>\n",
       "    </tr>\n",
       "    <tr>\n",
       "      <td>4</td>\n",
       "      <td>5</td>\n",
       "      <td>0</td>\n",
       "      <td>3</td>\n",
       "      <td>Allen, Mr. William Henry</td>\n",
       "      <td>male</td>\n",
       "      <td>35.0</td>\n",
       "      <td>0</td>\n",
       "      <td>0</td>\n",
       "      <td>373450</td>\n",
       "      <td>8.0500</td>\n",
       "      <td>S</td>\n",
       "      <td>31-40</td>\n",
       "      <td>0</td>\n",
       "    </tr>\n",
       "  </tbody>\n",
       "</table>\n",
       "</div>"
      ],
      "text/plain": [
       "   PassengerId  Survived  Pclass  \\\n",
       "0            1         0       3   \n",
       "1            2         1       1   \n",
       "2            3         1       3   \n",
       "3            4         1       1   \n",
       "4            5         0       3   \n",
       "\n",
       "                                                Name     Sex   Age  SibSp  \\\n",
       "0                            Braund, Mr. Owen Harris    male  22.0      1   \n",
       "1  Cumings, Mrs. John Bradley (Florence Briggs Th...  female  38.0      1   \n",
       "2                             Heikkinen, Miss. Laina  female  26.0      0   \n",
       "3       Futrelle, Mrs. Jacques Heath (Lily May Peel)  female  35.0      1   \n",
       "4                           Allen, Mr. William Henry    male  35.0      0   \n",
       "\n",
       "   Parch            Ticket     Fare Embarked Age_cat  Family Size  \n",
       "0      0         A/5 21171   7.2500        S   21-30            1  \n",
       "1      0          PC 17599  71.2833        C   31-40            1  \n",
       "2      0  STON/O2. 3101282   7.9250        S   21-30            0  \n",
       "3      0            113803  53.1000        S   31-40            1  \n",
       "4      0            373450   8.0500        S   31-40            0  "
      ]
     },
     "execution_count": 368,
     "metadata": {},
     "output_type": "execute_result"
    }
   ],
   "source": [
    "tit_data_clean.head()"
   ]
  },
  {
   "cell_type": "code",
   "execution_count": 380,
   "metadata": {},
   "outputs": [
    {
     "data": {
      "text/plain": [
       "<seaborn.axisgrid.FacetGrid at 0x1a73c7c310>"
      ]
     },
     "execution_count": 380,
     "metadata": {},
     "output_type": "execute_result"
    },
    {
     "data": {
      "image/png": "[encoded data removed]",
      "text/plain": [
       "<Figure size 728x720 with 4 Axes>"
      ]
     },
     "metadata": {
      "needs_background": "light"
     },
     "output_type": "display_data"
    }
   ],
   "source": [
    "sns.FacetGrid(tit_data_clean,row='Survived',col='Sex',height=5).map(sns.distplot,'Fare',kde=False,hist_kws={'color':'black','alpha':0.8}).add_legend()"
   ]
  },
  {
   "cell_type": "markdown",
   "metadata": {},
   "source": [
    "We notice here that the \"Fare\" data looks more spread if passengers survived."
   ]
  },
  {
   "cell_type": "code",
   "execution_count": 381,
   "metadata": {},
   "outputs": [
    {
     "name": "stdout",
     "output_type": "stream",
     "text": [
      "Mean fare of men who survived: 40.82148440366974\n",
      "Mean fare of women who survived: 51.93857339055791\n",
      "Mean fare of men who did not survive: 21.960992948717944\n",
      "Mean fare of women who did not survive: 23.02438518518519\n"
     ]
    }
   ],
   "source": [
    "print('Mean fare of men who survived:',tit_data_clean[(tit_data_clean['Survived']==1) & (tit_data_clean['Sex']=='male')]['Fare'].mean())\n",
    "print('Mean fare of women who survived:',tit_data_clean[(tit_data_clean['Survived']==1) & (tit_data_clean['Sex']=='female')]['Fare'].mean())\n",
    "print('Mean fare of men who did not survive:',tit_data_clean[(tit_data_clean['Survived']==0) & (tit_data_clean['Sex']=='male')]['Fare'].mean())\n",
    "print('Mean fare of women who did not survive:',tit_data_clean[(tit_data_clean['Survived']==0) & (tit_data_clean['Sex']=='female')]['Fare'].mean())"
   ]
  },
  {
   "cell_type": "markdown",
   "metadata": {},
   "source": [
    "Looking at the mean for each category, it is quite clear that men and women who survived had on average a higher fare than those who did not survive."
   ]
  },
  {
   "cell_type": "markdown",
   "metadata": {},
   "source": [
    "I will now look into categorical features."
   ]
  },
  {
   "cell_type": "markdown",
   "metadata": {},
   "source": [
    "<b> CATEGORICAL FEATURES </b>"
   ]
  },
  {
   "cell_type": "markdown",
   "metadata": {},
   "source": [
    "<b><i> Sex </i></b>"
   ]
  },
  {
   "cell_type": "code",
   "execution_count": 382,
   "metadata": {},
   "outputs": [
    {
     "name": "stdout",
     "output_type": "stream",
     "text": [
      "65% of passengers are male.\n",
      "35% of passengers are female.\n"
     ]
    }
   ],
   "source": [
    "print(\"{0:.0%}\".format(tit_data_clean['Sex'].value_counts()[0]/tit_data.shape[0]),\"of passengers are male.\")\n",
    "print(\"{0:.0%}\".format(tit_data_clean['Sex'].value_counts()[1]/tit_data.shape[0]),\"of passengers are female.\")"
   ]
  },
  {
   "cell_type": "code",
   "execution_count": 383,
   "metadata": {},
   "outputs": [
    {
     "data": {
      "text/plain": [
       "<seaborn.axisgrid.FacetGrid at 0x1a7496de50>"
      ]
     },
     "execution_count": 383,
     "metadata": {},
     "output_type": "execute_result"
    },
    {
     "data": {
      "image/png": "[encoded data removed]",
      "text/plain": [
       "<Figure size 402.375x360 with 1 Axes>"
      ]
     },
     "metadata": {
      "needs_background": "light"
     },
     "output_type": "display_data"
    }
   ],
   "source": [
    "sns.catplot(x='Sex',y='Survived',data=tit_data_clean,kind='bar',hue=\"Pclass\",palette='cividis')"
   ]
  },
  {
   "cell_type": "markdown",
   "metadata": {},
   "source": [
    "There are two main insights here:\n",
    "- Males are on average less likely to survive than females\n",
    "- Third classes are less likely to survive than the others (huge gap between second and third class in female category)\n",
    "<p>&nbsp;</p>\n",
    "<i> Even women from third class were more likely to survive than men from first class. </i>\n",
    "\n",
    "We can imagine that \"Sex\" and \"Pclass\" will be important features for our model."
   ]
  },
  {
   "cell_type": "markdown",
   "metadata": {},
   "source": [
    "<b><i> Embarked </i></b>"
   ]
  },
  {
   "cell_type": "code",
   "execution_count": 384,
   "metadata": {},
   "outputs": [
    {
     "data": {
      "text/html": [
       "<div>\n",
       "<style scoped>\n",
       "    .dataframe tbody tr th:only-of-type {\n",
       "        vertical-align: middle;\n",
       "    }\n",
       "\n",
       "    .dataframe tbody tr th {\n",
       "        vertical-align: top;\n",
       "    }\n",
       "\n",
       "    .dataframe thead th {\n",
       "        text-align: right;\n",
       "    }\n",
       "</style>\n",
       "<table border=\"1\" class=\"dataframe\">\n",
       "  <thead>\n",
       "    <tr style=\"text-align: right;\">\n",
       "      <th></th>\n",
       "      <th>PassengerId</th>\n",
       "      <th>Survived</th>\n",
       "      <th>Pclass</th>\n",
       "      <th>Name</th>\n",
       "      <th>Sex</th>\n",
       "      <th>Age</th>\n",
       "      <th>SibSp</th>\n",
       "      <th>Parch</th>\n",
       "      <th>Ticket</th>\n",
       "      <th>Fare</th>\n",
       "      <th>Embarked</th>\n",
       "      <th>Age_cat</th>\n",
       "      <th>Family Size</th>\n",
       "    </tr>\n",
       "  </thead>\n",
       "  <tbody>\n",
       "    <tr>\n",
       "      <td>0</td>\n",
       "      <td>1</td>\n",
       "      <td>0</td>\n",
       "      <td>3</td>\n",
       "      <td>Braund, Mr. Owen Harris</td>\n",
       "      <td>male</td>\n",
       "      <td>22.0</td>\n",
       "      <td>1</td>\n",
       "      <td>0</td>\n",
       "      <td>A/5 21171</td>\n",
       "      <td>7.2500</td>\n",
       "      <td>S</td>\n",
       "      <td>21-30</td>\n",
       "      <td>1</td>\n",
       "    </tr>\n",
       "    <tr>\n",
       "      <td>1</td>\n",
       "      <td>2</td>\n",
       "      <td>1</td>\n",
       "      <td>1</td>\n",
       "      <td>Cumings, Mrs. John Bradley (Florence Briggs Th...</td>\n",
       "      <td>female</td>\n",
       "      <td>38.0</td>\n",
       "      <td>1</td>\n",
       "      <td>0</td>\n",
       "      <td>PC 17599</td>\n",
       "      <td>71.2833</td>\n",
       "      <td>C</td>\n",
       "      <td>31-40</td>\n",
       "      <td>1</td>\n",
       "    </tr>\n",
       "    <tr>\n",
       "      <td>2</td>\n",
       "      <td>3</td>\n",
       "      <td>1</td>\n",
       "      <td>3</td>\n",
       "      <td>Heikkinen, Miss. Laina</td>\n",
       "      <td>female</td>\n",
       "      <td>26.0</td>\n",
       "      <td>0</td>\n",
       "      <td>0</td>\n",
       "      <td>STON/O2. 3101282</td>\n",
       "      <td>7.9250</td>\n",
       "      <td>S</td>\n",
       "      <td>21-30</td>\n",
       "      <td>0</td>\n",
       "    </tr>\n",
       "    <tr>\n",
       "      <td>3</td>\n",
       "      <td>4</td>\n",
       "      <td>1</td>\n",
       "      <td>1</td>\n",
       "      <td>Futrelle, Mrs. Jacques Heath (Lily May Peel)</td>\n",
       "      <td>female</td>\n",
       "      <td>35.0</td>\n",
       "      <td>1</td>\n",
       "      <td>0</td>\n",
       "      <td>113803</td>\n",
       "      <td>53.1000</td>\n",
       "      <td>S</td>\n",
       "      <td>31-40</td>\n",
       "      <td>1</td>\n",
       "    </tr>\n",
       "    <tr>\n",
       "      <td>4</td>\n",
       "      <td>5</td>\n",
       "      <td>0</td>\n",
       "      <td>3</td>\n",
       "      <td>Allen, Mr. William Henry</td>\n",
       "      <td>male</td>\n",
       "      <td>35.0</td>\n",
       "      <td>0</td>\n",
       "      <td>0</td>\n",
       "      <td>373450</td>\n",
       "      <td>8.0500</td>\n",
       "      <td>S</td>\n",
       "      <td>31-40</td>\n",
       "      <td>0</td>\n",
       "    </tr>\n",
       "  </tbody>\n",
       "</table>\n",
       "</div>"
      ],
      "text/plain": [
       "   PassengerId  Survived  Pclass  \\\n",
       "0            1         0       3   \n",
       "1            2         1       1   \n",
       "2            3         1       3   \n",
       "3            4         1       1   \n",
       "4            5         0       3   \n",
       "\n",
       "                                                Name     Sex   Age  SibSp  \\\n",
       "0                            Braund, Mr. Owen Harris    male  22.0      1   \n",
       "1  Cumings, Mrs. John Bradley (Florence Briggs Th...  female  38.0      1   \n",
       "2                             Heikkinen, Miss. Laina  female  26.0      0   \n",
       "3       Futrelle, Mrs. Jacques Heath (Lily May Peel)  female  35.0      1   \n",
       "4                           Allen, Mr. William Henry    male  35.0      0   \n",
       "\n",
       "   Parch            Ticket     Fare Embarked Age_cat  Family Size  \n",
       "0      0         A/5 21171   7.2500        S   21-30            1  \n",
       "1      0          PC 17599  71.2833        C   31-40            1  \n",
       "2      0  STON/O2. 3101282   7.9250        S   21-30            0  \n",
       "3      0            113803  53.1000        S   31-40            1  \n",
       "4      0            373450   8.0500        S   31-40            0  "
      ]
     },
     "execution_count": 384,
     "metadata": {},
     "output_type": "execute_result"
    }
   ],
   "source": [
    "tit_data_clean.head()"
   ]
  },
  {
   "cell_type": "code",
   "execution_count": 385,
   "metadata": {},
   "outputs": [
    {
     "name": "stdout",
     "output_type": "stream",
     "text": [
      "72% of passengers embarked from Southampton (S).\n",
      "19% of passengers embarked from Cherbourg (C).\n",
      "9% of passengers embarked from Queenstown (Q).\n"
     ]
    }
   ],
   "source": [
    "print(\"{0:.0%}\".format(tit_data_clean['Embarked'].value_counts()[0]/tit_data.shape[0]),\"of passengers embarked from Southampton (S).\") \n",
    "print(\"{0:.0%}\".format(tit_data_clean['Embarked'].value_counts()[1]/tit_data.shape[0]),\"of passengers embarked from Cherbourg (C).\") \n",
    "print(\"{0:.0%}\".format(tit_data_clean['Embarked'].value_counts()[2]/tit_data.shape[0]),\"of passengers embarked from Queenstown (Q).\") "
   ]
  },
  {
   "cell_type": "code",
   "execution_count": 386,
   "metadata": {},
   "outputs": [
    {
     "data": {
      "text/plain": [
       "<seaborn.axisgrid.FacetGrid at 0x1a74d17810>"
      ]
     },
     "execution_count": 386,
     "metadata": {},
     "output_type": "execute_result"
    },
    {
     "data": {
      "image/png": "[encoded data removed]",
      "text/plain": [
       "<Figure size 360x360 with 1 Axes>"
      ]
     },
     "metadata": {
      "needs_background": "light"
     },
     "output_type": "display_data"
    }
   ],
   "source": [
    "sns.catplot(x='Embarked',y='Survived',data=tit_data_clean,kind='bar',palette='cividis')"
   ]
  },
  {
   "cell_type": "markdown",
   "metadata": {},
   "source": [
    "Here is another insightful graph. It looks like passengers who embarked from Cherbourg were most likely to survive (on average)."
   ]
  },
  {
   "cell_type": "markdown",
   "metadata": {},
   "source": [
    "<b> CORRELATIONS </b>"
   ]
  },
  {
   "cell_type": "code",
   "execution_count": 387,
   "metadata": {},
   "outputs": [
    {
     "data": {
      "text/html": [
       "<div>\n",
       "<style scoped>\n",
       "    .dataframe tbody tr th:only-of-type {\n",
       "        vertical-align: middle;\n",
       "    }\n",
       "\n",
       "    .dataframe tbody tr th {\n",
       "        vertical-align: top;\n",
       "    }\n",
       "\n",
       "    .dataframe thead th {\n",
       "        text-align: right;\n",
       "    }\n",
       "</style>\n",
       "<table border=\"1\" class=\"dataframe\">\n",
       "  <thead>\n",
       "    <tr style=\"text-align: right;\">\n",
       "      <th></th>\n",
       "      <th>PassengerId</th>\n",
       "      <th>Survived</th>\n",
       "      <th>Pclass</th>\n",
       "      <th>Name</th>\n",
       "      <th>Sex</th>\n",
       "      <th>Age</th>\n",
       "      <th>SibSp</th>\n",
       "      <th>Parch</th>\n",
       "      <th>Ticket</th>\n",
       "      <th>Fare</th>\n",
       "      <th>Embarked</th>\n",
       "      <th>Age_cat</th>\n",
       "      <th>Family Size</th>\n",
       "    </tr>\n",
       "  </thead>\n",
       "  <tbody>\n",
       "    <tr>\n",
       "      <td>0</td>\n",
       "      <td>1</td>\n",
       "      <td>0</td>\n",
       "      <td>3</td>\n",
       "      <td>Braund, Mr. Owen Harris</td>\n",
       "      <td>male</td>\n",
       "      <td>22.0</td>\n",
       "      <td>1</td>\n",
       "      <td>0</td>\n",
       "      <td>A/5 21171</td>\n",
       "      <td>7.2500</td>\n",
       "      <td>S</td>\n",
       "      <td>21-30</td>\n",
       "      <td>1</td>\n",
       "    </tr>\n",
       "    <tr>\n",
       "      <td>1</td>\n",
       "      <td>2</td>\n",
       "      <td>1</td>\n",
       "      <td>1</td>\n",
       "      <td>Cumings, Mrs. John Bradley (Florence Briggs Th...</td>\n",
       "      <td>female</td>\n",
       "      <td>38.0</td>\n",
       "      <td>1</td>\n",
       "      <td>0</td>\n",
       "      <td>PC 17599</td>\n",
       "      <td>71.2833</td>\n",
       "      <td>C</td>\n",
       "      <td>31-40</td>\n",
       "      <td>1</td>\n",
       "    </tr>\n",
       "    <tr>\n",
       "      <td>2</td>\n",
       "      <td>3</td>\n",
       "      <td>1</td>\n",
       "      <td>3</td>\n",
       "      <td>Heikkinen, Miss. Laina</td>\n",
       "      <td>female</td>\n",
       "      <td>26.0</td>\n",
       "      <td>0</td>\n",
       "      <td>0</td>\n",
       "      <td>STON/O2. 3101282</td>\n",
       "      <td>7.9250</td>\n",
       "      <td>S</td>\n",
       "      <td>21-30</td>\n",
       "      <td>0</td>\n",
       "    </tr>\n",
       "    <tr>\n",
       "      <td>3</td>\n",
       "      <td>4</td>\n",
       "      <td>1</td>\n",
       "      <td>1</td>\n",
       "      <td>Futrelle, Mrs. Jacques Heath (Lily May Peel)</td>\n",
       "      <td>female</td>\n",
       "      <td>35.0</td>\n",
       "      <td>1</td>\n",
       "      <td>0</td>\n",
       "      <td>113803</td>\n",
       "      <td>53.1000</td>\n",
       "      <td>S</td>\n",
       "      <td>31-40</td>\n",
       "      <td>1</td>\n",
       "    </tr>\n",
       "    <tr>\n",
       "      <td>4</td>\n",
       "      <td>5</td>\n",
       "      <td>0</td>\n",
       "      <td>3</td>\n",
       "      <td>Allen, Mr. William Henry</td>\n",
       "      <td>male</td>\n",
       "      <td>35.0</td>\n",
       "      <td>0</td>\n",
       "      <td>0</td>\n",
       "      <td>373450</td>\n",
       "      <td>8.0500</td>\n",
       "      <td>S</td>\n",
       "      <td>31-40</td>\n",
       "      <td>0</td>\n",
       "    </tr>\n",
       "  </tbody>\n",
       "</table>\n",
       "</div>"
      ],
      "text/plain": [
       "   PassengerId  Survived  Pclass  \\\n",
       "0            1         0       3   \n",
       "1            2         1       1   \n",
       "2            3         1       3   \n",
       "3            4         1       1   \n",
       "4            5         0       3   \n",
       "\n",
       "                                                Name     Sex   Age  SibSp  \\\n",
       "0                            Braund, Mr. Owen Harris    male  22.0      1   \n",
       "1  Cumings, Mrs. John Bradley (Florence Briggs Th...  female  38.0      1   \n",
       "2                             Heikkinen, Miss. Laina  female  26.0      0   \n",
       "3       Futrelle, Mrs. Jacques Heath (Lily May Peel)  female  35.0      1   \n",
       "4                           Allen, Mr. William Henry    male  35.0      0   \n",
       "\n",
       "   Parch            Ticket     Fare Embarked Age_cat  Family Size  \n",
       "0      0         A/5 21171   7.2500        S   21-30            1  \n",
       "1      0          PC 17599  71.2833        C   31-40            1  \n",
       "2      0  STON/O2. 3101282   7.9250        S   21-30            0  \n",
       "3      0            113803  53.1000        S   31-40            1  \n",
       "4      0            373450   8.0500        S   31-40            0  "
      ]
     },
     "execution_count": 387,
     "metadata": {},
     "output_type": "execute_result"
    }
   ],
   "source": [
    "tit_data_clean.head()"
   ]
  },
  {
   "cell_type": "code",
   "execution_count": 388,
   "metadata": {},
   "outputs": [
    {
     "data": {
      "text/html": [
       "<div>\n",
       "<style scoped>\n",
       "    .dataframe tbody tr th:only-of-type {\n",
       "        vertical-align: middle;\n",
       "    }\n",
       "\n",
       "    .dataframe tbody tr th {\n",
       "        vertical-align: top;\n",
       "    }\n",
       "\n",
       "    .dataframe thead th {\n",
       "        text-align: right;\n",
       "    }\n",
       "</style>\n",
       "<table border=\"1\" class=\"dataframe\">\n",
       "  <thead>\n",
       "    <tr style=\"text-align: right;\">\n",
       "      <th></th>\n",
       "      <th>PassengerId</th>\n",
       "      <th>Survived</th>\n",
       "      <th>Pclass</th>\n",
       "      <th>Age</th>\n",
       "      <th>SibSp</th>\n",
       "      <th>Parch</th>\n",
       "      <th>Fare</th>\n",
       "      <th>Family Size</th>\n",
       "    </tr>\n",
       "  </thead>\n",
       "  <tbody>\n",
       "    <tr>\n",
       "      <td>PassengerId</td>\n",
       "      <td>1.000000</td>\n",
       "      <td>-0.005007</td>\n",
       "      <td>-0.035144</td>\n",
       "      <td>0.035318</td>\n",
       "      <td>-0.057527</td>\n",
       "      <td>-0.001652</td>\n",
       "      <td>0.012658</td>\n",
       "      <td>-0.040143</td>\n",
       "    </tr>\n",
       "    <tr>\n",
       "      <td>Survived</td>\n",
       "      <td>-0.005007</td>\n",
       "      <td>1.000000</td>\n",
       "      <td>-0.338481</td>\n",
       "      <td>-0.050156</td>\n",
       "      <td>-0.035322</td>\n",
       "      <td>0.081629</td>\n",
       "      <td>0.257307</td>\n",
       "      <td>0.016639</td>\n",
       "    </tr>\n",
       "    <tr>\n",
       "      <td>Pclass</td>\n",
       "      <td>-0.035144</td>\n",
       "      <td>-0.338481</td>\n",
       "      <td>1.000000</td>\n",
       "      <td>-0.404262</td>\n",
       "      <td>0.083081</td>\n",
       "      <td>0.018443</td>\n",
       "      <td>-0.549500</td>\n",
       "      <td>0.065997</td>\n",
       "    </tr>\n",
       "    <tr>\n",
       "      <td>Age</td>\n",
       "      <td>0.035318</td>\n",
       "      <td>-0.050156</td>\n",
       "      <td>-0.404262</td>\n",
       "      <td>1.000000</td>\n",
       "      <td>-0.243549</td>\n",
       "      <td>-0.175264</td>\n",
       "      <td>0.121044</td>\n",
       "      <td>-0.254016</td>\n",
       "    </tr>\n",
       "    <tr>\n",
       "      <td>SibSp</td>\n",
       "      <td>-0.057527</td>\n",
       "      <td>-0.035322</td>\n",
       "      <td>0.083081</td>\n",
       "      <td>-0.243549</td>\n",
       "      <td>1.000000</td>\n",
       "      <td>0.414838</td>\n",
       "      <td>0.159651</td>\n",
       "      <td>0.890712</td>\n",
       "    </tr>\n",
       "    <tr>\n",
       "      <td>Parch</td>\n",
       "      <td>-0.001652</td>\n",
       "      <td>0.081629</td>\n",
       "      <td>0.018443</td>\n",
       "      <td>-0.175264</td>\n",
       "      <td>0.414838</td>\n",
       "      <td>1.000000</td>\n",
       "      <td>0.216225</td>\n",
       "      <td>0.783111</td>\n",
       "    </tr>\n",
       "    <tr>\n",
       "      <td>Fare</td>\n",
       "      <td>0.012658</td>\n",
       "      <td>0.257307</td>\n",
       "      <td>-0.549500</td>\n",
       "      <td>0.121044</td>\n",
       "      <td>0.159651</td>\n",
       "      <td>0.216225</td>\n",
       "      <td>1.000000</td>\n",
       "      <td>0.217138</td>\n",
       "    </tr>\n",
       "    <tr>\n",
       "      <td>Family Size</td>\n",
       "      <td>-0.040143</td>\n",
       "      <td>0.016639</td>\n",
       "      <td>0.065997</td>\n",
       "      <td>-0.254016</td>\n",
       "      <td>0.890712</td>\n",
       "      <td>0.783111</td>\n",
       "      <td>0.217138</td>\n",
       "      <td>1.000000</td>\n",
       "    </tr>\n",
       "  </tbody>\n",
       "</table>\n",
       "</div>"
      ],
      "text/plain": [
       "             PassengerId  Survived    Pclass       Age     SibSp     Parch  \\\n",
       "PassengerId     1.000000 -0.005007 -0.035144  0.035318 -0.057527 -0.001652   \n",
       "Survived       -0.005007  1.000000 -0.338481 -0.050156 -0.035322  0.081629   \n",
       "Pclass         -0.035144 -0.338481  1.000000 -0.404262  0.083081  0.018443   \n",
       "Age             0.035318 -0.050156 -0.404262  1.000000 -0.243549 -0.175264   \n",
       "SibSp          -0.057527 -0.035322  0.083081 -0.243549  1.000000  0.414838   \n",
       "Parch          -0.001652  0.081629  0.018443 -0.175264  0.414838  1.000000   \n",
       "Fare            0.012658  0.257307 -0.549500  0.121044  0.159651  0.216225   \n",
       "Family Size    -0.040143  0.016639  0.065997 -0.254016  0.890712  0.783111   \n",
       "\n",
       "                 Fare  Family Size  \n",
       "PassengerId  0.012658    -0.040143  \n",
       "Survived     0.257307     0.016639  \n",
       "Pclass      -0.549500     0.065997  \n",
       "Age          0.121044    -0.254016  \n",
       "SibSp        0.159651     0.890712  \n",
       "Parch        0.216225     0.783111  \n",
       "Fare         1.000000     0.217138  \n",
       "Family Size  0.217138     1.000000  "
      ]
     },
     "execution_count": 388,
     "metadata": {},
     "output_type": "execute_result"
    }
   ],
   "source": [
    "tit_data_clean.corr()"
   ]
  },
  {
   "cell_type": "markdown",
   "metadata": {},
   "source": [
    "Let's create a heatmap to visualize the data better."
   ]
  },
  {
   "cell_type": "code",
   "execution_count": 389,
   "metadata": {},
   "outputs": [
    {
     "data": {
      "text/plain": [
       "<matplotlib.axes._subplots.AxesSubplot at 0x1a74faae10>"
      ]
     },
     "execution_count": 389,
     "metadata": {},
     "output_type": "execute_result"
    },
    {
     "data": {
      "image/png": "[encoded data removed]",
      "text/plain": [
       "<Figure size 432x288 with 2 Axes>"
      ]
     },
     "metadata": {
      "needs_background": "light"
     },
     "output_type": "display_data"
    }
   ],
   "source": [
    "sns.heatmap(tit_data_clean.corr(),cmap='cividis')"
   ]
  },
  {
   "cell_type": "markdown",
   "metadata": {},
   "source": [
    "Here we can clearly see that: \n",
    "- 'Pclass' is negatively correlated to 'Survived' (-0.34)\n",
    "- 'Fare' is positively correlated to 'Survived' (0.26)\n",
    "\n",
    "These two features should be decisive in model building."
   ]
  },
  {
   "cell_type": "markdown",
   "metadata": {},
   "source": [
    "<b> ADDITIONAL DATA CLEANING </b>"
   ]
  },
  {
   "cell_type": "code",
   "execution_count": 390,
   "metadata": {},
   "outputs": [
    {
     "data": {
      "text/html": [
       "<div>\n",
       "<style scoped>\n",
       "    .dataframe tbody tr th:only-of-type {\n",
       "        vertical-align: middle;\n",
       "    }\n",
       "\n",
       "    .dataframe tbody tr th {\n",
       "        vertical-align: top;\n",
       "    }\n",
       "\n",
       "    .dataframe thead th {\n",
       "        text-align: right;\n",
       "    }\n",
       "</style>\n",
       "<table border=\"1\" class=\"dataframe\">\n",
       "  <thead>\n",
       "    <tr style=\"text-align: right;\">\n",
       "      <th></th>\n",
       "      <th>PassengerId</th>\n",
       "      <th>Survived</th>\n",
       "      <th>Pclass</th>\n",
       "      <th>Name</th>\n",
       "      <th>Sex</th>\n",
       "      <th>Age</th>\n",
       "      <th>SibSp</th>\n",
       "      <th>Parch</th>\n",
       "      <th>Ticket</th>\n",
       "      <th>Fare</th>\n",
       "      <th>Embarked</th>\n",
       "      <th>Age_cat</th>\n",
       "      <th>Family Size</th>\n",
       "    </tr>\n",
       "  </thead>\n",
       "  <tbody>\n",
       "    <tr>\n",
       "      <td>0</td>\n",
       "      <td>1</td>\n",
       "      <td>0</td>\n",
       "      <td>3</td>\n",
       "      <td>Braund, Mr. Owen Harris</td>\n",
       "      <td>male</td>\n",
       "      <td>22.0</td>\n",
       "      <td>1</td>\n",
       "      <td>0</td>\n",
       "      <td>A/5 21171</td>\n",
       "      <td>7.2500</td>\n",
       "      <td>S</td>\n",
       "      <td>21-30</td>\n",
       "      <td>1</td>\n",
       "    </tr>\n",
       "    <tr>\n",
       "      <td>1</td>\n",
       "      <td>2</td>\n",
       "      <td>1</td>\n",
       "      <td>1</td>\n",
       "      <td>Cumings, Mrs. John Bradley (Florence Briggs Th...</td>\n",
       "      <td>female</td>\n",
       "      <td>38.0</td>\n",
       "      <td>1</td>\n",
       "      <td>0</td>\n",
       "      <td>PC 17599</td>\n",
       "      <td>71.2833</td>\n",
       "      <td>C</td>\n",
       "      <td>31-40</td>\n",
       "      <td>1</td>\n",
       "    </tr>\n",
       "    <tr>\n",
       "      <td>2</td>\n",
       "      <td>3</td>\n",
       "      <td>1</td>\n",
       "      <td>3</td>\n",
       "      <td>Heikkinen, Miss. Laina</td>\n",
       "      <td>female</td>\n",
       "      <td>26.0</td>\n",
       "      <td>0</td>\n",
       "      <td>0</td>\n",
       "      <td>STON/O2. 3101282</td>\n",
       "      <td>7.9250</td>\n",
       "      <td>S</td>\n",
       "      <td>21-30</td>\n",
       "      <td>0</td>\n",
       "    </tr>\n",
       "    <tr>\n",
       "      <td>3</td>\n",
       "      <td>4</td>\n",
       "      <td>1</td>\n",
       "      <td>1</td>\n",
       "      <td>Futrelle, Mrs. Jacques Heath (Lily May Peel)</td>\n",
       "      <td>female</td>\n",
       "      <td>35.0</td>\n",
       "      <td>1</td>\n",
       "      <td>0</td>\n",
       "      <td>113803</td>\n",
       "      <td>53.1000</td>\n",
       "      <td>S</td>\n",
       "      <td>31-40</td>\n",
       "      <td>1</td>\n",
       "    </tr>\n",
       "    <tr>\n",
       "      <td>4</td>\n",
       "      <td>5</td>\n",
       "      <td>0</td>\n",
       "      <td>3</td>\n",
       "      <td>Allen, Mr. William Henry</td>\n",
       "      <td>male</td>\n",
       "      <td>35.0</td>\n",
       "      <td>0</td>\n",
       "      <td>0</td>\n",
       "      <td>373450</td>\n",
       "      <td>8.0500</td>\n",
       "      <td>S</td>\n",
       "      <td>31-40</td>\n",
       "      <td>0</td>\n",
       "    </tr>\n",
       "  </tbody>\n",
       "</table>\n",
       "</div>"
      ],
      "text/plain": [
       "   PassengerId  Survived  Pclass  \\\n",
       "0            1         0       3   \n",
       "1            2         1       1   \n",
       "2            3         1       3   \n",
       "3            4         1       1   \n",
       "4            5         0       3   \n",
       "\n",
       "                                                Name     Sex   Age  SibSp  \\\n",
       "0                            Braund, Mr. Owen Harris    male  22.0      1   \n",
       "1  Cumings, Mrs. John Bradley (Florence Briggs Th...  female  38.0      1   \n",
       "2                             Heikkinen, Miss. Laina  female  26.0      0   \n",
       "3       Futrelle, Mrs. Jacques Heath (Lily May Peel)  female  35.0      1   \n",
       "4                           Allen, Mr. William Henry    male  35.0      0   \n",
       "\n",
       "   Parch            Ticket     Fare Embarked Age_cat  Family Size  \n",
       "0      0         A/5 21171   7.2500        S   21-30            1  \n",
       "1      0          PC 17599  71.2833        C   31-40            1  \n",
       "2      0  STON/O2. 3101282   7.9250        S   21-30            0  \n",
       "3      0            113803  53.1000        S   31-40            1  \n",
       "4      0            373450   8.0500        S   31-40            0  "
      ]
     },
     "execution_count": 390,
     "metadata": {},
     "output_type": "execute_result"
    }
   ],
   "source": [
    "tit_data_clean.head()"
   ]
  },
  {
   "cell_type": "markdown",
   "metadata": {},
   "source": [
    "Here are the aditional data cleaning steps I wanna perform:\n",
    "- Remove 'PassengerId' which I don't think will be of any use\n",
    "- Remove 'Name' even if I believe it would be interesting to perform some NLP here (let's put this as potential model improvement/exploration)\n",
    "- Perform one-hot encoding for 'Sex' as models need to be fed with numerical features\n",
    "- Remove 'SibSp' and 'Parch' as these two features are now counted in 'Family Size'\n",
    "- Remove 'Ticket' even if we could maybe do something with that feature (let's keep that is mind for future improvements)\n",
    "- Perform one-hot encoding for 'Embarked'\n",
    "- Remove 'Age_cat' as its only purpose was for the EDA"
   ]
  },
  {
   "cell_type": "markdown",
   "metadata": {},
   "source": [
    "<b><i> Dropping features </i></b>"
   ]
  },
  {
   "cell_type": "code",
   "execution_count": 391,
   "metadata": {},
   "outputs": [],
   "source": [
    "tit_data_model = tit_data_clean.drop(['PassengerId','Name','SibSp','Parch','Ticket','Age_cat'],axis=1)"
   ]
  },
  {
   "cell_type": "code",
   "execution_count": 392,
   "metadata": {},
   "outputs": [
    {
     "data": {
      "text/html": [
       "<div>\n",
       "<style scoped>\n",
       "    .dataframe tbody tr th:only-of-type {\n",
       "        vertical-align: middle;\n",
       "    }\n",
       "\n",
       "    .dataframe tbody tr th {\n",
       "        vertical-align: top;\n",
       "    }\n",
       "\n",
       "    .dataframe thead th {\n",
       "        text-align: right;\n",
       "    }\n",
       "</style>\n",
       "<table border=\"1\" class=\"dataframe\">\n",
       "  <thead>\n",
       "    <tr style=\"text-align: right;\">\n",
       "      <th></th>\n",
       "      <th>Survived</th>\n",
       "      <th>Pclass</th>\n",
       "      <th>Sex</th>\n",
       "      <th>Age</th>\n",
       "      <th>Fare</th>\n",
       "      <th>Embarked</th>\n",
       "      <th>Family Size</th>\n",
       "    </tr>\n",
       "  </thead>\n",
       "  <tbody>\n",
       "    <tr>\n",
       "      <td>0</td>\n",
       "      <td>0</td>\n",
       "      <td>3</td>\n",
       "      <td>male</td>\n",
       "      <td>22.0</td>\n",
       "      <td>7.2500</td>\n",
       "      <td>S</td>\n",
       "      <td>1</td>\n",
       "    </tr>\n",
       "    <tr>\n",
       "      <td>1</td>\n",
       "      <td>1</td>\n",
       "      <td>1</td>\n",
       "      <td>female</td>\n",
       "      <td>38.0</td>\n",
       "      <td>71.2833</td>\n",
       "      <td>C</td>\n",
       "      <td>1</td>\n",
       "    </tr>\n",
       "    <tr>\n",
       "      <td>2</td>\n",
       "      <td>1</td>\n",
       "      <td>3</td>\n",
       "      <td>female</td>\n",
       "      <td>26.0</td>\n",
       "      <td>7.9250</td>\n",
       "      <td>S</td>\n",
       "      <td>0</td>\n",
       "    </tr>\n",
       "    <tr>\n",
       "      <td>3</td>\n",
       "      <td>1</td>\n",
       "      <td>1</td>\n",
       "      <td>female</td>\n",
       "      <td>35.0</td>\n",
       "      <td>53.1000</td>\n",
       "      <td>S</td>\n",
       "      <td>1</td>\n",
       "    </tr>\n",
       "    <tr>\n",
       "      <td>4</td>\n",
       "      <td>0</td>\n",
       "      <td>3</td>\n",
       "      <td>male</td>\n",
       "      <td>35.0</td>\n",
       "      <td>8.0500</td>\n",
       "      <td>S</td>\n",
       "      <td>0</td>\n",
       "    </tr>\n",
       "  </tbody>\n",
       "</table>\n",
       "</div>"
      ],
      "text/plain": [
       "   Survived  Pclass     Sex   Age     Fare Embarked  Family Size\n",
       "0         0       3    male  22.0   7.2500        S            1\n",
       "1         1       1  female  38.0  71.2833        C            1\n",
       "2         1       3  female  26.0   7.9250        S            0\n",
       "3         1       1  female  35.0  53.1000        S            1\n",
       "4         0       3    male  35.0   8.0500        S            0"
      ]
     },
     "execution_count": 392,
     "metadata": {},
     "output_type": "execute_result"
    }
   ],
   "source": [
    "tit_data_model.head()"
   ]
  },
  {
   "cell_type": "markdown",
   "metadata": {},
   "source": [
    "<b><i> One-Hot encoding </i></b>"
   ]
  },
  {
   "cell_type": "code",
   "execution_count": 393,
   "metadata": {},
   "outputs": [],
   "source": [
    "tit_data_model = tit_data_model.join(pd.get_dummies(tit_data_model['Sex'],drop_first=True)).drop('Sex',axis=1)"
   ]
  },
  {
   "cell_type": "code",
   "execution_count": 394,
   "metadata": {},
   "outputs": [],
   "source": [
    "tit_data_model = tit_data_model.join(pd.get_dummies(tit_data_model['Embarked'],drop_first=True)).drop('Embarked',axis=1)"
   ]
  },
  {
   "cell_type": "code",
   "execution_count": 395,
   "metadata": {},
   "outputs": [
    {
     "data": {
      "text/html": [
       "<div>\n",
       "<style scoped>\n",
       "    .dataframe tbody tr th:only-of-type {\n",
       "        vertical-align: middle;\n",
       "    }\n",
       "\n",
       "    .dataframe tbody tr th {\n",
       "        vertical-align: top;\n",
       "    }\n",
       "\n",
       "    .dataframe thead th {\n",
       "        text-align: right;\n",
       "    }\n",
       "</style>\n",
       "<table border=\"1\" class=\"dataframe\">\n",
       "  <thead>\n",
       "    <tr style=\"text-align: right;\">\n",
       "      <th></th>\n",
       "      <th>Survived</th>\n",
       "      <th>Pclass</th>\n",
       "      <th>Age</th>\n",
       "      <th>Fare</th>\n",
       "      <th>Family Size</th>\n",
       "      <th>male</th>\n",
       "      <th>Q</th>\n",
       "      <th>S</th>\n",
       "    </tr>\n",
       "  </thead>\n",
       "  <tbody>\n",
       "    <tr>\n",
       "      <td>0</td>\n",
       "      <td>0</td>\n",
       "      <td>3</td>\n",
       "      <td>22.0</td>\n",
       "      <td>7.2500</td>\n",
       "      <td>1</td>\n",
       "      <td>1</td>\n",
       "      <td>0</td>\n",
       "      <td>1</td>\n",
       "    </tr>\n",
       "    <tr>\n",
       "      <td>1</td>\n",
       "      <td>1</td>\n",
       "      <td>1</td>\n",
       "      <td>38.0</td>\n",
       "      <td>71.2833</td>\n",
       "      <td>1</td>\n",
       "      <td>0</td>\n",
       "      <td>0</td>\n",
       "      <td>0</td>\n",
       "    </tr>\n",
       "    <tr>\n",
       "      <td>2</td>\n",
       "      <td>1</td>\n",
       "      <td>3</td>\n",
       "      <td>26.0</td>\n",
       "      <td>7.9250</td>\n",
       "      <td>0</td>\n",
       "      <td>0</td>\n",
       "      <td>0</td>\n",
       "      <td>1</td>\n",
       "    </tr>\n",
       "    <tr>\n",
       "      <td>3</td>\n",
       "      <td>1</td>\n",
       "      <td>1</td>\n",
       "      <td>35.0</td>\n",
       "      <td>53.1000</td>\n",
       "      <td>1</td>\n",
       "      <td>0</td>\n",
       "      <td>0</td>\n",
       "      <td>1</td>\n",
       "    </tr>\n",
       "    <tr>\n",
       "      <td>4</td>\n",
       "      <td>0</td>\n",
       "      <td>3</td>\n",
       "      <td>35.0</td>\n",
       "      <td>8.0500</td>\n",
       "      <td>0</td>\n",
       "      <td>1</td>\n",
       "      <td>0</td>\n",
       "      <td>1</td>\n",
       "    </tr>\n",
       "  </tbody>\n",
       "</table>\n",
       "</div>"
      ],
      "text/plain": [
       "   Survived  Pclass   Age     Fare  Family Size  male  Q  S\n",
       "0         0       3  22.0   7.2500            1     1  0  1\n",
       "1         1       1  38.0  71.2833            1     0  0  0\n",
       "2         1       3  26.0   7.9250            0     0  0  1\n",
       "3         1       1  35.0  53.1000            1     0  0  1\n",
       "4         0       3  35.0   8.0500            0     1  0  1"
      ]
     },
     "execution_count": 395,
     "metadata": {},
     "output_type": "execute_result"
    }
   ],
   "source": [
    "tit_data_model.head()"
   ]
  },
  {
   "cell_type": "markdown",
   "metadata": {},
   "source": [
    "# Model building"
   ]
  },
  {
   "cell_type": "markdown",
   "metadata": {},
   "source": [
    "To start with model building, I will perform a simple multiple linear regression as a baseline.\n",
    "I won't need to create a test set as it is already created by Kaggle."
   ]
  },
  {
   "cell_type": "markdown",
   "metadata": {},
   "source": [
    "<b> KAGGLE TEST SET </b>"
   ]
  },
  {
   "cell_type": "code",
   "execution_count": 299,
   "metadata": {},
   "outputs": [],
   "source": [
    "X_test_k = pd.read_csv('Titanic dataset/test.csv')"
   ]
  },
  {
   "cell_type": "markdown",
   "metadata": {},
   "source": [
    "I need to perform the exact same steps I already performed for the training set."
   ]
  },
  {
   "cell_type": "code",
   "execution_count": 300,
   "metadata": {},
   "outputs": [],
   "source": [
    "X_test_k = X_test_k.drop(['PassengerId','Name','Ticket','Cabin'],axis=1)"
   ]
  },
  {
   "cell_type": "code",
   "execution_count": 301,
   "metadata": {},
   "outputs": [
    {
     "data": {
      "text/html": [
       "<div>\n",
       "<style scoped>\n",
       "    .dataframe tbody tr th:only-of-type {\n",
       "        vertical-align: middle;\n",
       "    }\n",
       "\n",
       "    .dataframe tbody tr th {\n",
       "        vertical-align: top;\n",
       "    }\n",
       "\n",
       "    .dataframe thead th {\n",
       "        text-align: right;\n",
       "    }\n",
       "</style>\n",
       "<table border=\"1\" class=\"dataframe\">\n",
       "  <thead>\n",
       "    <tr style=\"text-align: right;\">\n",
       "      <th></th>\n",
       "      <th>Pclass</th>\n",
       "      <th>Sex</th>\n",
       "      <th>Age</th>\n",
       "      <th>SibSp</th>\n",
       "      <th>Parch</th>\n",
       "      <th>Fare</th>\n",
       "      <th>Embarked</th>\n",
       "    </tr>\n",
       "  </thead>\n",
       "  <tbody>\n",
       "    <tr>\n",
       "      <td>0</td>\n",
       "      <td>3</td>\n",
       "      <td>male</td>\n",
       "      <td>34.5</td>\n",
       "      <td>0</td>\n",
       "      <td>0</td>\n",
       "      <td>7.8292</td>\n",
       "      <td>Q</td>\n",
       "    </tr>\n",
       "    <tr>\n",
       "      <td>1</td>\n",
       "      <td>3</td>\n",
       "      <td>female</td>\n",
       "      <td>47.0</td>\n",
       "      <td>1</td>\n",
       "      <td>0</td>\n",
       "      <td>7.0000</td>\n",
       "      <td>S</td>\n",
       "    </tr>\n",
       "    <tr>\n",
       "      <td>2</td>\n",
       "      <td>2</td>\n",
       "      <td>male</td>\n",
       "      <td>62.0</td>\n",
       "      <td>0</td>\n",
       "      <td>0</td>\n",
       "      <td>9.6875</td>\n",
       "      <td>Q</td>\n",
       "    </tr>\n",
       "    <tr>\n",
       "      <td>3</td>\n",
       "      <td>3</td>\n",
       "      <td>male</td>\n",
       "      <td>27.0</td>\n",
       "      <td>0</td>\n",
       "      <td>0</td>\n",
       "      <td>8.6625</td>\n",
       "      <td>S</td>\n",
       "    </tr>\n",
       "    <tr>\n",
       "      <td>4</td>\n",
       "      <td>3</td>\n",
       "      <td>female</td>\n",
       "      <td>22.0</td>\n",
       "      <td>1</td>\n",
       "      <td>1</td>\n",
       "      <td>12.2875</td>\n",
       "      <td>S</td>\n",
       "    </tr>\n",
       "  </tbody>\n",
       "</table>\n",
       "</div>"
      ],
      "text/plain": [
       "   Pclass     Sex   Age  SibSp  Parch     Fare Embarked\n",
       "0       3    male  34.5      0      0   7.8292        Q\n",
       "1       3  female  47.0      1      0   7.0000        S\n",
       "2       2    male  62.0      0      0   9.6875        Q\n",
       "3       3    male  27.0      0      0   8.6625        S\n",
       "4       3  female  22.0      1      1  12.2875        S"
      ]
     },
     "execution_count": 301,
     "metadata": {},
     "output_type": "execute_result"
    }
   ],
   "source": [
    "X_test_k.head()"
   ]
  },
  {
   "cell_type": "code",
   "execution_count": 302,
   "metadata": {},
   "outputs": [],
   "source": [
    "#X_test_k['Age'].fillna(X_test['Age'].mean(),inplace=True)\n",
    "\n",
    "X_test_k['Age'] = X_test_k[['Age','Pclass']].apply(impute_age,axis=1)"
   ]
  },
  {
   "cell_type": "code",
   "execution_count": 303,
   "metadata": {},
   "outputs": [],
   "source": [
    "X_test_k['Family Size'] = X_test_k['SibSp'] + X_test_k['Parch']\n",
    "X_test_k = X_test_k.drop(['SibSp','Parch'],axis=1)"
   ]
  },
  {
   "cell_type": "code",
   "execution_count": 304,
   "metadata": {},
   "outputs": [],
   "source": [
    "X_test_k = X_test_k.join(pd.get_dummies(X_test_k['Sex'],drop_first=True)).drop('Sex',axis=1)"
   ]
  },
  {
   "cell_type": "code",
   "execution_count": 305,
   "metadata": {},
   "outputs": [],
   "source": [
    "X_test_k = X_test_k.join(pd.get_dummies(X_test_k['Embarked'],drop_first=True)).drop('Embarked',axis=1)"
   ]
  },
  {
   "cell_type": "code",
   "execution_count": 306,
   "metadata": {},
   "outputs": [
    {
     "data": {
      "text/html": [
       "<div>\n",
       "<style scoped>\n",
       "    .dataframe tbody tr th:only-of-type {\n",
       "        vertical-align: middle;\n",
       "    }\n",
       "\n",
       "    .dataframe tbody tr th {\n",
       "        vertical-align: top;\n",
       "    }\n",
       "\n",
       "    .dataframe thead th {\n",
       "        text-align: right;\n",
       "    }\n",
       "</style>\n",
       "<table border=\"1\" class=\"dataframe\">\n",
       "  <thead>\n",
       "    <tr style=\"text-align: right;\">\n",
       "      <th></th>\n",
       "      <th>Pclass</th>\n",
       "      <th>Age</th>\n",
       "      <th>Fare</th>\n",
       "      <th>Family Size</th>\n",
       "      <th>male</th>\n",
       "      <th>Q</th>\n",
       "      <th>S</th>\n",
       "    </tr>\n",
       "  </thead>\n",
       "  <tbody>\n",
       "    <tr>\n",
       "      <td>0</td>\n",
       "      <td>3</td>\n",
       "      <td>34.5</td>\n",
       "      <td>7.8292</td>\n",
       "      <td>0</td>\n",
       "      <td>1</td>\n",
       "      <td>1</td>\n",
       "      <td>0</td>\n",
       "    </tr>\n",
       "    <tr>\n",
       "      <td>1</td>\n",
       "      <td>3</td>\n",
       "      <td>47.0</td>\n",
       "      <td>7.0000</td>\n",
       "      <td>1</td>\n",
       "      <td>0</td>\n",
       "      <td>0</td>\n",
       "      <td>1</td>\n",
       "    </tr>\n",
       "    <tr>\n",
       "      <td>2</td>\n",
       "      <td>2</td>\n",
       "      <td>62.0</td>\n",
       "      <td>9.6875</td>\n",
       "      <td>0</td>\n",
       "      <td>1</td>\n",
       "      <td>1</td>\n",
       "      <td>0</td>\n",
       "    </tr>\n",
       "    <tr>\n",
       "      <td>3</td>\n",
       "      <td>3</td>\n",
       "      <td>27.0</td>\n",
       "      <td>8.6625</td>\n",
       "      <td>0</td>\n",
       "      <td>1</td>\n",
       "      <td>0</td>\n",
       "      <td>1</td>\n",
       "    </tr>\n",
       "    <tr>\n",
       "      <td>4</td>\n",
       "      <td>3</td>\n",
       "      <td>22.0</td>\n",
       "      <td>12.2875</td>\n",
       "      <td>2</td>\n",
       "      <td>0</td>\n",
       "      <td>0</td>\n",
       "      <td>1</td>\n",
       "    </tr>\n",
       "  </tbody>\n",
       "</table>\n",
       "</div>"
      ],
      "text/plain": [
       "   Pclass   Age     Fare  Family Size  male  Q  S\n",
       "0       3  34.5   7.8292            0     1  1  0\n",
       "1       3  47.0   7.0000            1     0  0  1\n",
       "2       2  62.0   9.6875            0     1  1  0\n",
       "3       3  27.0   8.6625            0     1  0  1\n",
       "4       3  22.0  12.2875            2     0  0  1"
      ]
     },
     "execution_count": 306,
     "metadata": {},
     "output_type": "execute_result"
    }
   ],
   "source": [
    "X_test_k.head()"
   ]
  },
  {
   "cell_type": "markdown",
   "metadata": {},
   "source": [
    "While working on the model, I noticed there was a null value in 'Fare'. I will take the mean to fill it (only one null value)."
   ]
  },
  {
   "cell_type": "code",
   "execution_count": 307,
   "metadata": {},
   "outputs": [
    {
     "data": {
      "text/plain": [
       "False    417\n",
       "True       1\n",
       "Name: Fare, dtype: int64"
      ]
     },
     "execution_count": 307,
     "metadata": {},
     "output_type": "execute_result"
    }
   ],
   "source": [
    "X_test_k['Fare'].isnull().value_counts()"
   ]
  },
  {
   "cell_type": "code",
   "execution_count": 308,
   "metadata": {},
   "outputs": [],
   "source": [
    "X_test_k['Fare'].fillna(X_test_k['Fare'].mean(),inplace=True)"
   ]
  },
  {
   "cell_type": "markdown",
   "metadata": {},
   "source": [
    "X_test is now ready!"
   ]
  },
  {
   "cell_type": "markdown",
   "metadata": {},
   "source": [
    "For each model, we will create a train-test split on the training data. Then we will send our final predictions using the test set from Kaggle.\n",
    "Using this methodology, it allows us to have a proper train + cross-validation + test set."
   ]
  },
  {
   "cell_type": "markdown",
   "metadata": {},
   "source": [
    "<b> MULTIPLE LINEAR REGRESSION </b>"
   ]
  },
  {
   "cell_type": "markdown",
   "metadata": {},
   "source": [
    "<b><i> Train-test split </i></b>"
   ]
  },
  {
   "cell_type": "code",
   "execution_count": 70,
   "metadata": {},
   "outputs": [],
   "source": [
    "from sklearn.model_selection import train_test_split"
   ]
  },
  {
   "cell_type": "code",
   "execution_count": 72,
   "metadata": {},
   "outputs": [
    {
     "data": {
      "text/html": [
       "<div>\n",
       "<style scoped>\n",
       "    .dataframe tbody tr th:only-of-type {\n",
       "        vertical-align: middle;\n",
       "    }\n",
       "\n",
       "    .dataframe tbody tr th {\n",
       "        vertical-align: top;\n",
       "    }\n",
       "\n",
       "    .dataframe thead th {\n",
       "        text-align: right;\n",
       "    }\n",
       "</style>\n",
       "<table border=\"1\" class=\"dataframe\">\n",
       "  <thead>\n",
       "    <tr style=\"text-align: right;\">\n",
       "      <th></th>\n",
       "      <th>Survived</th>\n",
       "      <th>Pclass</th>\n",
       "      <th>Age</th>\n",
       "      <th>Fare</th>\n",
       "      <th>Family Size</th>\n",
       "      <th>male</th>\n",
       "      <th>Q</th>\n",
       "      <th>S</th>\n",
       "    </tr>\n",
       "  </thead>\n",
       "  <tbody>\n",
       "    <tr>\n",
       "      <td>0</td>\n",
       "      <td>0</td>\n",
       "      <td>3</td>\n",
       "      <td>22.0</td>\n",
       "      <td>7.2500</td>\n",
       "      <td>1</td>\n",
       "      <td>1</td>\n",
       "      <td>0</td>\n",
       "      <td>1</td>\n",
       "    </tr>\n",
       "    <tr>\n",
       "      <td>1</td>\n",
       "      <td>1</td>\n",
       "      <td>1</td>\n",
       "      <td>38.0</td>\n",
       "      <td>71.2833</td>\n",
       "      <td>1</td>\n",
       "      <td>0</td>\n",
       "      <td>0</td>\n",
       "      <td>0</td>\n",
       "    </tr>\n",
       "    <tr>\n",
       "      <td>2</td>\n",
       "      <td>1</td>\n",
       "      <td>3</td>\n",
       "      <td>26.0</td>\n",
       "      <td>7.9250</td>\n",
       "      <td>0</td>\n",
       "      <td>0</td>\n",
       "      <td>0</td>\n",
       "      <td>1</td>\n",
       "    </tr>\n",
       "    <tr>\n",
       "      <td>3</td>\n",
       "      <td>1</td>\n",
       "      <td>1</td>\n",
       "      <td>35.0</td>\n",
       "      <td>53.1000</td>\n",
       "      <td>1</td>\n",
       "      <td>0</td>\n",
       "      <td>0</td>\n",
       "      <td>1</td>\n",
       "    </tr>\n",
       "    <tr>\n",
       "      <td>4</td>\n",
       "      <td>0</td>\n",
       "      <td>3</td>\n",
       "      <td>35.0</td>\n",
       "      <td>8.0500</td>\n",
       "      <td>0</td>\n",
       "      <td>1</td>\n",
       "      <td>0</td>\n",
       "      <td>1</td>\n",
       "    </tr>\n",
       "  </tbody>\n",
       "</table>\n",
       "</div>"
      ],
      "text/plain": [
       "   Survived  Pclass   Age     Fare  Family Size  male  Q  S\n",
       "0         0       3  22.0   7.2500            1     1  0  1\n",
       "1         1       1  38.0  71.2833            1     0  0  0\n",
       "2         1       3  26.0   7.9250            0     0  0  1\n",
       "3         1       1  35.0  53.1000            1     0  0  1\n",
       "4         0       3  35.0   8.0500            0     1  0  1"
      ]
     },
     "execution_count": 72,
     "metadata": {},
     "output_type": "execute_result"
    }
   ],
   "source": [
    "tit_data_model.head()"
   ]
  },
  {
   "cell_type": "code",
   "execution_count": 77,
   "metadata": {},
   "outputs": [],
   "source": [
    "X = tit_data_model.drop('Survived',axis=1)\n",
    "y = tit_data_model['Survived']"
   ]
  },
  {
   "cell_type": "code",
   "execution_count": 78,
   "metadata": {},
   "outputs": [],
   "source": [
    "X_train, X_test, y_train, y_test = train_test_split(X, y, test_size=0.3, random_state=42)"
   ]
  },
  {
   "cell_type": "markdown",
   "metadata": {},
   "source": [
    "<b><i> Model </i></b>"
   ]
  },
  {
   "cell_type": "code",
   "execution_count": 79,
   "metadata": {},
   "outputs": [],
   "source": [
    "from sklearn.linear_model import LinearRegression"
   ]
  },
  {
   "cell_type": "code",
   "execution_count": 80,
   "metadata": {},
   "outputs": [],
   "source": [
    "lm = LinearRegression()"
   ]
  },
  {
   "cell_type": "code",
   "execution_count": 81,
   "metadata": {},
   "outputs": [
    {
     "data": {
      "text/plain": [
       "LinearRegression(copy_X=True, fit_intercept=True, n_jobs=None, normalize=False)"
      ]
     },
     "execution_count": 81,
     "metadata": {},
     "output_type": "execute_result"
    }
   ],
   "source": [
    "lm.fit(X_train,y_train)"
   ]
  },
  {
   "cell_type": "code",
   "execution_count": 83,
   "metadata": {},
   "outputs": [],
   "source": [
    "predictions = lm.predict(X_test)"
   ]
  },
  {
   "cell_type": "code",
   "execution_count": 97,
   "metadata": {},
   "outputs": [],
   "source": [
    "def final_pred(x):\n",
    "    if x>=0.5:\n",
    "        return 1\n",
    "    else:\n",
    "        return 0"
   ]
  },
  {
   "cell_type": "code",
   "execution_count": 98,
   "metadata": {},
   "outputs": [],
   "source": [
    "df_predictions = pd.DataFrame()\n",
    "df_predictions['Survived'] = predictions\n",
    "df_predictions['Survived'] = df_predictions['Survived'].apply(final_pred)"
   ]
  },
  {
   "cell_type": "markdown",
   "metadata": {},
   "source": [
    "<b><i> Checking model performance </i></b>"
   ]
  },
  {
   "cell_type": "code",
   "execution_count": 99,
   "metadata": {},
   "outputs": [],
   "source": [
    "from sklearn.metrics import confusion_matrix,classification_report"
   ]
  },
  {
   "cell_type": "code",
   "execution_count": 100,
   "metadata": {},
   "outputs": [
    {
     "name": "stdout",
     "output_type": "stream",
     "text": [
      "[[134  23]\n",
      " [ 32  79]]\n"
     ]
    }
   ],
   "source": [
    "print(confusion_matrix(y_test,df_predictions))"
   ]
  },
  {
   "cell_type": "code",
   "execution_count": 101,
   "metadata": {},
   "outputs": [
    {
     "name": "stdout",
     "output_type": "stream",
     "text": [
      "              precision    recall  f1-score   support\n",
      "\n",
      "           0       0.81      0.85      0.83       157\n",
      "           1       0.77      0.71      0.74       111\n",
      "\n",
      "    accuracy                           0.79       268\n",
      "   macro avg       0.79      0.78      0.79       268\n",
      "weighted avg       0.79      0.79      0.79       268\n",
      "\n"
     ]
    }
   ],
   "source": [
    "print(classification_report(y_test,df_predictions))"
   ]
  },
  {
   "cell_type": "markdown",
   "metadata": {},
   "source": [
    "On our cross-validation set, it looks like the model has an accuracy of 0.79 which is quite great for a first go."
   ]
  },
  {
   "cell_type": "markdown",
   "metadata": {},
   "source": [
    "<b><i> Final submission </i></b>"
   ]
  },
  {
   "cell_type": "code",
   "execution_count": 105,
   "metadata": {},
   "outputs": [],
   "source": [
    "predictions_k = lm.predict(X_test_k)"
   ]
  },
  {
   "cell_type": "code",
   "execution_count": 108,
   "metadata": {},
   "outputs": [],
   "source": [
    "df_predictions_k = pd.DataFrame()\n",
    "df_predictions_k['Survived'] = predictions_k\n",
    "df_predictions_k['Survived'] = df_predictions_k['Survived'].apply(final_pred)"
   ]
  },
  {
   "cell_type": "code",
   "execution_count": 109,
   "metadata": {},
   "outputs": [],
   "source": [
    "submission = pd.DataFrame()\n",
    "passengerid = pd.read_csv('Titanic dataset/test.csv')\n",
    "submission['PassengerId'] = passengerid['PassengerId']\n",
    "submission['Survived']=df_predictions_k"
   ]
  },
  {
   "cell_type": "code",
   "execution_count": 111,
   "metadata": {},
   "outputs": [],
   "source": [
    "submission.to_csv('Submissions/LinearRegression.csv',index=False)"
   ]
  },
  {
   "cell_type": "markdown",
   "metadata": {},
   "source": [
    "I submitted the predictions on Kaggle and I got an accuracy score of <b>0.75598</b>.\n",
    "Let's try to improve the accuracy with a Logistic Regression model."
   ]
  },
  {
   "cell_type": "markdown",
   "metadata": {},
   "source": [
    "<b> LOGISTIC REGRESSION </b>"
   ]
  },
  {
   "cell_type": "markdown",
   "metadata": {},
   "source": [
    "<b><i> Train-test split </i></b>"
   ]
  },
  {
   "cell_type": "code",
   "execution_count": 115,
   "metadata": {},
   "outputs": [],
   "source": [
    "X = tit_data_model.drop('Survived',axis=1)\n",
    "y = tit_data_model['Survived']"
   ]
  },
  {
   "cell_type": "code",
   "execution_count": 116,
   "metadata": {},
   "outputs": [],
   "source": [
    "X_train, X_test, y_train, y_test = train_test_split(X, y, test_size=0.3, random_state=42)"
   ]
  },
  {
   "cell_type": "markdown",
   "metadata": {},
   "source": [
    "<b><i> Model </i></b>"
   ]
  },
  {
   "cell_type": "code",
   "execution_count": 117,
   "metadata": {},
   "outputs": [],
   "source": [
    "from sklearn.linear_model import LogisticRegression"
   ]
  },
  {
   "cell_type": "code",
   "execution_count": 118,
   "metadata": {},
   "outputs": [],
   "source": [
    "lr = LogisticRegression()"
   ]
  },
  {
   "cell_type": "code",
   "execution_count": 119,
   "metadata": {},
   "outputs": [
    {
     "name": "stderr",
     "output_type": "stream",
     "text": [
      "/Users/salim/opt/anaconda3/lib/python3.7/site-packages/sklearn/linear_model/logistic.py:432: FutureWarning: Default solver will be changed to 'lbfgs' in 0.22. Specify a solver to silence this warning.\n",
      "  FutureWarning)\n"
     ]
    },
    {
     "data": {
      "text/plain": [
       "LogisticRegression(C=1.0, class_weight=None, dual=False, fit_intercept=True,\n",
       "                   intercept_scaling=1, l1_ratio=None, max_iter=100,\n",
       "                   multi_class='warn', n_jobs=None, penalty='l2',\n",
       "                   random_state=None, solver='warn', tol=0.0001, verbose=0,\n",
       "                   warm_start=False)"
      ]
     },
     "execution_count": 119,
     "metadata": {},
     "output_type": "execute_result"
    }
   ],
   "source": [
    "lr.fit(X_train,y_train)"
   ]
  },
  {
   "cell_type": "code",
   "execution_count": 122,
   "metadata": {},
   "outputs": [],
   "source": [
    "predictions = lr.predict(X_test)"
   ]
  },
  {
   "cell_type": "markdown",
   "metadata": {},
   "source": [
    "<b><i> Checking model performance </i></b>"
   ]
  },
  {
   "cell_type": "code",
   "execution_count": 123,
   "metadata": {},
   "outputs": [
    {
     "name": "stdout",
     "output_type": "stream",
     "text": [
      "[[138  19]\n",
      " [ 33  78]]\n"
     ]
    }
   ],
   "source": [
    "print(confusion_matrix(y_test,predictions))"
   ]
  },
  {
   "cell_type": "code",
   "execution_count": 124,
   "metadata": {},
   "outputs": [
    {
     "name": "stdout",
     "output_type": "stream",
     "text": [
      "              precision    recall  f1-score   support\n",
      "\n",
      "           0       0.81      0.88      0.84       157\n",
      "           1       0.80      0.70      0.75       111\n",
      "\n",
      "    accuracy                           0.81       268\n",
      "   macro avg       0.81      0.79      0.80       268\n",
      "weighted avg       0.81      0.81      0.80       268\n",
      "\n"
     ]
    }
   ],
   "source": [
    "print(classification_report(y_test,predictions))"
   ]
  },
  {
   "cell_type": "markdown",
   "metadata": {},
   "source": [
    "Logistic Regression performed better with an accuracy of 0.81."
   ]
  },
  {
   "cell_type": "markdown",
   "metadata": {},
   "source": [
    "<b><i> Final submission </i></b>"
   ]
  },
  {
   "cell_type": "code",
   "execution_count": 129,
   "metadata": {},
   "outputs": [],
   "source": [
    "predictions_k = lr.predict(X_test_k)"
   ]
  },
  {
   "cell_type": "code",
   "execution_count": 130,
   "metadata": {},
   "outputs": [],
   "source": [
    "submission = pd.DataFrame()\n",
    "passengerid = pd.read_csv('Titanic dataset/test.csv')\n",
    "submission['PassengerId'] = passengerid['PassengerId']\n",
    "submission['Survived']=predictions_k"
   ]
  },
  {
   "cell_type": "code",
   "execution_count": 131,
   "metadata": {},
   "outputs": [],
   "source": [
    "submission.to_csv('Submissions/LogisticRegression.csv',index=False)"
   ]
  },
  {
   "cell_type": "markdown",
   "metadata": {},
   "source": [
    "I submitted the predictions on Kaggle and I got an accuracy score of <b>0.76555</b> which is an improvement.\n",
    "Let's try to improve the accuracy with a Decision Tree model."
   ]
  },
  {
   "cell_type": "markdown",
   "metadata": {},
   "source": [
    "<b> LOGISTIC REGRESSION with feature scaling and normalization </b>"
   ]
  },
  {
   "cell_type": "markdown",
   "metadata": {},
   "source": [
    "<b><i> Train-test split </i></b>"
   ]
  },
  {
   "cell_type": "code",
   "execution_count": 172,
   "metadata": {},
   "outputs": [],
   "source": [
    "X = tit_data_model.drop('Survived',axis=1)\n",
    "y = tit_data_model['Survived']"
   ]
  },
  {
   "cell_type": "code",
   "execution_count": 173,
   "metadata": {},
   "outputs": [],
   "source": [
    "X_train, X_test, y_train, y_test = train_test_split(X, y, test_size=0.3, random_state=42)"
   ]
  },
  {
   "cell_type": "markdown",
   "metadata": {},
   "source": [
    "<b><i> Feature scaling and normalization </i></b>"
   ]
  },
  {
   "cell_type": "code",
   "execution_count": 174,
   "metadata": {},
   "outputs": [],
   "source": [
    "from sklearn import preprocessing"
   ]
  },
  {
   "cell_type": "code",
   "execution_count": 175,
   "metadata": {},
   "outputs": [],
   "source": [
    "scaler = preprocessing.StandardScaler().fit(X_train)"
   ]
  },
  {
   "cell_type": "code",
   "execution_count": 176,
   "metadata": {},
   "outputs": [],
   "source": [
    "X_train = scaler.transform(X_train)"
   ]
  },
  {
   "cell_type": "code",
   "execution_count": 177,
   "metadata": {},
   "outputs": [],
   "source": [
    "X_test = scaler.transform(X_test)"
   ]
  },
  {
   "cell_type": "markdown",
   "metadata": {},
   "source": [
    "<b><i> Model </i></b>"
   ]
  },
  {
   "cell_type": "code",
   "execution_count": 178,
   "metadata": {},
   "outputs": [],
   "source": [
    "lr = LogisticRegression()"
   ]
  },
  {
   "cell_type": "code",
   "execution_count": 179,
   "metadata": {},
   "outputs": [
    {
     "name": "stderr",
     "output_type": "stream",
     "text": [
      "/Users/salim/opt/anaconda3/lib/python3.7/site-packages/sklearn/linear_model/logistic.py:432: FutureWarning: Default solver will be changed to 'lbfgs' in 0.22. Specify a solver to silence this warning.\n",
      "  FutureWarning)\n"
     ]
    },
    {
     "data": {
      "text/plain": [
       "LogisticRegression(C=1.0, class_weight=None, dual=False, fit_intercept=True,\n",
       "                   intercept_scaling=1, l1_ratio=None, max_iter=100,\n",
       "                   multi_class='warn', n_jobs=None, penalty='l2',\n",
       "                   random_state=None, solver='warn', tol=0.0001, verbose=0,\n",
       "                   warm_start=False)"
      ]
     },
     "execution_count": 179,
     "metadata": {},
     "output_type": "execute_result"
    }
   ],
   "source": [
    "lr.fit(X_train,y_train)"
   ]
  },
  {
   "cell_type": "code",
   "execution_count": 180,
   "metadata": {},
   "outputs": [],
   "source": [
    "predictions = lr.predict(X_test)"
   ]
  },
  {
   "cell_type": "markdown",
   "metadata": {},
   "source": [
    "<b><i> Checking model performance </i></b>"
   ]
  },
  {
   "cell_type": "code",
   "execution_count": 181,
   "metadata": {},
   "outputs": [
    {
     "name": "stdout",
     "output_type": "stream",
     "text": [
      "[[137  20]\n",
      " [ 30  81]]\n"
     ]
    }
   ],
   "source": [
    "print(confusion_matrix(y_test,predictions))"
   ]
  },
  {
   "cell_type": "code",
   "execution_count": 182,
   "metadata": {},
   "outputs": [
    {
     "name": "stdout",
     "output_type": "stream",
     "text": [
      "              precision    recall  f1-score   support\n",
      "\n",
      "           0       0.82      0.87      0.85       157\n",
      "           1       0.80      0.73      0.76       111\n",
      "\n",
      "    accuracy                           0.81       268\n",
      "   macro avg       0.81      0.80      0.80       268\n",
      "weighted avg       0.81      0.81      0.81       268\n",
      "\n"
     ]
    }
   ],
   "source": [
    "print(classification_report(y_test,predictions))"
   ]
  },
  {
   "cell_type": "markdown",
   "metadata": {},
   "source": [
    "It has the same accuracy than the Logistic Regression with feature scaling, but it performed better if we look at the f1-score."
   ]
  },
  {
   "cell_type": "markdown",
   "metadata": {},
   "source": [
    "<b><i> Final submission </i></b>"
   ]
  },
  {
   "cell_type": "code",
   "execution_count": 183,
   "metadata": {},
   "outputs": [],
   "source": [
    "X_test_k = scaler.transform(X_test_k)"
   ]
  },
  {
   "cell_type": "code",
   "execution_count": 184,
   "metadata": {},
   "outputs": [],
   "source": [
    "predictions_k = lr.predict(X_test_k)"
   ]
  },
  {
   "cell_type": "code",
   "execution_count": 185,
   "metadata": {},
   "outputs": [],
   "source": [
    "submission = pd.DataFrame()\n",
    "passengerid = pd.read_csv('Titanic dataset/test.csv')\n",
    "submission['PassengerId'] = passengerid['PassengerId']\n",
    "submission['Survived']=predictions_k"
   ]
  },
  {
   "cell_type": "code",
   "execution_count": 186,
   "metadata": {},
   "outputs": [],
   "source": [
    "submission.to_csv('Submissions/LogisticRegression_scaled.csv',index=False)"
   ]
  },
  {
   "cell_type": "markdown",
   "metadata": {},
   "source": [
    "I got an accuracy score of <b>0.77033</b> on Kaggle which is the best score so far."
   ]
  },
  {
   "cell_type": "markdown",
   "metadata": {},
   "source": [
    "<b> DECISION TREE </b>"
   ]
  },
  {
   "cell_type": "markdown",
   "metadata": {},
   "source": [
    "<b><i> Train-test split </i></b>"
   ]
  },
  {
   "cell_type": "code",
   "execution_count": 258,
   "metadata": {},
   "outputs": [],
   "source": [
    "X = tit_data_model.drop('Survived',axis=1)\n",
    "y = tit_data_model['Survived']"
   ]
  },
  {
   "cell_type": "code",
   "execution_count": 259,
   "metadata": {},
   "outputs": [],
   "source": [
    "X_train, X_test, y_train, y_test = train_test_split(X, y, test_size=0.3, random_state=42)"
   ]
  },
  {
   "cell_type": "markdown",
   "metadata": {},
   "source": [
    "<b><i> Model </i></b>"
   ]
  },
  {
   "cell_type": "code",
   "execution_count": 260,
   "metadata": {},
   "outputs": [],
   "source": [
    "from sklearn.tree import DecisionTreeClassifier"
   ]
  },
  {
   "cell_type": "code",
   "execution_count": 261,
   "metadata": {},
   "outputs": [],
   "source": [
    "dt = DecisionTreeClassifier()"
   ]
  },
  {
   "cell_type": "code",
   "execution_count": 266,
   "metadata": {},
   "outputs": [
    {
     "data": {
      "text/plain": [
       "DecisionTreeClassifier(class_weight=None, criterion='gini', max_depth=None,\n",
       "                       max_features=None, max_leaf_nodes=None,\n",
       "                       min_impurity_decrease=0.0, min_impurity_split=None,\n",
       "                       min_samples_leaf=1, min_samples_split=2,\n",
       "                       min_weight_fraction_leaf=0.0, presort=False,\n",
       "                       random_state=None, splitter='best')"
      ]
     },
     "execution_count": 266,
     "metadata": {},
     "output_type": "execute_result"
    }
   ],
   "source": [
    "dt.fit(X_train,y_train)"
   ]
  },
  {
   "cell_type": "code",
   "execution_count": 267,
   "metadata": {},
   "outputs": [],
   "source": [
    "predictions = dt.predict(X_test)"
   ]
  },
  {
   "cell_type": "markdown",
   "metadata": {},
   "source": [
    "<b><i> Checking model performance </i></b>"
   ]
  },
  {
   "cell_type": "code",
   "execution_count": 268,
   "metadata": {},
   "outputs": [
    {
     "name": "stdout",
     "output_type": "stream",
     "text": [
      "[[131  26]\n",
      " [ 29  82]]\n"
     ]
    }
   ],
   "source": [
    "print(confusion_matrix(y_test,predictions))"
   ]
  },
  {
   "cell_type": "code",
   "execution_count": 269,
   "metadata": {},
   "outputs": [
    {
     "name": "stdout",
     "output_type": "stream",
     "text": [
      "              precision    recall  f1-score   support\n",
      "\n",
      "           0       0.82      0.83      0.83       157\n",
      "           1       0.76      0.74      0.75       111\n",
      "\n",
      "    accuracy                           0.79       268\n",
      "   macro avg       0.79      0.79      0.79       268\n",
      "weighted avg       0.79      0.79      0.79       268\n",
      "\n"
     ]
    }
   ],
   "source": [
    "print(classification_report(y_test,predictions))"
   ]
  },
  {
   "cell_type": "markdown",
   "metadata": {},
   "source": [
    "It looks like the Decision Tree model performed worse (0.79) than the Logistic Regression model."
   ]
  },
  {
   "cell_type": "markdown",
   "metadata": {},
   "source": [
    "<b><i> Final submission </i></b>"
   ]
  },
  {
   "cell_type": "code",
   "execution_count": 142,
   "metadata": {},
   "outputs": [],
   "source": [
    "predictions_k = dt.predict(X_test_k)"
   ]
  },
  {
   "cell_type": "code",
   "execution_count": 143,
   "metadata": {},
   "outputs": [],
   "source": [
    "submission = pd.DataFrame()\n",
    "passengerid = pd.read_csv('Titanic dataset/test.csv')\n",
    "submission['PassengerId'] = passengerid['PassengerId']\n",
    "submission['Survived']=predictions_k"
   ]
  },
  {
   "cell_type": "code",
   "execution_count": 145,
   "metadata": {},
   "outputs": [],
   "source": [
    "submission.to_csv('Submissions/DecisionTree.csv',index=False)"
   ]
  },
  {
   "cell_type": "markdown",
   "metadata": {},
   "source": [
    "I submitted the predictions on Kaggle and I got an accuracy score of <b>0.73684</b> which is not an improvement.\n",
    "Let's try to improve the accuracy with a Random Forest model."
   ]
  },
  {
   "cell_type": "markdown",
   "metadata": {},
   "source": [
    "<b> RANDOM FOREST </b>"
   ]
  },
  {
   "cell_type": "markdown",
   "metadata": {},
   "source": [
    "<b><i> Train-test split </i></b>"
   ]
  },
  {
   "cell_type": "code",
   "execution_count": 146,
   "metadata": {},
   "outputs": [],
   "source": [
    "X = tit_data_model.drop('Survived',axis=1)\n",
    "y = tit_data_model['Survived']"
   ]
  },
  {
   "cell_type": "code",
   "execution_count": 147,
   "metadata": {},
   "outputs": [],
   "source": [
    "X_train, X_test, y_train, y_test = train_test_split(X, y, test_size=0.3, random_state=42)"
   ]
  },
  {
   "cell_type": "markdown",
   "metadata": {},
   "source": [
    "<b><i> Model </i></b>"
   ]
  },
  {
   "cell_type": "code",
   "execution_count": 148,
   "metadata": {},
   "outputs": [],
   "source": [
    "from sklearn.ensemble import RandomForestClassifier"
   ]
  },
  {
   "cell_type": "code",
   "execution_count": 149,
   "metadata": {},
   "outputs": [],
   "source": [
    "rfc = RandomForestClassifier(n_estimators=600)"
   ]
  },
  {
   "cell_type": "code",
   "execution_count": 150,
   "metadata": {},
   "outputs": [
    {
     "data": {
      "text/plain": [
       "RandomForestClassifier(bootstrap=True, class_weight=None, criterion='gini',\n",
       "                       max_depth=None, max_features='auto', max_leaf_nodes=None,\n",
       "                       min_impurity_decrease=0.0, min_impurity_split=None,\n",
       "                       min_samples_leaf=1, min_samples_split=2,\n",
       "                       min_weight_fraction_leaf=0.0, n_estimators=600,\n",
       "                       n_jobs=None, oob_score=False, random_state=None,\n",
       "                       verbose=0, warm_start=False)"
      ]
     },
     "execution_count": 150,
     "metadata": {},
     "output_type": "execute_result"
    }
   ],
   "source": [
    "rfc.fit(X_train,y_train)"
   ]
  },
  {
   "cell_type": "code",
   "execution_count": 151,
   "metadata": {},
   "outputs": [],
   "source": [
    "predictions = rfc.predict(X_test)"
   ]
  },
  {
   "cell_type": "markdown",
   "metadata": {},
   "source": [
    "<b><i> Checking model performance </i></b>"
   ]
  },
  {
   "cell_type": "code",
   "execution_count": 152,
   "metadata": {},
   "outputs": [
    {
     "name": "stdout",
     "output_type": "stream",
     "text": [
      "[[130  27]\n",
      " [ 31  80]]\n"
     ]
    }
   ],
   "source": [
    "print(confusion_matrix(y_test,predictions))"
   ]
  },
  {
   "cell_type": "code",
   "execution_count": 153,
   "metadata": {},
   "outputs": [
    {
     "name": "stdout",
     "output_type": "stream",
     "text": [
      "              precision    recall  f1-score   support\n",
      "\n",
      "           0       0.81      0.83      0.82       157\n",
      "           1       0.75      0.72      0.73       111\n",
      "\n",
      "    accuracy                           0.78       268\n",
      "   macro avg       0.78      0.77      0.78       268\n",
      "weighted avg       0.78      0.78      0.78       268\n",
      "\n"
     ]
    }
   ],
   "source": [
    "print(classification_report(y_test,predictions))"
   ]
  },
  {
   "cell_type": "markdown",
   "metadata": {},
   "source": [
    "With an accuracy of 0.78, it is the model which performed the worst."
   ]
  },
  {
   "cell_type": "markdown",
   "metadata": {},
   "source": [
    "<b><i> Final submission </i></b>"
   ]
  },
  {
   "cell_type": "code",
   "execution_count": 154,
   "metadata": {},
   "outputs": [],
   "source": [
    "predictions_k = rfc.predict(X_test_k)"
   ]
  },
  {
   "cell_type": "code",
   "execution_count": 155,
   "metadata": {},
   "outputs": [],
   "source": [
    "submission = pd.DataFrame()\n",
    "passengerid = pd.read_csv('Titanic dataset/test.csv')\n",
    "submission['PassengerId'] = passengerid['PassengerId']\n",
    "submission['Survived']=predictions_k"
   ]
  },
  {
   "cell_type": "code",
   "execution_count": 156,
   "metadata": {},
   "outputs": [],
   "source": [
    "submission.to_csv('Submissions/RandomForest.csv',index=False)"
   ]
  },
  {
   "cell_type": "markdown",
   "metadata": {},
   "source": [
    "I submitted the predictions on Kaggle and I got an accuracy score of <b>0.75598</b> which is not an improvement.\n",
    "It seems like the best model was the Logistic Regression. Let's see if there are ways to improve it further."
   ]
  },
  {
   "cell_type": "markdown",
   "metadata": {},
   "source": [
    "<b> GRADIENT BOOSTING </b>"
   ]
  },
  {
   "cell_type": "markdown",
   "metadata": {},
   "source": [
    "<b><i> Train-test split </i></b>"
   ]
  },
  {
   "cell_type": "code",
   "execution_count": 232,
   "metadata": {},
   "outputs": [],
   "source": [
    "X = tit_data_model.drop('Survived',axis=1)\n",
    "y = tit_data_model['Survived']"
   ]
  },
  {
   "cell_type": "code",
   "execution_count": 233,
   "metadata": {},
   "outputs": [],
   "source": [
    "X_train, X_test, y_train, y_test = train_test_split(X, y, test_size=0.3, random_state=42)"
   ]
  },
  {
   "cell_type": "markdown",
   "metadata": {},
   "source": [
    "<b><i> Model </i></b>"
   ]
  },
  {
   "cell_type": "code",
   "execution_count": 234,
   "metadata": {},
   "outputs": [],
   "source": [
    "from sklearn.ensemble import GradientBoostingClassifier"
   ]
  },
  {
   "cell_type": "code",
   "execution_count": 235,
   "metadata": {},
   "outputs": [],
   "source": [
    "gb = GradientBoostingClassifier()"
   ]
  },
  {
   "cell_type": "code",
   "execution_count": 236,
   "metadata": {},
   "outputs": [
    {
     "data": {
      "text/plain": [
       "GradientBoostingClassifier(criterion='friedman_mse', init=None,\n",
       "                           learning_rate=0.1, loss='deviance', max_depth=3,\n",
       "                           max_features=None, max_leaf_nodes=None,\n",
       "                           min_impurity_decrease=0.0, min_impurity_split=None,\n",
       "                           min_samples_leaf=1, min_samples_split=2,\n",
       "                           min_weight_fraction_leaf=0.0, n_estimators=100,\n",
       "                           n_iter_no_change=None, presort='auto',\n",
       "                           random_state=None, subsample=1.0, tol=0.0001,\n",
       "                           validation_fraction=0.1, verbose=0,\n",
       "                           warm_start=False)"
      ]
     },
     "execution_count": 236,
     "metadata": {},
     "output_type": "execute_result"
    }
   ],
   "source": [
    "gb.fit(X_train,y_train)"
   ]
  },
  {
   "cell_type": "code",
   "execution_count": 237,
   "metadata": {},
   "outputs": [],
   "source": [
    "predictions = gb.predict(X_test)"
   ]
  },
  {
   "cell_type": "markdown",
   "metadata": {},
   "source": [
    "<b><i> Checking model performance </i></b>"
   ]
  },
  {
   "cell_type": "code",
   "execution_count": 238,
   "metadata": {},
   "outputs": [
    {
     "name": "stdout",
     "output_type": "stream",
     "text": [
      "[[144  13]\n",
      " [ 37  74]]\n"
     ]
    }
   ],
   "source": [
    "print(confusion_matrix(y_test,predictions))"
   ]
  },
  {
   "cell_type": "code",
   "execution_count": 239,
   "metadata": {},
   "outputs": [
    {
     "name": "stdout",
     "output_type": "stream",
     "text": [
      "              precision    recall  f1-score   support\n",
      "\n",
      "           0       0.80      0.92      0.85       157\n",
      "           1       0.85      0.67      0.75       111\n",
      "\n",
      "    accuracy                           0.81       268\n",
      "   macro avg       0.82      0.79      0.80       268\n",
      "weighted avg       0.82      0.81      0.81       268\n",
      "\n"
     ]
    }
   ],
   "source": [
    "print(classification_report(y_test,predictions))"
   ]
  },
  {
   "cell_type": "markdown",
   "metadata": {},
   "source": [
    "Looking at precision and recall, it looks like the model performed slightly better than Logistic Regression."
   ]
  },
  {
   "cell_type": "markdown",
   "metadata": {},
   "source": [
    "<b><i> Final submission </i></b>"
   ]
  },
  {
   "cell_type": "code",
   "execution_count": 195,
   "metadata": {},
   "outputs": [],
   "source": [
    "predictions_k = gb.predict(X_test_k)"
   ]
  },
  {
   "cell_type": "code",
   "execution_count": 196,
   "metadata": {},
   "outputs": [],
   "source": [
    "submission = pd.DataFrame()\n",
    "passengerid = pd.read_csv('Titanic dataset/test.csv')\n",
    "submission['PassengerId'] = passengerid['PassengerId']\n",
    "submission['Survived']=predictions_k"
   ]
  },
  {
   "cell_type": "code",
   "execution_count": 197,
   "metadata": {},
   "outputs": [],
   "source": [
    "submission.to_csv('Submissions/GradientBoosting.csv',index=False)"
   ]
  },
  {
   "cell_type": "markdown",
   "metadata": {},
   "source": [
    "On Kaggle, it performed really well. I got an accuracy score of <b>0.78947</b>. It is the best model by far!"
   ]
  },
  {
   "cell_type": "markdown",
   "metadata": {},
   "source": [
    "<b><i> GRADIENT BOOSTING using GridSearchCV </i></b>"
   ]
  },
  {
   "cell_type": "markdown",
   "metadata": {},
   "source": [
    "As the Gradient Boosting model performed best, I will try to optimize it using GridSearchCV."
   ]
  },
  {
   "cell_type": "markdown",
   "metadata": {},
   "source": [
    "<b><i> Train-test split </i></b>"
   ]
  },
  {
   "cell_type": "code",
   "execution_count": 279,
   "metadata": {},
   "outputs": [],
   "source": [
    "X = tit_data_model.drop('Survived',axis=1)\n",
    "y = tit_data_model['Survived']"
   ]
  },
  {
   "cell_type": "code",
   "execution_count": 280,
   "metadata": {},
   "outputs": [],
   "source": [
    "X_train, X_test, y_train, y_test = train_test_split(X, y, test_size=0.3, random_state=42)"
   ]
  },
  {
   "cell_type": "markdown",
   "metadata": {},
   "source": [
    "<b> Model </b>"
   ]
  },
  {
   "cell_type": "code",
   "execution_count": 281,
   "metadata": {},
   "outputs": [],
   "source": [
    "from sklearn.model_selection import GridSearchCV"
   ]
  },
  {
   "cell_type": "code",
   "execution_count": 282,
   "metadata": {},
   "outputs": [],
   "source": [
    "param_grid = {'loss':['deviance','exponential'],'learning_rate': [0.001,0.01,0.1,1, 10],'n_estimators': [10,100,500,1000],'max_depth':[3,10,50,100]} "
   ]
  },
  {
   "cell_type": "code",
   "execution_count": 283,
   "metadata": {},
   "outputs": [],
   "source": [
    "grid = GridSearchCV(GradientBoostingClassifier(),param_grid,refit=True,verbose=3)"
   ]
  },
  {
   "cell_type": "code",
   "execution_count": 284,
   "metadata": {},
   "outputs": [
    {
     "name": "stderr",
     "output_type": "stream",
     "text": [
      "/Users/salim/opt/anaconda3/lib/python3.7/site-packages/sklearn/model_selection/_split.py:1978: FutureWarning: The default value of cv will change from 3 to 5 in version 0.22. Specify it explicitly to silence this warning.\n",
      "  warnings.warn(CV_WARNING, FutureWarning)\n",
      "[Parallel(n_jobs=1)]: Using backend SequentialBackend with 1 concurrent workers.\n",
      "[Parallel(n_jobs=1)]: Done   1 out of   1 | elapsed:    0.0s remaining:    0.0s\n",
      "[Parallel(n_jobs=1)]: Done   2 out of   2 | elapsed:    0.0s remaining:    0.0s\n"
     ]
    },
    {
     "name": "stdout",
     "output_type": "stream",
     "text": [
      "Fitting 3 folds for each of 160 candidates, totalling 480 fits\n",
      "[CV] learning_rate=0.001, loss=deviance, max_depth=3, n_estimators=10 \n",
      "[CV]  learning_rate=0.001, loss=deviance, max_depth=3, n_estimators=10, score=0.630, total=   0.0s\n",
      "[CV] learning_rate=0.001, loss=deviance, max_depth=3, n_estimators=10 \n",
      "[CV]  learning_rate=0.001, loss=deviance, max_depth=3, n_estimators=10, score=0.630, total=   0.0s\n",
      "[CV] learning_rate=0.001, loss=deviance, max_depth=3, n_estimators=10 \n",
      "[CV]  learning_rate=0.001, loss=deviance, max_depth=3, n_estimators=10, score=0.628, total=   0.0s\n",
      "[CV] learning_rate=0.001, loss=deviance, max_depth=3, n_estimators=100 \n",
      "[CV]  learning_rate=0.001, loss=deviance, max_depth=3, n_estimators=100, score=0.630, total=   0.0s\n",
      "[CV] learning_rate=0.001, loss=deviance, max_depth=3, n_estimators=100 \n",
      "[CV]  learning_rate=0.001, loss=deviance, max_depth=3, n_estimators=100, score=0.630, total=   0.1s\n",
      "[CV] learning_rate=0.001, loss=deviance, max_depth=3, n_estimators=100 \n",
      "[CV]  learning_rate=0.001, loss=deviance, max_depth=3, n_estimators=100, score=0.628, total=   0.0s\n",
      "[CV] learning_rate=0.001, loss=deviance, max_depth=3, n_estimators=500 \n",
      "[CV]  learning_rate=0.001, loss=deviance, max_depth=3, n_estimators=500, score=0.803, total=   0.2s\n",
      "[CV] learning_rate=0.001, loss=deviance, max_depth=3, n_estimators=500 \n",
      "[CV]  learning_rate=0.001, loss=deviance, max_depth=3, n_estimators=500, score=0.817, total=   0.2s\n",
      "[CV] learning_rate=0.001, loss=deviance, max_depth=3, n_estimators=500 \n",
      "[CV]  learning_rate=0.001, loss=deviance, max_depth=3, n_estimators=500, score=0.797, total=   0.3s\n",
      "[CV] learning_rate=0.001, loss=deviance, max_depth=3, n_estimators=1000 \n",
      "[CV]  learning_rate=0.001, loss=deviance, max_depth=3, n_estimators=1000, score=0.827, total=   0.5s\n",
      "[CV] learning_rate=0.001, loss=deviance, max_depth=3, n_estimators=1000 \n",
      "[CV]  learning_rate=0.001, loss=deviance, max_depth=3, n_estimators=1000, score=0.822, total=   0.5s\n",
      "[CV] learning_rate=0.001, loss=deviance, max_depth=3, n_estimators=1000 \n",
      "[CV]  learning_rate=0.001, loss=deviance, max_depth=3, n_estimators=1000, score=0.797, total=   0.5s\n",
      "[CV] learning_rate=0.001, loss=deviance, max_depth=10, n_estimators=10 \n",
      "[CV]  learning_rate=0.001, loss=deviance, max_depth=10, n_estimators=10, score=0.630, total=   0.0s\n",
      "[CV] learning_rate=0.001, loss=deviance, max_depth=10, n_estimators=10 \n",
      "[CV]  learning_rate=0.001, loss=deviance, max_depth=10, n_estimators=10, score=0.630, total=   0.0s\n",
      "[CV] learning_rate=0.001, loss=deviance, max_depth=10, n_estimators=10 \n",
      "[CV]  learning_rate=0.001, loss=deviance, max_depth=10, n_estimators=10, score=0.628, total=   0.0s\n",
      "[CV] learning_rate=0.001, loss=deviance, max_depth=10, n_estimators=100 \n",
      "[CV]  learning_rate=0.001, loss=deviance, max_depth=10, n_estimators=100, score=0.630, total=   0.2s\n",
      "[CV] learning_rate=0.001, loss=deviance, max_depth=10, n_estimators=100 \n",
      "[CV]  learning_rate=0.001, loss=deviance, max_depth=10, n_estimators=100, score=0.630, total=   0.2s\n",
      "[CV] learning_rate=0.001, loss=deviance, max_depth=10, n_estimators=100 \n",
      "[CV]  learning_rate=0.001, loss=deviance, max_depth=10, n_estimators=100, score=0.628, total=   0.2s\n",
      "[CV] learning_rate=0.001, loss=deviance, max_depth=10, n_estimators=500 \n",
      "[CV]  learning_rate=0.001, loss=deviance, max_depth=10, n_estimators=500, score=0.798, total=   1.0s\n",
      "[CV] learning_rate=0.001, loss=deviance, max_depth=10, n_estimators=500 \n",
      "[CV]  learning_rate=0.001, loss=deviance, max_depth=10, n_estimators=500, score=0.750, total=   1.2s\n",
      "[CV] learning_rate=0.001, loss=deviance, max_depth=10, n_estimators=500 \n",
      "[CV]  learning_rate=0.001, loss=deviance, max_depth=10, n_estimators=500, score=0.836, total=   0.9s\n",
      "[CV] learning_rate=0.001, loss=deviance, max_depth=10, n_estimators=1000 \n",
      "[CV]  learning_rate=0.001, loss=deviance, max_depth=10, n_estimators=1000, score=0.793, total=   2.1s\n",
      "[CV] learning_rate=0.001, loss=deviance, max_depth=10, n_estimators=1000 \n",
      "[CV]  learning_rate=0.001, loss=deviance, max_depth=10, n_estimators=1000, score=0.764, total=   2.4s\n",
      "[CV] learning_rate=0.001, loss=deviance, max_depth=10, n_estimators=1000 \n",
      "[CV]  learning_rate=0.001, loss=deviance, max_depth=10, n_estimators=1000, score=0.860, total=   1.8s\n",
      "[CV] learning_rate=0.001, loss=deviance, max_depth=50, n_estimators=10 \n",
      "[CV]  learning_rate=0.001, loss=deviance, max_depth=50, n_estimators=10, score=0.630, total=   0.0s\n",
      "[CV] learning_rate=0.001, loss=deviance, max_depth=50, n_estimators=10 \n",
      "[CV]  learning_rate=0.001, loss=deviance, max_depth=50, n_estimators=10, score=0.630, total=   0.0s\n",
      "[CV] learning_rate=0.001, loss=deviance, max_depth=50, n_estimators=10 \n",
      "[CV]  learning_rate=0.001, loss=deviance, max_depth=50, n_estimators=10, score=0.628, total=   0.0s\n",
      "[CV] learning_rate=0.001, loss=deviance, max_depth=50, n_estimators=100 \n",
      "[CV]  learning_rate=0.001, loss=deviance, max_depth=50, n_estimators=100, score=0.630, total=   0.2s\n",
      "[CV] learning_rate=0.001, loss=deviance, max_depth=50, n_estimators=100 \n",
      "[CV]  learning_rate=0.001, loss=deviance, max_depth=50, n_estimators=100, score=0.630, total=   0.2s\n",
      "[CV] learning_rate=0.001, loss=deviance, max_depth=50, n_estimators=100 \n",
      "[CV]  learning_rate=0.001, loss=deviance, max_depth=50, n_estimators=100, score=0.628, total=   0.3s\n",
      "[CV] learning_rate=0.001, loss=deviance, max_depth=50, n_estimators=500 \n",
      "[CV]  learning_rate=0.001, loss=deviance, max_depth=50, n_estimators=500, score=0.745, total=   1.3s\n",
      "[CV] learning_rate=0.001, loss=deviance, max_depth=50, n_estimators=500 \n",
      "[CV]  learning_rate=0.001, loss=deviance, max_depth=50, n_estimators=500, score=0.774, total=   1.3s\n",
      "[CV] learning_rate=0.001, loss=deviance, max_depth=50, n_estimators=500 \n",
      "[CV]  learning_rate=0.001, loss=deviance, max_depth=50, n_estimators=500, score=0.783, total=   1.4s\n",
      "[CV] learning_rate=0.001, loss=deviance, max_depth=50, n_estimators=1000 \n",
      "[CV]  learning_rate=0.001, loss=deviance, max_depth=50, n_estimators=1000, score=0.750, total=   2.4s\n",
      "[CV] learning_rate=0.001, loss=deviance, max_depth=50, n_estimators=1000 \n",
      "[CV]  learning_rate=0.001, loss=deviance, max_depth=50, n_estimators=1000, score=0.764, total=   2.6s\n",
      "[CV] learning_rate=0.001, loss=deviance, max_depth=50, n_estimators=1000 \n",
      "[CV]  learning_rate=0.001, loss=deviance, max_depth=50, n_estimators=1000, score=0.797, total=   2.8s\n",
      "[CV] learning_rate=0.001, loss=deviance, max_depth=100, n_estimators=10 \n",
      "[CV]  learning_rate=0.001, loss=deviance, max_depth=100, n_estimators=10, score=0.630, total=   0.0s\n",
      "[CV] learning_rate=0.001, loss=deviance, max_depth=100, n_estimators=10 \n",
      "[CV]  learning_rate=0.001, loss=deviance, max_depth=100, n_estimators=10, score=0.630, total=   0.0s\n",
      "[CV] learning_rate=0.001, loss=deviance, max_depth=100, n_estimators=10 \n",
      "[CV]  learning_rate=0.001, loss=deviance, max_depth=100, n_estimators=10, score=0.628, total=   0.0s\n",
      "[CV] learning_rate=0.001, loss=deviance, max_depth=100, n_estimators=100 \n",
      "[CV]  learning_rate=0.001, loss=deviance, max_depth=100, n_estimators=100, score=0.630, total=   0.2s\n",
      "[CV] learning_rate=0.001, loss=deviance, max_depth=100, n_estimators=100 \n",
      "[CV]  learning_rate=0.001, loss=deviance, max_depth=100, n_estimators=100, score=0.630, total=   0.2s\n",
      "[CV] learning_rate=0.001, loss=deviance, max_depth=100, n_estimators=100 \n",
      "[CV]  learning_rate=0.001, loss=deviance, max_depth=100, n_estimators=100, score=0.628, total=   0.3s\n",
      "[CV] learning_rate=0.001, loss=deviance, max_depth=100, n_estimators=500 \n",
      "[CV]  learning_rate=0.001, loss=deviance, max_depth=100, n_estimators=500, score=0.745, total=   1.2s\n",
      "[CV] learning_rate=0.001, loss=deviance, max_depth=100, n_estimators=500 \n",
      "[CV]  learning_rate=0.001, loss=deviance, max_depth=100, n_estimators=500, score=0.774, total=   1.2s\n",
      "[CV] learning_rate=0.001, loss=deviance, max_depth=100, n_estimators=500 \n",
      "[CV]  learning_rate=0.001, loss=deviance, max_depth=100, n_estimators=500, score=0.787, total=   1.5s\n",
      "[CV] learning_rate=0.001, loss=deviance, max_depth=100, n_estimators=1000 \n",
      "[CV]  learning_rate=0.001, loss=deviance, max_depth=100, n_estimators=1000, score=0.750, total=   2.6s\n",
      "[CV] learning_rate=0.001, loss=deviance, max_depth=100, n_estimators=1000 \n",
      "[CV]  learning_rate=0.001, loss=deviance, max_depth=100, n_estimators=1000, score=0.764, total=   2.6s\n",
      "[CV] learning_rate=0.001, loss=deviance, max_depth=100, n_estimators=1000 \n"
     ]
    },
    {
     "name": "stdout",
     "output_type": "stream",
     "text": [
      "[CV]  learning_rate=0.001, loss=deviance, max_depth=100, n_estimators=1000, score=0.797, total=   2.8s\n",
      "[CV] learning_rate=0.001, loss=exponential, max_depth=3, n_estimators=10 \n",
      "[CV]  learning_rate=0.001, loss=exponential, max_depth=3, n_estimators=10, score=0.630, total=   0.0s\n",
      "[CV] learning_rate=0.001, loss=exponential, max_depth=3, n_estimators=10 \n",
      "[CV]  learning_rate=0.001, loss=exponential, max_depth=3, n_estimators=10, score=0.630, total=   0.0s\n",
      "[CV] learning_rate=0.001, loss=exponential, max_depth=3, n_estimators=10 \n",
      "[CV]  learning_rate=0.001, loss=exponential, max_depth=3, n_estimators=10, score=0.628, total=   0.0s\n",
      "[CV] learning_rate=0.001, loss=exponential, max_depth=3, n_estimators=100 \n",
      "[CV]  learning_rate=0.001, loss=exponential, max_depth=3, n_estimators=100, score=0.630, total=   0.0s\n",
      "[CV] learning_rate=0.001, loss=exponential, max_depth=3, n_estimators=100 \n",
      "[CV]  learning_rate=0.001, loss=exponential, max_depth=3, n_estimators=100, score=0.630, total=   0.0s\n",
      "[CV] learning_rate=0.001, loss=exponential, max_depth=3, n_estimators=100 \n",
      "[CV]  learning_rate=0.001, loss=exponential, max_depth=3, n_estimators=100, score=0.628, total=   0.0s\n",
      "[CV] learning_rate=0.001, loss=exponential, max_depth=3, n_estimators=500 \n",
      "[CV]  learning_rate=0.001, loss=exponential, max_depth=3, n_estimators=500, score=0.803, total=   0.3s\n",
      "[CV] learning_rate=0.001, loss=exponential, max_depth=3, n_estimators=500 \n",
      "[CV]  learning_rate=0.001, loss=exponential, max_depth=3, n_estimators=500, score=0.817, total=   0.2s\n",
      "[CV] learning_rate=0.001, loss=exponential, max_depth=3, n_estimators=500 \n",
      "[CV]  learning_rate=0.001, loss=exponential, max_depth=3, n_estimators=500, score=0.797, total=   0.2s\n",
      "[CV] learning_rate=0.001, loss=exponential, max_depth=3, n_estimators=1000 \n",
      "[CV]  learning_rate=0.001, loss=exponential, max_depth=3, n_estimators=1000, score=0.822, total=   0.5s\n",
      "[CV] learning_rate=0.001, loss=exponential, max_depth=3, n_estimators=1000 \n",
      "[CV]  learning_rate=0.001, loss=exponential, max_depth=3, n_estimators=1000, score=0.822, total=   0.5s\n",
      "[CV] learning_rate=0.001, loss=exponential, max_depth=3, n_estimators=1000 \n",
      "[CV]  learning_rate=0.001, loss=exponential, max_depth=3, n_estimators=1000, score=0.797, total=   0.6s\n",
      "[CV] learning_rate=0.001, loss=exponential, max_depth=10, n_estimators=10 \n",
      "[CV]  learning_rate=0.001, loss=exponential, max_depth=10, n_estimators=10, score=0.630, total=   0.0s\n",
      "[CV] learning_rate=0.001, loss=exponential, max_depth=10, n_estimators=10 \n",
      "[CV]  learning_rate=0.001, loss=exponential, max_depth=10, n_estimators=10, score=0.630, total=   0.0s\n",
      "[CV] learning_rate=0.001, loss=exponential, max_depth=10, n_estimators=10 \n",
      "[CV]  learning_rate=0.001, loss=exponential, max_depth=10, n_estimators=10, score=0.628, total=   0.0s\n",
      "[CV] learning_rate=0.001, loss=exponential, max_depth=10, n_estimators=100 \n",
      "[CV]  learning_rate=0.001, loss=exponential, max_depth=10, n_estimators=100, score=0.630, total=   0.2s\n",
      "[CV] learning_rate=0.001, loss=exponential, max_depth=10, n_estimators=100 \n",
      "[CV]  learning_rate=0.001, loss=exponential, max_depth=10, n_estimators=100, score=0.630, total=   0.2s\n",
      "[CV] learning_rate=0.001, loss=exponential, max_depth=10, n_estimators=100 \n",
      "[CV]  learning_rate=0.001, loss=exponential, max_depth=10, n_estimators=100, score=0.628, total=   0.2s\n",
      "[CV] learning_rate=0.001, loss=exponential, max_depth=10, n_estimators=500 \n",
      "[CV]  learning_rate=0.001, loss=exponential, max_depth=10, n_estimators=500, score=0.798, total=   1.2s\n",
      "[CV] learning_rate=0.001, loss=exponential, max_depth=10, n_estimators=500 \n",
      "[CV]  learning_rate=0.001, loss=exponential, max_depth=10, n_estimators=500, score=0.760, total=   1.3s\n",
      "[CV] learning_rate=0.001, loss=exponential, max_depth=10, n_estimators=500 \n",
      "[CV]  learning_rate=0.001, loss=exponential, max_depth=10, n_estimators=500, score=0.836, total=   0.9s\n",
      "[CV] learning_rate=0.001, loss=exponential, max_depth=10, n_estimators=1000 \n",
      "[CV]  learning_rate=0.001, loss=exponential, max_depth=10, n_estimators=1000, score=0.793, total=   2.4s\n",
      "[CV] learning_rate=0.001, loss=exponential, max_depth=10, n_estimators=1000 \n",
      "[CV]  learning_rate=0.001, loss=exponential, max_depth=10, n_estimators=1000, score=0.740, total=   2.7s\n",
      "[CV] learning_rate=0.001, loss=exponential, max_depth=10, n_estimators=1000 \n",
      "[CV]  learning_rate=0.001, loss=exponential, max_depth=10, n_estimators=1000, score=0.850, total=   2.2s\n",
      "[CV] learning_rate=0.001, loss=exponential, max_depth=50, n_estimators=10 \n",
      "[CV]  learning_rate=0.001, loss=exponential, max_depth=50, n_estimators=10, score=0.630, total=   0.0s\n",
      "[CV] learning_rate=0.001, loss=exponential, max_depth=50, n_estimators=10 \n",
      "[CV]  learning_rate=0.001, loss=exponential, max_depth=50, n_estimators=10, score=0.630, total=   0.0s\n",
      "[CV] learning_rate=0.001, loss=exponential, max_depth=50, n_estimators=10 \n",
      "[CV]  learning_rate=0.001, loss=exponential, max_depth=50, n_estimators=10, score=0.628, total=   0.0s\n",
      "[CV] learning_rate=0.001, loss=exponential, max_depth=50, n_estimators=100 \n",
      "[CV]  learning_rate=0.001, loss=exponential, max_depth=50, n_estimators=100, score=0.630, total=   0.3s\n",
      "[CV] learning_rate=0.001, loss=exponential, max_depth=50, n_estimators=100 \n",
      "[CV]  learning_rate=0.001, loss=exponential, max_depth=50, n_estimators=100, score=0.630, total=   0.3s\n",
      "[CV] learning_rate=0.001, loss=exponential, max_depth=50, n_estimators=100 \n",
      "[CV]  learning_rate=0.001, loss=exponential, max_depth=50, n_estimators=100, score=0.628, total=   0.4s\n",
      "[CV] learning_rate=0.001, loss=exponential, max_depth=50, n_estimators=500 \n",
      "[CV]  learning_rate=0.001, loss=exponential, max_depth=50, n_estimators=500, score=0.745, total=   1.4s\n",
      "[CV] learning_rate=0.001, loss=exponential, max_depth=50, n_estimators=500 \n",
      "[CV]  learning_rate=0.001, loss=exponential, max_depth=50, n_estimators=500, score=0.774, total=   1.4s\n",
      "[CV] learning_rate=0.001, loss=exponential, max_depth=50, n_estimators=500 \n",
      "[CV]  learning_rate=0.001, loss=exponential, max_depth=50, n_estimators=500, score=0.787, total=   1.7s\n",
      "[CV] learning_rate=0.001, loss=exponential, max_depth=50, n_estimators=1000 \n",
      "[CV]  learning_rate=0.001, loss=exponential, max_depth=50, n_estimators=1000, score=0.750, total=   2.8s\n",
      "[CV] learning_rate=0.001, loss=exponential, max_depth=50, n_estimators=1000 \n",
      "[CV]  learning_rate=0.001, loss=exponential, max_depth=50, n_estimators=1000, score=0.764, total=   2.8s\n",
      "[CV] learning_rate=0.001, loss=exponential, max_depth=50, n_estimators=1000 \n",
      "[CV]  learning_rate=0.001, loss=exponential, max_depth=50, n_estimators=1000, score=0.802, total=   3.3s\n",
      "[CV] learning_rate=0.001, loss=exponential, max_depth=100, n_estimators=10 \n",
      "[CV]  learning_rate=0.001, loss=exponential, max_depth=100, n_estimators=10, score=0.630, total=   0.0s\n",
      "[CV] learning_rate=0.001, loss=exponential, max_depth=100, n_estimators=10 \n",
      "[CV]  learning_rate=0.001, loss=exponential, max_depth=100, n_estimators=10, score=0.630, total=   0.0s\n",
      "[CV] learning_rate=0.001, loss=exponential, max_depth=100, n_estimators=10 \n",
      "[CV]  learning_rate=0.001, loss=exponential, max_depth=100, n_estimators=10, score=0.628, total=   0.0s\n",
      "[CV] learning_rate=0.001, loss=exponential, max_depth=100, n_estimators=100 \n",
      "[CV]  learning_rate=0.001, loss=exponential, max_depth=100, n_estimators=100, score=0.630, total=   0.3s\n",
      "[CV] learning_rate=0.001, loss=exponential, max_depth=100, n_estimators=100 \n",
      "[CV]  learning_rate=0.001, loss=exponential, max_depth=100, n_estimators=100, score=0.630, total=   0.3s\n",
      "[CV] learning_rate=0.001, loss=exponential, max_depth=100, n_estimators=100 \n",
      "[CV]  learning_rate=0.001, loss=exponential, max_depth=100, n_estimators=100, score=0.628, total=   0.3s\n",
      "[CV] learning_rate=0.001, loss=exponential, max_depth=100, n_estimators=500 \n",
      "[CV]  learning_rate=0.001, loss=exponential, max_depth=100, n_estimators=500, score=0.745, total=   1.4s\n",
      "[CV] learning_rate=0.001, loss=exponential, max_depth=100, n_estimators=500 \n",
      "[CV]  learning_rate=0.001, loss=exponential, max_depth=100, n_estimators=500, score=0.774, total=   1.4s\n",
      "[CV] learning_rate=0.001, loss=exponential, max_depth=100, n_estimators=500 \n",
      "[CV]  learning_rate=0.001, loss=exponential, max_depth=100, n_estimators=500, score=0.792, total=   1.6s\n",
      "[CV] learning_rate=0.001, loss=exponential, max_depth=100, n_estimators=1000 \n"
     ]
    },
    {
     "name": "stdout",
     "output_type": "stream",
     "text": [
      "[CV]  learning_rate=0.001, loss=exponential, max_depth=100, n_estimators=1000, score=0.750, total=   2.6s\n",
      "[CV] learning_rate=0.001, loss=exponential, max_depth=100, n_estimators=1000 \n",
      "[CV]  learning_rate=0.001, loss=exponential, max_depth=100, n_estimators=1000, score=0.764, total=   2.7s\n",
      "[CV] learning_rate=0.001, loss=exponential, max_depth=100, n_estimators=1000 \n",
      "[CV]  learning_rate=0.001, loss=exponential, max_depth=100, n_estimators=1000, score=0.802, total=   3.1s\n",
      "[CV] learning_rate=0.01, loss=deviance, max_depth=3, n_estimators=10 .\n",
      "[CV]  learning_rate=0.01, loss=deviance, max_depth=3, n_estimators=10, score=0.630, total=   0.0s\n",
      "[CV] learning_rate=0.01, loss=deviance, max_depth=3, n_estimators=10 .\n",
      "[CV]  learning_rate=0.01, loss=deviance, max_depth=3, n_estimators=10, score=0.630, total=   0.0s\n",
      "[CV] learning_rate=0.01, loss=deviance, max_depth=3, n_estimators=10 .\n",
      "[CV]  learning_rate=0.01, loss=deviance, max_depth=3, n_estimators=10, score=0.628, total=   0.0s\n",
      "[CV] learning_rate=0.01, loss=deviance, max_depth=3, n_estimators=100 \n",
      "[CV]  learning_rate=0.01, loss=deviance, max_depth=3, n_estimators=100, score=0.827, total=   0.0s\n",
      "[CV] learning_rate=0.01, loss=deviance, max_depth=3, n_estimators=100 \n",
      "[CV]  learning_rate=0.01, loss=deviance, max_depth=3, n_estimators=100, score=0.822, total=   0.0s\n",
      "[CV] learning_rate=0.01, loss=deviance, max_depth=3, n_estimators=100 \n",
      "[CV]  learning_rate=0.01, loss=deviance, max_depth=3, n_estimators=100, score=0.797, total=   0.0s\n",
      "[CV] learning_rate=0.01, loss=deviance, max_depth=3, n_estimators=500 \n",
      "[CV]  learning_rate=0.01, loss=deviance, max_depth=3, n_estimators=500, score=0.856, total=   0.2s\n",
      "[CV] learning_rate=0.01, loss=deviance, max_depth=3, n_estimators=500 \n",
      "[CV]  learning_rate=0.01, loss=deviance, max_depth=3, n_estimators=500, score=0.817, total=   0.2s\n",
      "[CV] learning_rate=0.01, loss=deviance, max_depth=3, n_estimators=500 \n",
      "[CV]  learning_rate=0.01, loss=deviance, max_depth=3, n_estimators=500, score=0.816, total=   0.2s\n",
      "[CV] learning_rate=0.01, loss=deviance, max_depth=3, n_estimators=1000 \n",
      "[CV]  learning_rate=0.01, loss=deviance, max_depth=3, n_estimators=1000, score=0.841, total=   0.5s\n",
      "[CV] learning_rate=0.01, loss=deviance, max_depth=3, n_estimators=1000 \n",
      "[CV]  learning_rate=0.01, loss=deviance, max_depth=3, n_estimators=1000, score=0.812, total=   0.5s\n",
      "[CV] learning_rate=0.01, loss=deviance, max_depth=3, n_estimators=1000 \n",
      "[CV]  learning_rate=0.01, loss=deviance, max_depth=3, n_estimators=1000, score=0.855, total=   0.5s\n",
      "[CV] learning_rate=0.01, loss=deviance, max_depth=10, n_estimators=10 \n",
      "[CV]  learning_rate=0.01, loss=deviance, max_depth=10, n_estimators=10, score=0.630, total=   0.0s\n",
      "[CV] learning_rate=0.01, loss=deviance, max_depth=10, n_estimators=10 \n",
      "[CV]  learning_rate=0.01, loss=deviance, max_depth=10, n_estimators=10, score=0.630, total=   0.0s\n",
      "[CV] learning_rate=0.01, loss=deviance, max_depth=10, n_estimators=10 \n",
      "[CV]  learning_rate=0.01, loss=deviance, max_depth=10, n_estimators=10, score=0.628, total=   0.0s\n",
      "[CV] learning_rate=0.01, loss=deviance, max_depth=10, n_estimators=100 \n",
      "[CV]  learning_rate=0.01, loss=deviance, max_depth=10, n_estimators=100, score=0.793, total=   0.2s\n",
      "[CV] learning_rate=0.01, loss=deviance, max_depth=10, n_estimators=100 \n",
      "[CV]  learning_rate=0.01, loss=deviance, max_depth=10, n_estimators=100, score=0.745, total=   0.3s\n",
      "[CV] learning_rate=0.01, loss=deviance, max_depth=10, n_estimators=100 \n",
      "[CV]  learning_rate=0.01, loss=deviance, max_depth=10, n_estimators=100, score=0.855, total=   0.2s\n",
      "[CV] learning_rate=0.01, loss=deviance, max_depth=10, n_estimators=500 \n",
      "[CV]  learning_rate=0.01, loss=deviance, max_depth=10, n_estimators=500, score=0.774, total=   1.3s\n",
      "[CV] learning_rate=0.01, loss=deviance, max_depth=10, n_estimators=500 \n",
      "[CV]  learning_rate=0.01, loss=deviance, max_depth=10, n_estimators=500, score=0.755, total=   1.5s\n",
      "[CV] learning_rate=0.01, loss=deviance, max_depth=10, n_estimators=500 \n",
      "[CV]  learning_rate=0.01, loss=deviance, max_depth=10, n_estimators=500, score=0.807, total=   1.4s\n",
      "[CV] learning_rate=0.01, loss=deviance, max_depth=10, n_estimators=1000 \n",
      "[CV]  learning_rate=0.01, loss=deviance, max_depth=10, n_estimators=1000, score=0.769, total=   2.5s\n",
      "[CV] learning_rate=0.01, loss=deviance, max_depth=10, n_estimators=1000 \n",
      "[CV]  learning_rate=0.01, loss=deviance, max_depth=10, n_estimators=1000, score=0.755, total=   2.7s\n",
      "[CV] learning_rate=0.01, loss=deviance, max_depth=10, n_estimators=1000 \n",
      "[CV]  learning_rate=0.01, loss=deviance, max_depth=10, n_estimators=1000, score=0.802, total=   2.7s\n",
      "[CV] learning_rate=0.01, loss=deviance, max_depth=50, n_estimators=10 \n",
      "[CV]  learning_rate=0.01, loss=deviance, max_depth=50, n_estimators=10, score=0.630, total=   0.0s\n",
      "[CV] learning_rate=0.01, loss=deviance, max_depth=50, n_estimators=10 \n",
      "[CV]  learning_rate=0.01, loss=deviance, max_depth=50, n_estimators=10, score=0.630, total=   0.0s\n",
      "[CV] learning_rate=0.01, loss=deviance, max_depth=50, n_estimators=10 \n",
      "[CV]  learning_rate=0.01, loss=deviance, max_depth=50, n_estimators=10, score=0.628, total=   0.0s\n",
      "[CV] learning_rate=0.01, loss=deviance, max_depth=50, n_estimators=100 \n",
      "[CV]  learning_rate=0.01, loss=deviance, max_depth=50, n_estimators=100, score=0.750, total=   0.3s\n",
      "[CV] learning_rate=0.01, loss=deviance, max_depth=50, n_estimators=100 \n",
      "[CV]  learning_rate=0.01, loss=deviance, max_depth=50, n_estimators=100, score=0.764, total=   0.3s\n",
      "[CV] learning_rate=0.01, loss=deviance, max_depth=50, n_estimators=100 \n",
      "[CV]  learning_rate=0.01, loss=deviance, max_depth=50, n_estimators=100, score=0.797, total=   0.3s\n",
      "[CV] learning_rate=0.01, loss=deviance, max_depth=50, n_estimators=500 \n",
      "[CV]  learning_rate=0.01, loss=deviance, max_depth=50, n_estimators=500, score=0.750, total=   1.3s\n",
      "[CV] learning_rate=0.01, loss=deviance, max_depth=50, n_estimators=500 \n",
      "[CV]  learning_rate=0.01, loss=deviance, max_depth=50, n_estimators=500, score=0.764, total=   1.3s\n",
      "[CV] learning_rate=0.01, loss=deviance, max_depth=50, n_estimators=500 \n",
      "[CV]  learning_rate=0.01, loss=deviance, max_depth=50, n_estimators=500, score=0.807, total=   1.5s\n",
      "[CV] learning_rate=0.01, loss=deviance, max_depth=50, n_estimators=1000 \n",
      "[CV]  learning_rate=0.01, loss=deviance, max_depth=50, n_estimators=1000, score=0.755, total=   2.2s\n",
      "[CV] learning_rate=0.01, loss=deviance, max_depth=50, n_estimators=1000 \n",
      "[CV]  learning_rate=0.01, loss=deviance, max_depth=50, n_estimators=1000, score=0.764, total=   2.2s\n",
      "[CV] learning_rate=0.01, loss=deviance, max_depth=50, n_estimators=1000 \n",
      "[CV]  learning_rate=0.01, loss=deviance, max_depth=50, n_estimators=1000, score=0.807, total=   2.8s\n",
      "[CV] learning_rate=0.01, loss=deviance, max_depth=100, n_estimators=10 \n",
      "[CV]  learning_rate=0.01, loss=deviance, max_depth=100, n_estimators=10, score=0.630, total=   0.0s\n",
      "[CV] learning_rate=0.01, loss=deviance, max_depth=100, n_estimators=10 \n",
      "[CV]  learning_rate=0.01, loss=deviance, max_depth=100, n_estimators=10, score=0.630, total=   0.0s\n",
      "[CV] learning_rate=0.01, loss=deviance, max_depth=100, n_estimators=10 \n",
      "[CV]  learning_rate=0.01, loss=deviance, max_depth=100, n_estimators=10, score=0.628, total=   0.0s\n",
      "[CV] learning_rate=0.01, loss=deviance, max_depth=100, n_estimators=100 \n",
      "[CV]  learning_rate=0.01, loss=deviance, max_depth=100, n_estimators=100, score=0.750, total=   0.2s\n",
      "[CV] learning_rate=0.01, loss=deviance, max_depth=100, n_estimators=100 \n",
      "[CV]  learning_rate=0.01, loss=deviance, max_depth=100, n_estimators=100, score=0.764, total=   0.3s\n",
      "[CV] learning_rate=0.01, loss=deviance, max_depth=100, n_estimators=100 \n",
      "[CV]  learning_rate=0.01, loss=deviance, max_depth=100, n_estimators=100, score=0.797, total=   0.3s\n",
      "[CV] learning_rate=0.01, loss=deviance, max_depth=100, n_estimators=500 \n",
      "[CV]  learning_rate=0.01, loss=deviance, max_depth=100, n_estimators=500, score=0.740, total=   1.3s\n",
      "[CV] learning_rate=0.01, loss=deviance, max_depth=100, n_estimators=500 \n",
      "[CV]  learning_rate=0.01, loss=deviance, max_depth=100, n_estimators=500, score=0.764, total=   1.4s\n",
      "[CV] learning_rate=0.01, loss=deviance, max_depth=100, n_estimators=500 \n",
      "[CV]  learning_rate=0.01, loss=deviance, max_depth=100, n_estimators=500, score=0.792, total=   1.5s\n",
      "[CV] learning_rate=0.01, loss=deviance, max_depth=100, n_estimators=1000 \n"
     ]
    },
    {
     "name": "stdout",
     "output_type": "stream",
     "text": [
      "[CV]  learning_rate=0.01, loss=deviance, max_depth=100, n_estimators=1000, score=0.755, total=   2.2s\n",
      "[CV] learning_rate=0.01, loss=deviance, max_depth=100, n_estimators=1000 \n",
      "[CV]  learning_rate=0.01, loss=deviance, max_depth=100, n_estimators=1000, score=0.764, total=   2.5s\n",
      "[CV] learning_rate=0.01, loss=deviance, max_depth=100, n_estimators=1000 \n",
      "[CV]  learning_rate=0.01, loss=deviance, max_depth=100, n_estimators=1000, score=0.802, total=   2.6s\n",
      "[CV] learning_rate=0.01, loss=exponential, max_depth=3, n_estimators=10 \n",
      "[CV]  learning_rate=0.01, loss=exponential, max_depth=3, n_estimators=10, score=0.630, total=   0.0s\n",
      "[CV] learning_rate=0.01, loss=exponential, max_depth=3, n_estimators=10 \n",
      "[CV]  learning_rate=0.01, loss=exponential, max_depth=3, n_estimators=10, score=0.630, total=   0.0s\n",
      "[CV] learning_rate=0.01, loss=exponential, max_depth=3, n_estimators=10 \n",
      "[CV]  learning_rate=0.01, loss=exponential, max_depth=3, n_estimators=10, score=0.628, total=   0.0s\n",
      "[CV] learning_rate=0.01, loss=exponential, max_depth=3, n_estimators=100 \n",
      "[CV]  learning_rate=0.01, loss=exponential, max_depth=3, n_estimators=100, score=0.822, total=   0.0s\n",
      "[CV] learning_rate=0.01, loss=exponential, max_depth=3, n_estimators=100 \n",
      "[CV]  learning_rate=0.01, loss=exponential, max_depth=3, n_estimators=100, score=0.822, total=   0.0s\n",
      "[CV] learning_rate=0.01, loss=exponential, max_depth=3, n_estimators=100 \n",
      "[CV]  learning_rate=0.01, loss=exponential, max_depth=3, n_estimators=100, score=0.797, total=   0.1s\n",
      "[CV] learning_rate=0.01, loss=exponential, max_depth=3, n_estimators=500 \n",
      "[CV]  learning_rate=0.01, loss=exponential, max_depth=3, n_estimators=500, score=0.865, total=   0.2s\n",
      "[CV] learning_rate=0.01, loss=exponential, max_depth=3, n_estimators=500 \n",
      "[CV]  learning_rate=0.01, loss=exponential, max_depth=3, n_estimators=500, score=0.822, total=   0.2s\n",
      "[CV] learning_rate=0.01, loss=exponential, max_depth=3, n_estimators=500 \n",
      "[CV]  learning_rate=0.01, loss=exponential, max_depth=3, n_estimators=500, score=0.807, total=   0.2s\n",
      "[CV] learning_rate=0.01, loss=exponential, max_depth=3, n_estimators=1000 \n",
      "[CV]  learning_rate=0.01, loss=exponential, max_depth=3, n_estimators=1000, score=0.851, total=   0.5s\n",
      "[CV] learning_rate=0.01, loss=exponential, max_depth=3, n_estimators=1000 \n",
      "[CV]  learning_rate=0.01, loss=exponential, max_depth=3, n_estimators=1000, score=0.817, total=   0.5s\n",
      "[CV] learning_rate=0.01, loss=exponential, max_depth=3, n_estimators=1000 \n",
      "[CV]  learning_rate=0.01, loss=exponential, max_depth=3, n_estimators=1000, score=0.845, total=   0.4s\n",
      "[CV] learning_rate=0.01, loss=exponential, max_depth=10, n_estimators=10 \n",
      "[CV]  learning_rate=0.01, loss=exponential, max_depth=10, n_estimators=10, score=0.630, total=   0.0s\n",
      "[CV] learning_rate=0.01, loss=exponential, max_depth=10, n_estimators=10 \n",
      "[CV]  learning_rate=0.01, loss=exponential, max_depth=10, n_estimators=10, score=0.630, total=   0.0s\n",
      "[CV] learning_rate=0.01, loss=exponential, max_depth=10, n_estimators=10 \n",
      "[CV]  learning_rate=0.01, loss=exponential, max_depth=10, n_estimators=10, score=0.628, total=   0.0s\n",
      "[CV] learning_rate=0.01, loss=exponential, max_depth=10, n_estimators=100 \n",
      "[CV]  learning_rate=0.01, loss=exponential, max_depth=10, n_estimators=100, score=0.793, total=   0.2s\n",
      "[CV] learning_rate=0.01, loss=exponential, max_depth=10, n_estimators=100 \n",
      "[CV]  learning_rate=0.01, loss=exponential, max_depth=10, n_estimators=100, score=0.740, total=   0.3s\n",
      "[CV] learning_rate=0.01, loss=exponential, max_depth=10, n_estimators=100 \n",
      "[CV]  learning_rate=0.01, loss=exponential, max_depth=10, n_estimators=100, score=0.850, total=   0.2s\n",
      "[CV] learning_rate=0.01, loss=exponential, max_depth=10, n_estimators=500 \n",
      "[CV]  learning_rate=0.01, loss=exponential, max_depth=10, n_estimators=500, score=0.779, total=   1.3s\n",
      "[CV] learning_rate=0.01, loss=exponential, max_depth=10, n_estimators=500 \n",
      "[CV]  learning_rate=0.01, loss=exponential, max_depth=10, n_estimators=500, score=0.779, total=   1.6s\n",
      "[CV] learning_rate=0.01, loss=exponential, max_depth=10, n_estimators=500 \n",
      "[CV]  learning_rate=0.01, loss=exponential, max_depth=10, n_estimators=500, score=0.812, total=   1.6s\n",
      "[CV] learning_rate=0.01, loss=exponential, max_depth=10, n_estimators=1000 \n",
      "[CV]  learning_rate=0.01, loss=exponential, max_depth=10, n_estimators=1000, score=0.784, total=   2.7s\n",
      "[CV] learning_rate=0.01, loss=exponential, max_depth=10, n_estimators=1000 \n",
      "[CV]  learning_rate=0.01, loss=exponential, max_depth=10, n_estimators=1000, score=0.755, total=   2.9s\n",
      "[CV] learning_rate=0.01, loss=exponential, max_depth=10, n_estimators=1000 \n",
      "[CV]  learning_rate=0.01, loss=exponential, max_depth=10, n_estimators=1000, score=0.826, total=   3.0s\n",
      "[CV] learning_rate=0.01, loss=exponential, max_depth=50, n_estimators=10 \n",
      "[CV]  learning_rate=0.01, loss=exponential, max_depth=50, n_estimators=10, score=0.630, total=   0.0s\n",
      "[CV] learning_rate=0.01, loss=exponential, max_depth=50, n_estimators=10 \n",
      "[CV]  learning_rate=0.01, loss=exponential, max_depth=50, n_estimators=10, score=0.630, total=   0.0s\n",
      "[CV] learning_rate=0.01, loss=exponential, max_depth=50, n_estimators=10 \n",
      "[CV]  learning_rate=0.01, loss=exponential, max_depth=50, n_estimators=10, score=0.628, total=   0.0s\n",
      "[CV] learning_rate=0.01, loss=exponential, max_depth=50, n_estimators=100 \n",
      "[CV]  learning_rate=0.01, loss=exponential, max_depth=50, n_estimators=100, score=0.750, total=   0.3s\n",
      "[CV] learning_rate=0.01, loss=exponential, max_depth=50, n_estimators=100 \n",
      "[CV]  learning_rate=0.01, loss=exponential, max_depth=50, n_estimators=100, score=0.760, total=   0.3s\n",
      "[CV] learning_rate=0.01, loss=exponential, max_depth=50, n_estimators=100 \n",
      "[CV]  learning_rate=0.01, loss=exponential, max_depth=50, n_estimators=100, score=0.802, total=   0.3s\n",
      "[CV] learning_rate=0.01, loss=exponential, max_depth=50, n_estimators=500 \n",
      "[CV]  learning_rate=0.01, loss=exponential, max_depth=50, n_estimators=500, score=0.755, total=   1.3s\n",
      "[CV] learning_rate=0.01, loss=exponential, max_depth=50, n_estimators=500 \n",
      "[CV]  learning_rate=0.01, loss=exponential, max_depth=50, n_estimators=500, score=0.764, total=   1.3s\n",
      "[CV] learning_rate=0.01, loss=exponential, max_depth=50, n_estimators=500 \n",
      "[CV]  learning_rate=0.01, loss=exponential, max_depth=50, n_estimators=500, score=0.807, total=   1.5s\n",
      "[CV] learning_rate=0.01, loss=exponential, max_depth=50, n_estimators=1000 \n",
      "[CV]  learning_rate=0.01, loss=exponential, max_depth=50, n_estimators=1000, score=0.760, total=   2.4s\n",
      "[CV] learning_rate=0.01, loss=exponential, max_depth=50, n_estimators=1000 \n",
      "[CV]  learning_rate=0.01, loss=exponential, max_depth=50, n_estimators=1000, score=0.764, total=   2.5s\n",
      "[CV] learning_rate=0.01, loss=exponential, max_depth=50, n_estimators=1000 \n",
      "[CV]  learning_rate=0.01, loss=exponential, max_depth=50, n_estimators=1000, score=0.812, total=   3.0s\n",
      "[CV] learning_rate=0.01, loss=exponential, max_depth=100, n_estimators=10 \n",
      "[CV]  learning_rate=0.01, loss=exponential, max_depth=100, n_estimators=10, score=0.630, total=   0.0s\n",
      "[CV] learning_rate=0.01, loss=exponential, max_depth=100, n_estimators=10 \n",
      "[CV]  learning_rate=0.01, loss=exponential, max_depth=100, n_estimators=10, score=0.630, total=   0.0s\n",
      "[CV] learning_rate=0.01, loss=exponential, max_depth=100, n_estimators=10 \n",
      "[CV]  learning_rate=0.01, loss=exponential, max_depth=100, n_estimators=10, score=0.628, total=   0.0s\n",
      "[CV] learning_rate=0.01, loss=exponential, max_depth=100, n_estimators=100 \n",
      "[CV]  learning_rate=0.01, loss=exponential, max_depth=100, n_estimators=100, score=0.750, total=   0.3s\n",
      "[CV] learning_rate=0.01, loss=exponential, max_depth=100, n_estimators=100 \n",
      "[CV]  learning_rate=0.01, loss=exponential, max_depth=100, n_estimators=100, score=0.764, total=   0.3s\n",
      "[CV] learning_rate=0.01, loss=exponential, max_depth=100, n_estimators=100 \n",
      "[CV]  learning_rate=0.01, loss=exponential, max_depth=100, n_estimators=100, score=0.807, total=   0.4s\n",
      "[CV] learning_rate=0.01, loss=exponential, max_depth=100, n_estimators=500 \n",
      "[CV]  learning_rate=0.01, loss=exponential, max_depth=100, n_estimators=500, score=0.755, total=   1.4s\n",
      "[CV] learning_rate=0.01, loss=exponential, max_depth=100, n_estimators=500 \n",
      "[CV]  learning_rate=0.01, loss=exponential, max_depth=100, n_estimators=500, score=0.764, total=   1.5s\n",
      "[CV] learning_rate=0.01, loss=exponential, max_depth=100, n_estimators=500 \n"
     ]
    },
    {
     "name": "stdout",
     "output_type": "stream",
     "text": [
      "[CV]  learning_rate=0.01, loss=exponential, max_depth=100, n_estimators=500, score=0.807, total=   1.6s\n",
      "[CV] learning_rate=0.01, loss=exponential, max_depth=100, n_estimators=1000 \n",
      "[CV]  learning_rate=0.01, loss=exponential, max_depth=100, n_estimators=1000, score=0.760, total=   2.5s\n",
      "[CV] learning_rate=0.01, loss=exponential, max_depth=100, n_estimators=1000 \n",
      "[CV]  learning_rate=0.01, loss=exponential, max_depth=100, n_estimators=1000, score=0.764, total=   2.6s\n",
      "[CV] learning_rate=0.01, loss=exponential, max_depth=100, n_estimators=1000 \n",
      "[CV]  learning_rate=0.01, loss=exponential, max_depth=100, n_estimators=1000, score=0.802, total=   3.3s\n",
      "[CV] learning_rate=0.1, loss=deviance, max_depth=3, n_estimators=10 ..\n",
      "[CV]  learning_rate=0.1, loss=deviance, max_depth=3, n_estimators=10, score=0.827, total=   0.0s\n",
      "[CV] learning_rate=0.1, loss=deviance, max_depth=3, n_estimators=10 ..\n",
      "[CV]  learning_rate=0.1, loss=deviance, max_depth=3, n_estimators=10, score=0.822, total=   0.0s\n",
      "[CV] learning_rate=0.1, loss=deviance, max_depth=3, n_estimators=10 ..\n",
      "[CV]  learning_rate=0.1, loss=deviance, max_depth=3, n_estimators=10, score=0.797, total=   0.0s\n",
      "[CV] learning_rate=0.1, loss=deviance, max_depth=3, n_estimators=100 .\n",
      "[CV]  learning_rate=0.1, loss=deviance, max_depth=3, n_estimators=100, score=0.841, total=   0.1s\n",
      "[CV] learning_rate=0.1, loss=deviance, max_depth=3, n_estimators=100 .\n",
      "[CV]  learning_rate=0.1, loss=deviance, max_depth=3, n_estimators=100, score=0.812, total=   0.1s\n",
      "[CV] learning_rate=0.1, loss=deviance, max_depth=3, n_estimators=100 .\n",
      "[CV]  learning_rate=0.1, loss=deviance, max_depth=3, n_estimators=100, score=0.855, total=   0.1s\n",
      "[CV] learning_rate=0.1, loss=deviance, max_depth=3, n_estimators=500 .\n",
      "[CV]  learning_rate=0.1, loss=deviance, max_depth=3, n_estimators=500, score=0.808, total=   0.3s\n",
      "[CV] learning_rate=0.1, loss=deviance, max_depth=3, n_estimators=500 .\n",
      "[CV]  learning_rate=0.1, loss=deviance, max_depth=3, n_estimators=500, score=0.788, total=   0.2s\n",
      "[CV] learning_rate=0.1, loss=deviance, max_depth=3, n_estimators=500 .\n",
      "[CV]  learning_rate=0.1, loss=deviance, max_depth=3, n_estimators=500, score=0.816, total=   0.2s\n",
      "[CV] learning_rate=0.1, loss=deviance, max_depth=3, n_estimators=1000 \n",
      "[CV]  learning_rate=0.1, loss=deviance, max_depth=3, n_estimators=1000, score=0.793, total=   0.5s\n",
      "[CV] learning_rate=0.1, loss=deviance, max_depth=3, n_estimators=1000 \n",
      "[CV]  learning_rate=0.1, loss=deviance, max_depth=3, n_estimators=1000, score=0.774, total=   0.5s\n",
      "[CV] learning_rate=0.1, loss=deviance, max_depth=3, n_estimators=1000 \n",
      "[CV]  learning_rate=0.1, loss=deviance, max_depth=3, n_estimators=1000, score=0.821, total=   0.5s\n",
      "[CV] learning_rate=0.1, loss=deviance, max_depth=10, n_estimators=10 .\n",
      "[CV]  learning_rate=0.1, loss=deviance, max_depth=10, n_estimators=10, score=0.793, total=   0.0s\n",
      "[CV] learning_rate=0.1, loss=deviance, max_depth=10, n_estimators=10 .\n",
      "[CV]  learning_rate=0.1, loss=deviance, max_depth=10, n_estimators=10, score=0.750, total=   0.0s\n",
      "[CV] learning_rate=0.1, loss=deviance, max_depth=10, n_estimators=10 .\n",
      "[CV]  learning_rate=0.1, loss=deviance, max_depth=10, n_estimators=10, score=0.855, total=   0.0s\n",
      "[CV] learning_rate=0.1, loss=deviance, max_depth=10, n_estimators=100 \n",
      "[CV]  learning_rate=0.1, loss=deviance, max_depth=10, n_estimators=100, score=0.774, total=   0.3s\n",
      "[CV] learning_rate=0.1, loss=deviance, max_depth=10, n_estimators=100 \n",
      "[CV]  learning_rate=0.1, loss=deviance, max_depth=10, n_estimators=100, score=0.750, total=   0.3s\n",
      "[CV] learning_rate=0.1, loss=deviance, max_depth=10, n_estimators=100 \n",
      "[CV]  learning_rate=0.1, loss=deviance, max_depth=10, n_estimators=100, score=0.821, total=   0.3s\n",
      "[CV] learning_rate=0.1, loss=deviance, max_depth=10, n_estimators=500 \n",
      "[CV]  learning_rate=0.1, loss=deviance, max_depth=10, n_estimators=500, score=0.774, total=   0.7s\n",
      "[CV] learning_rate=0.1, loss=deviance, max_depth=10, n_estimators=500 \n",
      "[CV]  learning_rate=0.1, loss=deviance, max_depth=10, n_estimators=500, score=0.774, total=   0.6s\n",
      "[CV] learning_rate=0.1, loss=deviance, max_depth=10, n_estimators=500 \n",
      "[CV]  learning_rate=0.1, loss=deviance, max_depth=10, n_estimators=500, score=0.802, total=   0.8s\n",
      "[CV] learning_rate=0.1, loss=deviance, max_depth=10, n_estimators=1000 \n",
      "[CV]  learning_rate=0.1, loss=deviance, max_depth=10, n_estimators=1000, score=0.774, total=   1.1s\n",
      "[CV] learning_rate=0.1, loss=deviance, max_depth=10, n_estimators=1000 \n",
      "[CV]  learning_rate=0.1, loss=deviance, max_depth=10, n_estimators=1000, score=0.764, total=   1.0s\n",
      "[CV] learning_rate=0.1, loss=deviance, max_depth=10, n_estimators=1000 \n",
      "[CV]  learning_rate=0.1, loss=deviance, max_depth=10, n_estimators=1000, score=0.778, total=   1.4s\n",
      "[CV] learning_rate=0.1, loss=deviance, max_depth=50, n_estimators=10 .\n",
      "[CV]  learning_rate=0.1, loss=deviance, max_depth=50, n_estimators=10, score=0.750, total=   0.0s\n",
      "[CV] learning_rate=0.1, loss=deviance, max_depth=50, n_estimators=10 .\n",
      "[CV]  learning_rate=0.1, loss=deviance, max_depth=50, n_estimators=10, score=0.769, total=   0.0s\n",
      "[CV] learning_rate=0.1, loss=deviance, max_depth=50, n_estimators=10 .\n",
      "[CV]  learning_rate=0.1, loss=deviance, max_depth=50, n_estimators=10, score=0.797, total=   0.0s\n",
      "[CV] learning_rate=0.1, loss=deviance, max_depth=50, n_estimators=100 \n",
      "[CV]  learning_rate=0.1, loss=deviance, max_depth=50, n_estimators=100, score=0.769, total=   0.3s\n",
      "[CV] learning_rate=0.1, loss=deviance, max_depth=50, n_estimators=100 \n",
      "[CV]  learning_rate=0.1, loss=deviance, max_depth=50, n_estimators=100, score=0.764, total=   0.3s\n",
      "[CV] learning_rate=0.1, loss=deviance, max_depth=50, n_estimators=100 \n",
      "[CV]  learning_rate=0.1, loss=deviance, max_depth=50, n_estimators=100, score=0.816, total=   0.3s\n",
      "[CV] learning_rate=0.1, loss=deviance, max_depth=50, n_estimators=500 \n",
      "[CV]  learning_rate=0.1, loss=deviance, max_depth=50, n_estimators=500, score=0.779, total=   1.1s\n",
      "[CV] learning_rate=0.1, loss=deviance, max_depth=50, n_estimators=500 \n",
      "[CV]  learning_rate=0.1, loss=deviance, max_depth=50, n_estimators=500, score=0.779, total=   0.9s\n",
      "[CV] learning_rate=0.1, loss=deviance, max_depth=50, n_estimators=500 \n",
      "[CV]  learning_rate=0.1, loss=deviance, max_depth=50, n_estimators=500, score=0.792, total=   1.5s\n",
      "[CV] learning_rate=0.1, loss=deviance, max_depth=50, n_estimators=1000 \n",
      "[CV]  learning_rate=0.1, loss=deviance, max_depth=50, n_estimators=1000, score=0.774, total=   2.2s\n",
      "[CV] learning_rate=0.1, loss=deviance, max_depth=50, n_estimators=1000 \n",
      "[CV]  learning_rate=0.1, loss=deviance, max_depth=50, n_estimators=1000, score=0.779, total=   1.8s\n",
      "[CV] learning_rate=0.1, loss=deviance, max_depth=50, n_estimators=1000 \n",
      "[CV]  learning_rate=0.1, loss=deviance, max_depth=50, n_estimators=1000, score=0.797, total=   2.7s\n",
      "[CV] learning_rate=0.1, loss=deviance, max_depth=100, n_estimators=10 \n",
      "[CV]  learning_rate=0.1, loss=deviance, max_depth=100, n_estimators=10, score=0.755, total=   0.0s\n",
      "[CV] learning_rate=0.1, loss=deviance, max_depth=100, n_estimators=10 \n",
      "[CV]  learning_rate=0.1, loss=deviance, max_depth=100, n_estimators=10, score=0.769, total=   0.0s\n",
      "[CV] learning_rate=0.1, loss=deviance, max_depth=100, n_estimators=10 \n",
      "[CV]  learning_rate=0.1, loss=deviance, max_depth=100, n_estimators=10, score=0.792, total=   0.0s\n",
      "[CV] learning_rate=0.1, loss=deviance, max_depth=100, n_estimators=100 \n",
      "[CV]  learning_rate=0.1, loss=deviance, max_depth=100, n_estimators=100, score=0.769, total=   0.3s\n",
      "[CV] learning_rate=0.1, loss=deviance, max_depth=100, n_estimators=100 \n",
      "[CV]  learning_rate=0.1, loss=deviance, max_depth=100, n_estimators=100, score=0.764, total=   0.2s\n",
      "[CV] learning_rate=0.1, loss=deviance, max_depth=100, n_estimators=100 \n",
      "[CV]  learning_rate=0.1, loss=deviance, max_depth=100, n_estimators=100, score=0.816, total=   0.3s\n",
      "[CV] learning_rate=0.1, loss=deviance, max_depth=100, n_estimators=500 \n",
      "[CV]  learning_rate=0.1, loss=deviance, max_depth=100, n_estimators=500, score=0.784, total=   1.0s\n",
      "[CV] learning_rate=0.1, loss=deviance, max_depth=100, n_estimators=500 \n",
      "[CV]  learning_rate=0.1, loss=deviance, max_depth=100, n_estimators=500, score=0.774, total=   0.9s\n",
      "[CV] learning_rate=0.1, loss=deviance, max_depth=100, n_estimators=500 \n"
     ]
    },
    {
     "name": "stdout",
     "output_type": "stream",
     "text": [
      "[CV]  learning_rate=0.1, loss=deviance, max_depth=100, n_estimators=500, score=0.792, total=   1.4s\n",
      "[CV] learning_rate=0.1, loss=deviance, max_depth=100, n_estimators=1000 \n",
      "[CV]  learning_rate=0.1, loss=deviance, max_depth=100, n_estimators=1000, score=0.784, total=   2.0s\n",
      "[CV] learning_rate=0.1, loss=deviance, max_depth=100, n_estimators=1000 \n",
      "[CV]  learning_rate=0.1, loss=deviance, max_depth=100, n_estimators=1000, score=0.784, total=   1.7s\n",
      "[CV] learning_rate=0.1, loss=deviance, max_depth=100, n_estimators=1000 \n",
      "[CV]  learning_rate=0.1, loss=deviance, max_depth=100, n_estimators=1000, score=0.797, total=   2.9s\n",
      "[CV] learning_rate=0.1, loss=exponential, max_depth=3, n_estimators=10 \n",
      "[CV]  learning_rate=0.1, loss=exponential, max_depth=3, n_estimators=10, score=0.827, total=   0.0s\n",
      "[CV] learning_rate=0.1, loss=exponential, max_depth=3, n_estimators=10 \n",
      "[CV]  learning_rate=0.1, loss=exponential, max_depth=3, n_estimators=10, score=0.808, total=   0.0s\n",
      "[CV] learning_rate=0.1, loss=exponential, max_depth=3, n_estimators=10 \n",
      "[CV]  learning_rate=0.1, loss=exponential, max_depth=3, n_estimators=10, score=0.792, total=   0.0s\n",
      "[CV] learning_rate=0.1, loss=exponential, max_depth=3, n_estimators=100 \n",
      "[CV]  learning_rate=0.1, loss=exponential, max_depth=3, n_estimators=100, score=0.861, total=   0.0s\n",
      "[CV] learning_rate=0.1, loss=exponential, max_depth=3, n_estimators=100 \n",
      "[CV]  learning_rate=0.1, loss=exponential, max_depth=3, n_estimators=100, score=0.817, total=   0.0s\n",
      "[CV] learning_rate=0.1, loss=exponential, max_depth=3, n_estimators=100 \n",
      "[CV]  learning_rate=0.1, loss=exponential, max_depth=3, n_estimators=100, score=0.845, total=   0.1s\n",
      "[CV] learning_rate=0.1, loss=exponential, max_depth=3, n_estimators=500 \n",
      "[CV]  learning_rate=0.1, loss=exponential, max_depth=3, n_estimators=500, score=0.808, total=   0.3s\n",
      "[CV] learning_rate=0.1, loss=exponential, max_depth=3, n_estimators=500 \n",
      "[CV]  learning_rate=0.1, loss=exponential, max_depth=3, n_estimators=500, score=0.793, total=   0.3s\n",
      "[CV] learning_rate=0.1, loss=exponential, max_depth=3, n_estimators=500 \n",
      "[CV]  learning_rate=0.1, loss=exponential, max_depth=3, n_estimators=500, score=0.836, total=   0.2s\n",
      "[CV] learning_rate=0.1, loss=exponential, max_depth=3, n_estimators=1000 \n",
      "[CV]  learning_rate=0.1, loss=exponential, max_depth=3, n_estimators=1000, score=0.788, total=   0.5s\n",
      "[CV] learning_rate=0.1, loss=exponential, max_depth=3, n_estimators=1000 \n",
      "[CV]  learning_rate=0.1, loss=exponential, max_depth=3, n_estimators=1000, score=0.788, total=   0.5s\n",
      "[CV] learning_rate=0.1, loss=exponential, max_depth=3, n_estimators=1000 \n",
      "[CV]  learning_rate=0.1, loss=exponential, max_depth=3, n_estimators=1000, score=0.807, total=   0.5s\n",
      "[CV] learning_rate=0.1, loss=exponential, max_depth=10, n_estimators=10 \n",
      "[CV]  learning_rate=0.1, loss=exponential, max_depth=10, n_estimators=10, score=0.784, total=   0.0s\n",
      "[CV] learning_rate=0.1, loss=exponential, max_depth=10, n_estimators=10 \n",
      "[CV]  learning_rate=0.1, loss=exponential, max_depth=10, n_estimators=10, score=0.764, total=   0.0s\n",
      "[CV] learning_rate=0.1, loss=exponential, max_depth=10, n_estimators=10 \n",
      "[CV]  learning_rate=0.1, loss=exponential, max_depth=10, n_estimators=10, score=0.850, total=   0.0s\n",
      "[CV] learning_rate=0.1, loss=exponential, max_depth=10, n_estimators=100 \n",
      "[CV]  learning_rate=0.1, loss=exponential, max_depth=10, n_estimators=100, score=0.760, total=   0.3s\n",
      "[CV] learning_rate=0.1, loss=exponential, max_depth=10, n_estimators=100 \n",
      "[CV]  learning_rate=0.1, loss=exponential, max_depth=10, n_estimators=100, score=0.750, total=   0.3s\n",
      "[CV] learning_rate=0.1, loss=exponential, max_depth=10, n_estimators=100 \n",
      "[CV]  learning_rate=0.1, loss=exponential, max_depth=10, n_estimators=100, score=0.797, total=   0.4s\n",
      "[CV] learning_rate=0.1, loss=exponential, max_depth=10, n_estimators=500 \n",
      "[CV]  learning_rate=0.1, loss=exponential, max_depth=10, n_estimators=500, score=0.769, total=   0.7s\n",
      "[CV] learning_rate=0.1, loss=exponential, max_depth=10, n_estimators=500 \n",
      "[CV]  learning_rate=0.1, loss=exponential, max_depth=10, n_estimators=500, score=0.760, total=   0.7s\n",
      "[CV] learning_rate=0.1, loss=exponential, max_depth=10, n_estimators=500 \n",
      "[CV]  learning_rate=0.1, loss=exponential, max_depth=10, n_estimators=500, score=0.792, total=   0.9s\n",
      "[CV] learning_rate=0.1, loss=exponential, max_depth=10, n_estimators=1000 \n",
      "[CV]  learning_rate=0.1, loss=exponential, max_depth=10, n_estimators=1000, score=0.798, total=   1.3s\n",
      "[CV] learning_rate=0.1, loss=exponential, max_depth=10, n_estimators=1000 \n",
      "[CV]  learning_rate=0.1, loss=exponential, max_depth=10, n_estimators=1000, score=0.769, total=   1.0s\n",
      "[CV] learning_rate=0.1, loss=exponential, max_depth=10, n_estimators=1000 \n",
      "[CV]  learning_rate=0.1, loss=exponential, max_depth=10, n_estimators=1000, score=0.768, total=   1.5s\n",
      "[CV] learning_rate=0.1, loss=exponential, max_depth=50, n_estimators=10 \n",
      "[CV]  learning_rate=0.1, loss=exponential, max_depth=50, n_estimators=10, score=0.745, total=   0.0s\n",
      "[CV] learning_rate=0.1, loss=exponential, max_depth=50, n_estimators=10 \n",
      "[CV]  learning_rate=0.1, loss=exponential, max_depth=50, n_estimators=10, score=0.774, total=   0.0s\n",
      "[CV] learning_rate=0.1, loss=exponential, max_depth=50, n_estimators=10 \n",
      "[CV]  learning_rate=0.1, loss=exponential, max_depth=50, n_estimators=10, score=0.797, total=   0.0s\n",
      "[CV] learning_rate=0.1, loss=exponential, max_depth=50, n_estimators=100 \n",
      "[CV]  learning_rate=0.1, loss=exponential, max_depth=50, n_estimators=100, score=0.764, total=   0.3s\n",
      "[CV] learning_rate=0.1, loss=exponential, max_depth=50, n_estimators=100 \n",
      "[CV]  learning_rate=0.1, loss=exponential, max_depth=50, n_estimators=100, score=0.760, total=   0.2s\n",
      "[CV] learning_rate=0.1, loss=exponential, max_depth=50, n_estimators=100 \n",
      "[CV]  learning_rate=0.1, loss=exponential, max_depth=50, n_estimators=100, score=0.812, total=   0.3s\n",
      "[CV] learning_rate=0.1, loss=exponential, max_depth=50, n_estimators=500 \n",
      "[CV]  learning_rate=0.1, loss=exponential, max_depth=50, n_estimators=500, score=0.769, total=   1.2s\n",
      "[CV] learning_rate=0.1, loss=exponential, max_depth=50, n_estimators=500 \n",
      "[CV]  learning_rate=0.1, loss=exponential, max_depth=50, n_estimators=500, score=0.760, total=   1.0s\n",
      "[CV] learning_rate=0.1, loss=exponential, max_depth=50, n_estimators=500 \n",
      "[CV]  learning_rate=0.1, loss=exponential, max_depth=50, n_estimators=500, score=0.778, total=   1.6s\n",
      "[CV] learning_rate=0.1, loss=exponential, max_depth=50, n_estimators=1000 \n",
      "[CV]  learning_rate=0.1, loss=exponential, max_depth=50, n_estimators=1000, score=0.793, total=   2.3s\n",
      "[CV] learning_rate=0.1, loss=exponential, max_depth=50, n_estimators=1000 \n",
      "[CV]  learning_rate=0.1, loss=exponential, max_depth=50, n_estimators=1000, score=0.779, total=   1.9s\n",
      "[CV] learning_rate=0.1, loss=exponential, max_depth=50, n_estimators=1000 \n",
      "[CV]  learning_rate=0.1, loss=exponential, max_depth=50, n_estimators=1000, score=0.773, total=   3.0s\n",
      "[CV] learning_rate=0.1, loss=exponential, max_depth=100, n_estimators=10 \n",
      "[CV]  learning_rate=0.1, loss=exponential, max_depth=100, n_estimators=10, score=0.745, total=   0.0s\n",
      "[CV] learning_rate=0.1, loss=exponential, max_depth=100, n_estimators=10 \n",
      "[CV]  learning_rate=0.1, loss=exponential, max_depth=100, n_estimators=10, score=0.774, total=   0.0s\n",
      "[CV] learning_rate=0.1, loss=exponential, max_depth=100, n_estimators=10 \n",
      "[CV]  learning_rate=0.1, loss=exponential, max_depth=100, n_estimators=10, score=0.802, total=   0.0s\n",
      "[CV] learning_rate=0.1, loss=exponential, max_depth=100, n_estimators=100 \n",
      "[CV]  learning_rate=0.1, loss=exponential, max_depth=100, n_estimators=100, score=0.760, total=   0.3s\n",
      "[CV] learning_rate=0.1, loss=exponential, max_depth=100, n_estimators=100 \n",
      "[CV]  learning_rate=0.1, loss=exponential, max_depth=100, n_estimators=100, score=0.764, total=   0.3s\n",
      "[CV] learning_rate=0.1, loss=exponential, max_depth=100, n_estimators=100 \n",
      "[CV]  learning_rate=0.1, loss=exponential, max_depth=100, n_estimators=100, score=0.807, total=   0.3s\n",
      "[CV] learning_rate=0.1, loss=exponential, max_depth=100, n_estimators=500 \n",
      "[CV]  learning_rate=0.1, loss=exponential, max_depth=100, n_estimators=500, score=0.779, total=   1.2s\n",
      "[CV] learning_rate=0.1, loss=exponential, max_depth=100, n_estimators=500 \n"
     ]
    },
    {
     "name": "stdout",
     "output_type": "stream",
     "text": [
      "[CV]  learning_rate=0.1, loss=exponential, max_depth=100, n_estimators=500, score=0.764, total=   1.0s\n",
      "[CV] learning_rate=0.1, loss=exponential, max_depth=100, n_estimators=500 \n",
      "[CV]  learning_rate=0.1, loss=exponential, max_depth=100, n_estimators=500, score=0.778, total=   1.6s\n",
      "[CV] learning_rate=0.1, loss=exponential, max_depth=100, n_estimators=1000 \n",
      "[CV]  learning_rate=0.1, loss=exponential, max_depth=100, n_estimators=1000, score=0.788, total=   2.1s\n",
      "[CV] learning_rate=0.1, loss=exponential, max_depth=100, n_estimators=1000 \n",
      "[CV]  learning_rate=0.1, loss=exponential, max_depth=100, n_estimators=1000, score=0.760, total=   1.9s\n",
      "[CV] learning_rate=0.1, loss=exponential, max_depth=100, n_estimators=1000 \n",
      "[CV]  learning_rate=0.1, loss=exponential, max_depth=100, n_estimators=1000, score=0.773, total=   3.0s\n",
      "[CV] learning_rate=1, loss=deviance, max_depth=3, n_estimators=10 ....\n",
      "[CV]  learning_rate=1, loss=deviance, max_depth=3, n_estimators=10, score=0.827, total=   0.0s\n",
      "[CV] learning_rate=1, loss=deviance, max_depth=3, n_estimators=10 ....\n",
      "[CV]  learning_rate=1, loss=deviance, max_depth=3, n_estimators=10, score=0.774, total=   0.0s\n",
      "[CV] learning_rate=1, loss=deviance, max_depth=3, n_estimators=10 ....\n",
      "[CV]  learning_rate=1, loss=deviance, max_depth=3, n_estimators=10, score=0.783, total=   0.0s\n",
      "[CV] learning_rate=1, loss=deviance, max_depth=3, n_estimators=100 ...\n",
      "[CV]  learning_rate=1, loss=deviance, max_depth=3, n_estimators=100, score=0.822, total=   0.0s\n",
      "[CV] learning_rate=1, loss=deviance, max_depth=3, n_estimators=100 ...\n",
      "[CV]  learning_rate=1, loss=deviance, max_depth=3, n_estimators=100, score=0.764, total=   0.0s\n",
      "[CV] learning_rate=1, loss=deviance, max_depth=3, n_estimators=100 ...\n",
      "[CV]  learning_rate=1, loss=deviance, max_depth=3, n_estimators=100, score=0.802, total=   0.0s\n",
      "[CV] learning_rate=1, loss=deviance, max_depth=3, n_estimators=500 ...\n",
      "[CV]  learning_rate=1, loss=deviance, max_depth=3, n_estimators=500, score=0.793, total=   0.2s\n",
      "[CV] learning_rate=1, loss=deviance, max_depth=3, n_estimators=500 ...\n",
      "[CV]  learning_rate=1, loss=deviance, max_depth=3, n_estimators=500, score=0.736, total=   0.2s\n",
      "[CV] learning_rate=1, loss=deviance, max_depth=3, n_estimators=500 ...\n",
      "[CV]  learning_rate=1, loss=deviance, max_depth=3, n_estimators=500, score=0.792, total=   0.2s\n",
      "[CV] learning_rate=1, loss=deviance, max_depth=3, n_estimators=1000 ..\n",
      "[CV]  learning_rate=1, loss=deviance, max_depth=3, n_estimators=1000, score=0.788, total=   0.4s\n",
      "[CV] learning_rate=1, loss=deviance, max_depth=3, n_estimators=1000 ..\n",
      "[CV]  learning_rate=1, loss=deviance, max_depth=3, n_estimators=1000, score=0.745, total=   0.4s\n",
      "[CV] learning_rate=1, loss=deviance, max_depth=3, n_estimators=1000 ..\n",
      "[CV]  learning_rate=1, loss=deviance, max_depth=3, n_estimators=1000, score=0.797, total=   0.4s\n",
      "[CV] learning_rate=1, loss=deviance, max_depth=10, n_estimators=10 ...\n",
      "[CV]  learning_rate=1, loss=deviance, max_depth=10, n_estimators=10, score=0.764, total=   0.0s\n",
      "[CV] learning_rate=1, loss=deviance, max_depth=10, n_estimators=10 ...\n",
      "[CV]  learning_rate=1, loss=deviance, max_depth=10, n_estimators=10, score=0.774, total=   0.0s\n",
      "[CV] learning_rate=1, loss=deviance, max_depth=10, n_estimators=10 ...\n",
      "[CV]  learning_rate=1, loss=deviance, max_depth=10, n_estimators=10, score=0.807, total=   0.0s\n",
      "[CV] learning_rate=1, loss=deviance, max_depth=10, n_estimators=100 ..\n",
      "[CV]  learning_rate=1, loss=deviance, max_depth=10, n_estimators=100, score=0.793, total=   0.1s\n",
      "[CV] learning_rate=1, loss=deviance, max_depth=10, n_estimators=100 ..\n",
      "[CV]  learning_rate=1, loss=deviance, max_depth=10, n_estimators=100, score=0.740, total=   0.1s\n",
      "[CV] learning_rate=1, loss=deviance, max_depth=10, n_estimators=100 ..\n",
      "[CV]  learning_rate=1, loss=deviance, max_depth=10, n_estimators=100, score=0.797, total=   0.1s\n",
      "[CV] learning_rate=1, loss=deviance, max_depth=10, n_estimators=500 ..\n",
      "[CV]  learning_rate=1, loss=deviance, max_depth=10, n_estimators=500, score=0.803, total=   0.4s\n",
      "[CV] learning_rate=1, loss=deviance, max_depth=10, n_estimators=500 ..\n",
      "[CV]  learning_rate=1, loss=deviance, max_depth=10, n_estimators=500, score=0.760, total=   0.4s\n",
      "[CV] learning_rate=1, loss=deviance, max_depth=10, n_estimators=500 ..\n",
      "[CV]  learning_rate=1, loss=deviance, max_depth=10, n_estimators=500, score=0.778, total=   0.5s\n",
      "[CV] learning_rate=1, loss=deviance, max_depth=10, n_estimators=1000 .\n",
      "[CV]  learning_rate=1, loss=deviance, max_depth=10, n_estimators=1000, score=0.793, total=   0.8s\n",
      "[CV] learning_rate=1, loss=deviance, max_depth=10, n_estimators=1000 .\n",
      "[CV]  learning_rate=1, loss=deviance, max_depth=10, n_estimators=1000, score=0.760, total=   0.8s\n",
      "[CV] learning_rate=1, loss=deviance, max_depth=10, n_estimators=1000 .\n",
      "[CV]  learning_rate=1, loss=deviance, max_depth=10, n_estimators=1000, score=0.787, total=   0.9s\n",
      "[CV] learning_rate=1, loss=deviance, max_depth=50, n_estimators=10 ...\n",
      "[CV]  learning_rate=1, loss=deviance, max_depth=50, n_estimators=10, score=0.764, total=   0.0s\n",
      "[CV] learning_rate=1, loss=deviance, max_depth=50, n_estimators=10 ...\n",
      "[CV]  learning_rate=1, loss=deviance, max_depth=50, n_estimators=10, score=0.745, total=   0.0s\n",
      "[CV] learning_rate=1, loss=deviance, max_depth=50, n_estimators=10 ...\n",
      "[CV]  learning_rate=1, loss=deviance, max_depth=50, n_estimators=10, score=0.802, total=   0.0s\n",
      "[CV] learning_rate=1, loss=deviance, max_depth=50, n_estimators=100 ..\n",
      "[CV]  learning_rate=1, loss=deviance, max_depth=50, n_estimators=100, score=0.793, total=   0.2s\n",
      "[CV] learning_rate=1, loss=deviance, max_depth=50, n_estimators=100 ..\n",
      "[CV]  learning_rate=1, loss=deviance, max_depth=50, n_estimators=100, score=0.779, total=   0.2s\n",
      "[CV] learning_rate=1, loss=deviance, max_depth=50, n_estimators=100 ..\n",
      "[CV]  learning_rate=1, loss=deviance, max_depth=50, n_estimators=100, score=0.807, total=   0.3s\n",
      "[CV] learning_rate=1, loss=deviance, max_depth=50, n_estimators=500 ..\n",
      "[CV]  learning_rate=1, loss=deviance, max_depth=50, n_estimators=500, score=0.808, total=   1.1s\n",
      "[CV] learning_rate=1, loss=deviance, max_depth=50, n_estimators=500 ..\n",
      "[CV]  learning_rate=1, loss=deviance, max_depth=50, n_estimators=500, score=0.784, total=   0.7s\n",
      "[CV] learning_rate=1, loss=deviance, max_depth=50, n_estimators=500 ..\n",
      "[CV]  learning_rate=1, loss=deviance, max_depth=50, n_estimators=500, score=0.783, total=   1.3s\n",
      "[CV] learning_rate=1, loss=deviance, max_depth=50, n_estimators=1000 .\n",
      "[CV]  learning_rate=1, loss=deviance, max_depth=50, n_estimators=1000, score=0.784, total=   2.4s\n",
      "[CV] learning_rate=1, loss=deviance, max_depth=50, n_estimators=1000 .\n",
      "[CV]  learning_rate=1, loss=deviance, max_depth=50, n_estimators=1000, score=0.774, total=   1.3s\n",
      "[CV] learning_rate=1, loss=deviance, max_depth=50, n_estimators=1000 .\n",
      "[CV]  learning_rate=1, loss=deviance, max_depth=50, n_estimators=1000, score=0.749, total=   2.7s\n",
      "[CV] learning_rate=1, loss=deviance, max_depth=100, n_estimators=10 ..\n",
      "[CV]  learning_rate=1, loss=deviance, max_depth=100, n_estimators=10, score=0.764, total=   0.0s\n",
      "[CV] learning_rate=1, loss=deviance, max_depth=100, n_estimators=10 ..\n",
      "[CV]  learning_rate=1, loss=deviance, max_depth=100, n_estimators=10, score=0.745, total=   0.0s\n",
      "[CV] learning_rate=1, loss=deviance, max_depth=100, n_estimators=10 ..\n",
      "[CV]  learning_rate=1, loss=deviance, max_depth=100, n_estimators=10, score=0.807, total=   0.0s\n",
      "[CV] learning_rate=1, loss=deviance, max_depth=100, n_estimators=100 .\n",
      "[CV]  learning_rate=1, loss=deviance, max_depth=100, n_estimators=100, score=0.808, total=   0.2s\n",
      "[CV] learning_rate=1, loss=deviance, max_depth=100, n_estimators=100 .\n",
      "[CV]  learning_rate=1, loss=deviance, max_depth=100, n_estimators=100, score=0.774, total=   0.2s\n",
      "[CV] learning_rate=1, loss=deviance, max_depth=100, n_estimators=100 .\n",
      "[CV]  learning_rate=1, loss=deviance, max_depth=100, n_estimators=100, score=0.797, total=   0.3s\n",
      "[CV] learning_rate=1, loss=deviance, max_depth=100, n_estimators=500 .\n",
      "[CV]  learning_rate=1, loss=deviance, max_depth=100, n_estimators=500, score=0.793, total=   1.1s\n",
      "[CV] learning_rate=1, loss=deviance, max_depth=100, n_estimators=500 .\n",
      "[CV]  learning_rate=1, loss=deviance, max_depth=100, n_estimators=500, score=0.769, total=   0.6s\n",
      "[CV] learning_rate=1, loss=deviance, max_depth=100, n_estimators=500 .\n"
     ]
    },
    {
     "name": "stdout",
     "output_type": "stream",
     "text": [
      "[CV]  learning_rate=1, loss=deviance, max_depth=100, n_estimators=500, score=0.758, total=   1.3s\n",
      "[CV] learning_rate=1, loss=deviance, max_depth=100, n_estimators=1000 \n",
      "[CV]  learning_rate=1, loss=deviance, max_depth=100, n_estimators=1000, score=0.793, total=   2.3s\n",
      "[CV] learning_rate=1, loss=deviance, max_depth=100, n_estimators=1000 \n",
      "[CV]  learning_rate=1, loss=deviance, max_depth=100, n_estimators=1000, score=0.769, total=   1.4s\n",
      "[CV] learning_rate=1, loss=deviance, max_depth=100, n_estimators=1000 \n",
      "[CV]  learning_rate=1, loss=deviance, max_depth=100, n_estimators=1000, score=0.768, total=   2.5s\n",
      "[CV] learning_rate=1, loss=exponential, max_depth=3, n_estimators=10 .\n",
      "[CV]  learning_rate=1, loss=exponential, max_depth=3, n_estimators=10, score=0.808, total=   0.0s\n",
      "[CV] learning_rate=1, loss=exponential, max_depth=3, n_estimators=10 .\n",
      "[CV]  learning_rate=1, loss=exponential, max_depth=3, n_estimators=10, score=0.784, total=   0.0s\n",
      "[CV] learning_rate=1, loss=exponential, max_depth=3, n_estimators=10 .\n",
      "[CV]  learning_rate=1, loss=exponential, max_depth=3, n_estimators=10, score=0.826, total=   0.0s\n",
      "[CV] learning_rate=1, loss=exponential, max_depth=3, n_estimators=100 \n",
      "[CV]  learning_rate=1, loss=exponential, max_depth=3, n_estimators=100, score=0.793, total=   0.0s\n",
      "[CV] learning_rate=1, loss=exponential, max_depth=3, n_estimators=100 \n",
      "[CV]  learning_rate=1, loss=exponential, max_depth=3, n_estimators=100, score=0.755, total=   0.0s\n",
      "[CV] learning_rate=1, loss=exponential, max_depth=3, n_estimators=100 \n",
      "[CV]  learning_rate=1, loss=exponential, max_depth=3, n_estimators=100, score=0.831, total=   0.0s\n",
      "[CV] learning_rate=1, loss=exponential, max_depth=3, n_estimators=500 \n",
      "[CV]  learning_rate=1, loss=exponential, max_depth=3, n_estimators=500, score=0.779, total=   0.2s\n",
      "[CV] learning_rate=1, loss=exponential, max_depth=3, n_estimators=500 \n",
      "[CV]  learning_rate=1, loss=exponential, max_depth=3, n_estimators=500, score=0.745, total=   0.2s\n",
      "[CV] learning_rate=1, loss=exponential, max_depth=3, n_estimators=500 \n",
      "[CV]  learning_rate=1, loss=exponential, max_depth=3, n_estimators=500, score=0.812, total=   0.3s\n",
      "[CV] learning_rate=1, loss=exponential, max_depth=3, n_estimators=1000 \n",
      "[CV]  learning_rate=1, loss=exponential, max_depth=3, n_estimators=1000, score=0.788, total=   0.5s\n",
      "[CV] learning_rate=1, loss=exponential, max_depth=3, n_estimators=1000 \n",
      "[CV]  learning_rate=1, loss=exponential, max_depth=3, n_estimators=1000, score=0.750, total=   0.5s\n",
      "[CV] learning_rate=1, loss=exponential, max_depth=3, n_estimators=1000 \n",
      "[CV]  learning_rate=1, loss=exponential, max_depth=3, n_estimators=1000, score=0.821, total=   0.5s\n",
      "[CV] learning_rate=1, loss=exponential, max_depth=10, n_estimators=10 \n",
      "[CV]  learning_rate=1, loss=exponential, max_depth=10, n_estimators=10, score=0.784, total=   0.0s\n",
      "[CV] learning_rate=1, loss=exponential, max_depth=10, n_estimators=10 \n",
      "[CV]  learning_rate=1, loss=exponential, max_depth=10, n_estimators=10, score=0.736, total=   0.0s\n",
      "[CV] learning_rate=1, loss=exponential, max_depth=10, n_estimators=10 \n",
      "[CV]  learning_rate=1, loss=exponential, max_depth=10, n_estimators=10, score=0.826, total=   0.0s\n",
      "[CV] learning_rate=1, loss=exponential, max_depth=10, n_estimators=100 \n",
      "[CV]  learning_rate=1, loss=exponential, max_depth=10, n_estimators=100, score=0.779, total=   0.1s\n",
      "[CV] learning_rate=1, loss=exponential, max_depth=10, n_estimators=100 \n",
      "[CV]  learning_rate=1, loss=exponential, max_depth=10, n_estimators=100, score=0.760, total=   0.1s\n",
      "[CV] learning_rate=1, loss=exponential, max_depth=10, n_estimators=100 \n",
      "[CV]  learning_rate=1, loss=exponential, max_depth=10, n_estimators=100, score=0.797, total=   0.2s\n",
      "[CV] learning_rate=1, loss=exponential, max_depth=10, n_estimators=500 \n",
      "[CV]  learning_rate=1, loss=exponential, max_depth=10, n_estimators=500, score=0.779, total=   0.4s\n",
      "[CV] learning_rate=1, loss=exponential, max_depth=10, n_estimators=500 \n",
      "[CV]  learning_rate=1, loss=exponential, max_depth=10, n_estimators=500, score=0.740, total=   0.4s\n",
      "[CV] learning_rate=1, loss=exponential, max_depth=10, n_estimators=500 \n",
      "[CV]  learning_rate=1, loss=exponential, max_depth=10, n_estimators=500, score=0.802, total=   0.5s\n",
      "[CV] learning_rate=1, loss=exponential, max_depth=10, n_estimators=1000 \n",
      "[CV]  learning_rate=1, loss=exponential, max_depth=10, n_estimators=1000, score=0.803, total=   0.8s\n",
      "[CV] learning_rate=1, loss=exponential, max_depth=10, n_estimators=1000 \n",
      "[CV]  learning_rate=1, loss=exponential, max_depth=10, n_estimators=1000, score=0.726, total=   0.8s\n",
      "[CV] learning_rate=1, loss=exponential, max_depth=10, n_estimators=1000 \n",
      "[CV]  learning_rate=1, loss=exponential, max_depth=10, n_estimators=1000, score=0.792, total=   0.7s\n",
      "[CV] learning_rate=1, loss=exponential, max_depth=50, n_estimators=10 \n",
      "[CV]  learning_rate=1, loss=exponential, max_depth=50, n_estimators=10, score=0.745, total=   0.0s\n",
      "[CV] learning_rate=1, loss=exponential, max_depth=50, n_estimators=10 \n",
      "[CV]  learning_rate=1, loss=exponential, max_depth=50, n_estimators=10, score=0.726, total=   0.0s\n",
      "[CV] learning_rate=1, loss=exponential, max_depth=50, n_estimators=10 \n",
      "[CV]  learning_rate=1, loss=exponential, max_depth=50, n_estimators=10, score=0.778, total=   0.0s\n",
      "[CV] learning_rate=1, loss=exponential, max_depth=50, n_estimators=100 \n",
      "[CV]  learning_rate=1, loss=exponential, max_depth=50, n_estimators=100, score=0.769, total=   0.3s\n",
      "[CV] learning_rate=1, loss=exponential, max_depth=50, n_estimators=100 \n",
      "[CV]  learning_rate=1, loss=exponential, max_depth=50, n_estimators=100, score=0.784, total=   0.2s\n",
      "[CV] learning_rate=1, loss=exponential, max_depth=50, n_estimators=100 \n",
      "[CV]  learning_rate=1, loss=exponential, max_depth=50, n_estimators=100, score=0.778, total=   0.3s\n",
      "[CV] learning_rate=1, loss=exponential, max_depth=50, n_estimators=500 \n",
      "[CV]  learning_rate=1, loss=exponential, max_depth=50, n_estimators=500, score=0.731, total=   1.3s\n",
      "[CV] learning_rate=1, loss=exponential, max_depth=50, n_estimators=500 \n",
      "[CV]  learning_rate=1, loss=exponential, max_depth=50, n_estimators=500, score=0.736, total=   1.1s\n",
      "[CV] learning_rate=1, loss=exponential, max_depth=50, n_estimators=500 \n",
      "[CV]  learning_rate=1, loss=exponential, max_depth=50, n_estimators=500, score=0.710, total=   1.4s\n",
      "[CV] learning_rate=1, loss=exponential, max_depth=50, n_estimators=1000 \n",
      "[CV]  learning_rate=1, loss=exponential, max_depth=50, n_estimators=1000, score=0.716, total=   2.4s\n",
      "[CV] learning_rate=1, loss=exponential, max_depth=50, n_estimators=1000 \n",
      "[CV]  learning_rate=1, loss=exponential, max_depth=50, n_estimators=1000, score=0.731, total=   2.2s\n",
      "[CV] learning_rate=1, loss=exponential, max_depth=50, n_estimators=1000 \n",
      "[CV]  learning_rate=1, loss=exponential, max_depth=50, n_estimators=1000, score=0.754, total=   3.4s\n",
      "[CV] learning_rate=1, loss=exponential, max_depth=100, n_estimators=10 \n",
      "[CV]  learning_rate=1, loss=exponential, max_depth=100, n_estimators=10, score=0.736, total=   0.0s\n",
      "[CV] learning_rate=1, loss=exponential, max_depth=100, n_estimators=10 \n",
      "[CV]  learning_rate=1, loss=exponential, max_depth=100, n_estimators=10, score=0.726, total=   0.0s\n",
      "[CV] learning_rate=1, loss=exponential, max_depth=100, n_estimators=10 \n",
      "[CV]  learning_rate=1, loss=exponential, max_depth=100, n_estimators=10, score=0.783, total=   0.0s\n",
      "[CV] learning_rate=1, loss=exponential, max_depth=100, n_estimators=100 \n",
      "[CV]  learning_rate=1, loss=exponential, max_depth=100, n_estimators=100, score=0.764, total=   0.2s\n",
      "[CV] learning_rate=1, loss=exponential, max_depth=100, n_estimators=100 \n",
      "[CV]  learning_rate=1, loss=exponential, max_depth=100, n_estimators=100, score=0.779, total=   0.2s\n",
      "[CV] learning_rate=1, loss=exponential, max_depth=100, n_estimators=100 \n",
      "[CV]  learning_rate=1, loss=exponential, max_depth=100, n_estimators=100, score=0.783, total=   0.3s\n",
      "[CV] learning_rate=1, loss=exponential, max_depth=100, n_estimators=500 \n",
      "[CV]  learning_rate=1, loss=exponential, max_depth=100, n_estimators=500, score=0.731, total=   1.7s\n",
      "[CV] learning_rate=1, loss=exponential, max_depth=100, n_estimators=500 \n",
      "[CV]  learning_rate=1, loss=exponential, max_depth=100, n_estimators=500, score=0.750, total=   1.4s\n",
      "[CV] learning_rate=1, loss=exponential, max_depth=100, n_estimators=500 \n"
     ]
    },
    {
     "name": "stdout",
     "output_type": "stream",
     "text": [
      "[CV]  learning_rate=1, loss=exponential, max_depth=100, n_estimators=500, score=0.710, total=   1.9s\n",
      "[CV] learning_rate=1, loss=exponential, max_depth=100, n_estimators=1000 \n",
      "[CV]  learning_rate=1, loss=exponential, max_depth=100, n_estimators=1000, score=0.702, total=   3.4s\n",
      "[CV] learning_rate=1, loss=exponential, max_depth=100, n_estimators=1000 \n",
      "[CV]  learning_rate=1, loss=exponential, max_depth=100, n_estimators=1000, score=0.736, total=   3.1s\n",
      "[CV] learning_rate=1, loss=exponential, max_depth=100, n_estimators=1000 \n",
      "[CV]  learning_rate=1, loss=exponential, max_depth=100, n_estimators=1000, score=0.725, total=   3.8s\n",
      "[CV] learning_rate=10, loss=deviance, max_depth=3, n_estimators=10 ...\n",
      "[CV]  learning_rate=10, loss=deviance, max_depth=3, n_estimators=10, score=0.832, total=   0.0s\n",
      "[CV] learning_rate=10, loss=deviance, max_depth=3, n_estimators=10 ...\n",
      "[CV]  learning_rate=10, loss=deviance, max_depth=3, n_estimators=10, score=0.255, total=   0.0s\n",
      "[CV] learning_rate=10, loss=deviance, max_depth=3, n_estimators=10 ...\n",
      "[CV]  learning_rate=10, loss=deviance, max_depth=3, n_estimators=10, score=0.217, total=   0.0s\n",
      "[CV] learning_rate=10, loss=deviance, max_depth=3, n_estimators=100 ..\n",
      "[CV]  learning_rate=10, loss=deviance, max_depth=3, n_estimators=100, score=0.832, total=   0.0s\n",
      "[CV] learning_rate=10, loss=deviance, max_depth=3, n_estimators=100 ..\n",
      "[CV]  learning_rate=10, loss=deviance, max_depth=3, n_estimators=100, score=0.255, total=   0.0s\n",
      "[CV] learning_rate=10, loss=deviance, max_depth=3, n_estimators=100 ..\n",
      "[CV]  learning_rate=10, loss=deviance, max_depth=3, n_estimators=100, score=0.217, total=   0.0s\n",
      "[CV] learning_rate=10, loss=deviance, max_depth=3, n_estimators=500 ..\n",
      "[CV]  learning_rate=10, loss=deviance, max_depth=3, n_estimators=500, score=0.832, total=   0.2s\n",
      "[CV] learning_rate=10, loss=deviance, max_depth=3, n_estimators=500 ..\n",
      "[CV]  learning_rate=10, loss=deviance, max_depth=3, n_estimators=500, score=0.255, total=   0.2s\n",
      "[CV] learning_rate=10, loss=deviance, max_depth=3, n_estimators=500 ..\n",
      "[CV]  learning_rate=10, loss=deviance, max_depth=3, n_estimators=500, score=0.217, total=   0.2s\n",
      "[CV] learning_rate=10, loss=deviance, max_depth=3, n_estimators=1000 .\n",
      "[CV]  learning_rate=10, loss=deviance, max_depth=3, n_estimators=1000, score=0.832, total=   0.4s\n",
      "[CV] learning_rate=10, loss=deviance, max_depth=3, n_estimators=1000 .\n",
      "[CV]  learning_rate=10, loss=deviance, max_depth=3, n_estimators=1000, score=0.255, total=   0.4s\n",
      "[CV] learning_rate=10, loss=deviance, max_depth=3, n_estimators=1000 .\n",
      "[CV]  learning_rate=10, loss=deviance, max_depth=3, n_estimators=1000, score=0.217, total=   0.4s\n",
      "[CV] learning_rate=10, loss=deviance, max_depth=10, n_estimators=10 ..\n",
      "[CV]  learning_rate=10, loss=deviance, max_depth=10, n_estimators=10, score=0.721, total=   0.0s\n",
      "[CV] learning_rate=10, loss=deviance, max_depth=10, n_estimators=10 ..\n",
      "[CV]  learning_rate=10, loss=deviance, max_depth=10, n_estimators=10, score=0.731, total=   0.0s\n",
      "[CV] learning_rate=10, loss=deviance, max_depth=10, n_estimators=10 ..\n",
      "[CV]  learning_rate=10, loss=deviance, max_depth=10, n_estimators=10, score=0.618, total=   0.0s\n",
      "[CV] learning_rate=10, loss=deviance, max_depth=10, n_estimators=100 .\n",
      "[CV]  learning_rate=10, loss=deviance, max_depth=10, n_estimators=100, score=0.712, total=   0.1s\n",
      "[CV] learning_rate=10, loss=deviance, max_depth=10, n_estimators=100 .\n",
      "[CV]  learning_rate=10, loss=deviance, max_depth=10, n_estimators=100, score=0.736, total=   0.1s\n",
      "[CV] learning_rate=10, loss=deviance, max_depth=10, n_estimators=100 .\n",
      "[CV]  learning_rate=10, loss=deviance, max_depth=10, n_estimators=100, score=0.614, total=   0.1s\n",
      "[CV] learning_rate=10, loss=deviance, max_depth=10, n_estimators=500 .\n",
      "[CV]  learning_rate=10, loss=deviance, max_depth=10, n_estimators=500, score=0.726, total=   0.5s\n",
      "[CV] learning_rate=10, loss=deviance, max_depth=10, n_estimators=500 .\n",
      "[CV]  learning_rate=10, loss=deviance, max_depth=10, n_estimators=500, score=0.740, total=   0.3s\n",
      "[CV] learning_rate=10, loss=deviance, max_depth=10, n_estimators=500 .\n",
      "[CV]  learning_rate=10, loss=deviance, max_depth=10, n_estimators=500, score=0.614, total=   0.7s\n",
      "[CV] learning_rate=10, loss=deviance, max_depth=10, n_estimators=1000 \n",
      "[CV]  learning_rate=10, loss=deviance, max_depth=10, n_estimators=1000, score=0.721, total=   0.9s\n",
      "[CV] learning_rate=10, loss=deviance, max_depth=10, n_estimators=1000 \n",
      "[CV]  learning_rate=10, loss=deviance, max_depth=10, n_estimators=1000, score=0.740, total=   0.7s\n",
      "[CV] learning_rate=10, loss=deviance, max_depth=10, n_estimators=1000 \n",
      "[CV]  learning_rate=10, loss=deviance, max_depth=10, n_estimators=1000, score=0.614, total=   1.4s\n",
      "[CV] learning_rate=10, loss=deviance, max_depth=50, n_estimators=10 ..\n",
      "[CV]  learning_rate=10, loss=deviance, max_depth=50, n_estimators=10, score=0.745, total=   0.0s\n",
      "[CV] learning_rate=10, loss=deviance, max_depth=50, n_estimators=10 ..\n",
      "[CV]  learning_rate=10, loss=deviance, max_depth=50, n_estimators=10, score=0.764, total=   0.0s\n",
      "[CV] learning_rate=10, loss=deviance, max_depth=50, n_estimators=10 ..\n",
      "[CV]  learning_rate=10, loss=deviance, max_depth=50, n_estimators=10, score=0.773, total=   0.0s\n",
      "[CV] learning_rate=10, loss=deviance, max_depth=50, n_estimators=100 .\n",
      "[CV]  learning_rate=10, loss=deviance, max_depth=50, n_estimators=100, score=0.750, total=   0.1s\n",
      "[CV] learning_rate=10, loss=deviance, max_depth=50, n_estimators=100 .\n",
      "[CV]  learning_rate=10, loss=deviance, max_depth=50, n_estimators=100, score=0.764, total=   0.1s\n",
      "[CV] learning_rate=10, loss=deviance, max_depth=50, n_estimators=100 .\n",
      "[CV]  learning_rate=10, loss=deviance, max_depth=50, n_estimators=100, score=0.773, total=   0.1s\n",
      "[CV] learning_rate=10, loss=deviance, max_depth=50, n_estimators=500 .\n",
      "[CV]  learning_rate=10, loss=deviance, max_depth=50, n_estimators=500, score=0.750, total=   0.5s\n",
      "[CV] learning_rate=10, loss=deviance, max_depth=50, n_estimators=500 .\n",
      "[CV]  learning_rate=10, loss=deviance, max_depth=50, n_estimators=500, score=0.764, total=   0.3s\n",
      "[CV] learning_rate=10, loss=deviance, max_depth=50, n_estimators=500 .\n",
      "[CV]  learning_rate=10, loss=deviance, max_depth=50, n_estimators=500, score=0.768, total=   0.6s\n",
      "[CV] learning_rate=10, loss=deviance, max_depth=50, n_estimators=1000 \n",
      "[CV]  learning_rate=10, loss=deviance, max_depth=50, n_estimators=1000, score=0.760, total=   0.9s\n",
      "[CV] learning_rate=10, loss=deviance, max_depth=50, n_estimators=1000 \n",
      "[CV]  learning_rate=10, loss=deviance, max_depth=50, n_estimators=1000, score=0.760, total=   0.7s\n",
      "[CV] learning_rate=10, loss=deviance, max_depth=50, n_estimators=1000 \n",
      "[CV]  learning_rate=10, loss=deviance, max_depth=50, n_estimators=1000, score=0.768, total=   1.1s\n",
      "[CV] learning_rate=10, loss=deviance, max_depth=100, n_estimators=10 .\n",
      "[CV]  learning_rate=10, loss=deviance, max_depth=100, n_estimators=10, score=0.745, total=   0.0s\n",
      "[CV] learning_rate=10, loss=deviance, max_depth=100, n_estimators=10 .\n",
      "[CV]  learning_rate=10, loss=deviance, max_depth=100, n_estimators=10, score=0.760, total=   0.0s\n",
      "[CV] learning_rate=10, loss=deviance, max_depth=100, n_estimators=10 .\n",
      "[CV]  learning_rate=10, loss=deviance, max_depth=100, n_estimators=10, score=0.768, total=   0.0s\n",
      "[CV] learning_rate=10, loss=deviance, max_depth=100, n_estimators=100 \n",
      "[CV]  learning_rate=10, loss=deviance, max_depth=100, n_estimators=100, score=0.755, total=   0.1s\n",
      "[CV] learning_rate=10, loss=deviance, max_depth=100, n_estimators=100 \n",
      "[CV]  learning_rate=10, loss=deviance, max_depth=100, n_estimators=100, score=0.760, total=   0.1s\n",
      "[CV] learning_rate=10, loss=deviance, max_depth=100, n_estimators=100 \n",
      "[CV]  learning_rate=10, loss=deviance, max_depth=100, n_estimators=100, score=0.783, total=   0.1s\n",
      "[CV] learning_rate=10, loss=deviance, max_depth=100, n_estimators=500 \n",
      "[CV]  learning_rate=10, loss=deviance, max_depth=100, n_estimators=500, score=0.736, total=   0.5s\n",
      "[CV] learning_rate=10, loss=deviance, max_depth=100, n_estimators=500 \n",
      "[CV]  learning_rate=10, loss=deviance, max_depth=100, n_estimators=500, score=0.760, total=   0.3s\n",
      "[CV] learning_rate=10, loss=deviance, max_depth=100, n_estimators=500 \n",
      "[CV]  learning_rate=10, loss=deviance, max_depth=100, n_estimators=500, score=0.783, total=   0.6s\n",
      "[CV] learning_rate=10, loss=deviance, max_depth=100, n_estimators=1000 \n"
     ]
    },
    {
     "name": "stdout",
     "output_type": "stream",
     "text": [
      "[CV]  learning_rate=10, loss=deviance, max_depth=100, n_estimators=1000, score=0.760, total=   0.9s\n",
      "[CV] learning_rate=10, loss=deviance, max_depth=100, n_estimators=1000 \n",
      "[CV]  learning_rate=10, loss=deviance, max_depth=100, n_estimators=1000, score=0.764, total=   0.6s\n",
      "[CV] learning_rate=10, loss=deviance, max_depth=100, n_estimators=1000 \n",
      "[CV]  learning_rate=10, loss=deviance, max_depth=100, n_estimators=1000, score=0.773, total=   1.0s\n",
      "[CV] learning_rate=10, loss=exponential, max_depth=3, n_estimators=10 \n",
      "[CV]  learning_rate=10, loss=exponential, max_depth=3, n_estimators=10, score=0.312, total=   0.0s\n",
      "[CV] learning_rate=10, loss=exponential, max_depth=3, n_estimators=10 \n",
      "[CV]  learning_rate=10, loss=exponential, max_depth=3, n_estimators=10, score=0.731, total=   0.0s\n",
      "[CV] learning_rate=10, loss=exponential, max_depth=3, n_estimators=10 \n",
      "[CV]  learning_rate=10, loss=exponential, max_depth=3, n_estimators=10, score=0.266, total=   0.0s\n",
      "[CV] learning_rate=10, loss=exponential, max_depth=3, n_estimators=100 \n",
      "[CV]  learning_rate=10, loss=exponential, max_depth=3, n_estimators=100, score=0.380, total=   0.1s\n",
      "[CV] learning_rate=10, loss=exponential, max_depth=3, n_estimators=100 \n",
      "[CV]  learning_rate=10, loss=exponential, max_depth=3, n_estimators=100, score=0.784, total=   0.1s\n",
      "[CV] learning_rate=10, loss=exponential, max_depth=3, n_estimators=100 \n",
      "[CV]  learning_rate=10, loss=exponential, max_depth=3, n_estimators=100, score=0.266, total=   0.1s\n",
      "[CV] learning_rate=10, loss=exponential, max_depth=3, n_estimators=500 \n",
      "[CV]  learning_rate=10, loss=exponential, max_depth=3, n_estimators=500, score=0.385, total=   0.2s\n",
      "[CV] learning_rate=10, loss=exponential, max_depth=3, n_estimators=500 \n",
      "[CV]  learning_rate=10, loss=exponential, max_depth=3, n_estimators=500, score=0.769, total=   0.2s\n",
      "[CV] learning_rate=10, loss=exponential, max_depth=3, n_estimators=500 \n",
      "[CV]  learning_rate=10, loss=exponential, max_depth=3, n_estimators=500, score=0.271, total=   0.2s\n",
      "[CV] learning_rate=10, loss=exponential, max_depth=3, n_estimators=1000 \n",
      "[CV]  learning_rate=10, loss=exponential, max_depth=3, n_estimators=1000, score=0.404, total=   0.5s\n",
      "[CV] learning_rate=10, loss=exponential, max_depth=3, n_estimators=1000 \n",
      "[CV]  learning_rate=10, loss=exponential, max_depth=3, n_estimators=1000, score=0.784, total=   0.5s\n",
      "[CV] learning_rate=10, loss=exponential, max_depth=3, n_estimators=1000 \n",
      "[CV]  learning_rate=10, loss=exponential, max_depth=3, n_estimators=1000, score=0.377, total=   0.5s\n",
      "[CV] learning_rate=10, loss=exponential, max_depth=10, n_estimators=10 \n",
      "[CV]  learning_rate=10, loss=exponential, max_depth=10, n_estimators=10, score=0.745, total=   0.0s\n",
      "[CV] learning_rate=10, loss=exponential, max_depth=10, n_estimators=10 \n",
      "[CV]  learning_rate=10, loss=exponential, max_depth=10, n_estimators=10, score=0.736, total=   0.0s\n",
      "[CV] learning_rate=10, loss=exponential, max_depth=10, n_estimators=10 \n",
      "[CV]  learning_rate=10, loss=exponential, max_depth=10, n_estimators=10, score=0.763, total=   0.0s\n",
      "[CV] learning_rate=10, loss=exponential, max_depth=10, n_estimators=100 \n",
      "[CV]  learning_rate=10, loss=exponential, max_depth=10, n_estimators=100, score=0.740, total=   0.2s\n",
      "[CV] learning_rate=10, loss=exponential, max_depth=10, n_estimators=100 \n",
      "[CV]  learning_rate=10, loss=exponential, max_depth=10, n_estimators=100, score=0.745, total=   0.1s\n",
      "[CV] learning_rate=10, loss=exponential, max_depth=10, n_estimators=100 \n",
      "[CV]  learning_rate=10, loss=exponential, max_depth=10, n_estimators=100, score=0.754, total=   0.2s\n",
      "[CV] learning_rate=10, loss=exponential, max_depth=10, n_estimators=500 \n",
      "[CV]  learning_rate=10, loss=exponential, max_depth=10, n_estimators=500, score=0.692, total=   0.7s\n",
      "[CV] learning_rate=10, loss=exponential, max_depth=10, n_estimators=500 \n",
      "[CV]  learning_rate=10, loss=exponential, max_depth=10, n_estimators=500, score=0.736, total=   0.7s\n",
      "[CV] learning_rate=10, loss=exponential, max_depth=10, n_estimators=500 \n",
      "[CV]  learning_rate=10, loss=exponential, max_depth=10, n_estimators=500, score=0.758, total=   0.7s\n",
      "[CV] learning_rate=10, loss=exponential, max_depth=10, n_estimators=1000 \n",
      "[CV]  learning_rate=10, loss=exponential, max_depth=10, n_estimators=1000, score=0.745, total=   1.2s\n",
      "[CV] learning_rate=10, loss=exponential, max_depth=10, n_estimators=1000 \n",
      "[CV]  learning_rate=10, loss=exponential, max_depth=10, n_estimators=1000, score=0.745, total=   1.0s\n",
      "[CV] learning_rate=10, loss=exponential, max_depth=10, n_estimators=1000 \n",
      "[CV]  learning_rate=10, loss=exponential, max_depth=10, n_estimators=1000, score=0.734, total=   1.4s\n",
      "[CV] learning_rate=10, loss=exponential, max_depth=50, n_estimators=10 \n",
      "[CV]  learning_rate=10, loss=exponential, max_depth=50, n_estimators=10, score=0.726, total=   0.0s\n",
      "[CV] learning_rate=10, loss=exponential, max_depth=50, n_estimators=10 \n",
      "[CV]  learning_rate=10, loss=exponential, max_depth=50, n_estimators=10, score=0.740, total=   0.0s\n",
      "[CV] learning_rate=10, loss=exponential, max_depth=50, n_estimators=10 \n",
      "[CV]  learning_rate=10, loss=exponential, max_depth=50, n_estimators=10, score=0.729, total=   0.0s\n",
      "[CV] learning_rate=10, loss=exponential, max_depth=50, n_estimators=100 \n",
      "[CV]  learning_rate=10, loss=exponential, max_depth=50, n_estimators=100, score=0.716, total=   0.1s\n",
      "[CV] learning_rate=10, loss=exponential, max_depth=50, n_estimators=100 \n",
      "[CV]  learning_rate=10, loss=exponential, max_depth=50, n_estimators=100, score=0.736, total=   0.1s\n",
      "[CV] learning_rate=10, loss=exponential, max_depth=50, n_estimators=100 \n",
      "[CV]  learning_rate=10, loss=exponential, max_depth=50, n_estimators=100, score=0.710, total=   0.2s\n",
      "[CV] learning_rate=10, loss=exponential, max_depth=50, n_estimators=500 \n",
      "[CV]  learning_rate=10, loss=exponential, max_depth=50, n_estimators=500, score=0.726, total=   0.5s\n",
      "[CV] learning_rate=10, loss=exponential, max_depth=50, n_estimators=500 \n",
      "[CV]  learning_rate=10, loss=exponential, max_depth=50, n_estimators=500, score=0.726, total=   0.3s\n",
      "[CV] learning_rate=10, loss=exponential, max_depth=50, n_estimators=500 \n",
      "[CV]  learning_rate=10, loss=exponential, max_depth=50, n_estimators=500, score=0.700, total=   0.6s\n",
      "[CV] learning_rate=10, loss=exponential, max_depth=50, n_estimators=1000 \n",
      "[CV]  learning_rate=10, loss=exponential, max_depth=50, n_estimators=1000, score=0.716, total=   0.9s\n",
      "[CV] learning_rate=10, loss=exponential, max_depth=50, n_estimators=1000 \n",
      "[CV]  learning_rate=10, loss=exponential, max_depth=50, n_estimators=1000, score=0.707, total=   0.6s\n",
      "[CV] learning_rate=10, loss=exponential, max_depth=50, n_estimators=1000 \n",
      "[CV]  learning_rate=10, loss=exponential, max_depth=50, n_estimators=1000, score=0.715, total=   1.2s\n",
      "[CV] learning_rate=10, loss=exponential, max_depth=100, n_estimators=10 \n",
      "[CV]  learning_rate=10, loss=exponential, max_depth=100, n_estimators=10, score=0.721, total=   0.0s\n",
      "[CV] learning_rate=10, loss=exponential, max_depth=100, n_estimators=10 \n",
      "[CV]  learning_rate=10, loss=exponential, max_depth=100, n_estimators=10, score=0.740, total=   0.0s\n",
      "[CV] learning_rate=10, loss=exponential, max_depth=100, n_estimators=10 \n",
      "[CV]  learning_rate=10, loss=exponential, max_depth=100, n_estimators=10, score=0.734, total=   0.0s\n",
      "[CV] learning_rate=10, loss=exponential, max_depth=100, n_estimators=100 \n",
      "[CV]  learning_rate=10, loss=exponential, max_depth=100, n_estimators=100, score=0.721, total=   0.1s\n",
      "[CV] learning_rate=10, loss=exponential, max_depth=100, n_estimators=100 \n",
      "[CV]  learning_rate=10, loss=exponential, max_depth=100, n_estimators=100, score=0.736, total=   0.1s\n",
      "[CV] learning_rate=10, loss=exponential, max_depth=100, n_estimators=100 \n",
      "[CV]  learning_rate=10, loss=exponential, max_depth=100, n_estimators=100, score=0.710, total=   0.2s\n",
      "[CV] learning_rate=10, loss=exponential, max_depth=100, n_estimators=500 \n",
      "[CV]  learning_rate=10, loss=exponential, max_depth=100, n_estimators=500, score=0.721, total=   0.5s\n",
      "[CV] learning_rate=10, loss=exponential, max_depth=100, n_estimators=500 \n",
      "[CV]  learning_rate=10, loss=exponential, max_depth=100, n_estimators=500, score=0.726, total=   0.3s\n",
      "[CV] learning_rate=10, loss=exponential, max_depth=100, n_estimators=500 \n",
      "[CV]  learning_rate=10, loss=exponential, max_depth=100, n_estimators=500, score=0.710, total=   0.7s\n",
      "[CV] learning_rate=10, loss=exponential, max_depth=100, n_estimators=1000 \n"
     ]
    },
    {
     "name": "stdout",
     "output_type": "stream",
     "text": [
      "[CV]  learning_rate=10, loss=exponential, max_depth=100, n_estimators=1000, score=0.721, total=   1.0s\n",
      "[CV] learning_rate=10, loss=exponential, max_depth=100, n_estimators=1000 \n",
      "[CV]  learning_rate=10, loss=exponential, max_depth=100, n_estimators=1000, score=0.707, total=   0.7s\n",
      "[CV] learning_rate=10, loss=exponential, max_depth=100, n_estimators=1000 \n",
      "[CV]  learning_rate=10, loss=exponential, max_depth=100, n_estimators=1000, score=0.715, total=   1.4s\n"
     ]
    },
    {
     "name": "stderr",
     "output_type": "stream",
     "text": [
      "[Parallel(n_jobs=1)]: Done 480 out of 480 | elapsed:  5.4min finished\n"
     ]
    },
    {
     "data": {
      "text/plain": [
       "GridSearchCV(cv='warn', error_score='raise-deprecating',\n",
       "             estimator=GradientBoostingClassifier(criterion='friedman_mse',\n",
       "                                                  init=None, learning_rate=0.1,\n",
       "                                                  loss='deviance', max_depth=3,\n",
       "                                                  max_features=None,\n",
       "                                                  max_leaf_nodes=None,\n",
       "                                                  min_impurity_decrease=0.0,\n",
       "                                                  min_impurity_split=None,\n",
       "                                                  min_samples_leaf=1,\n",
       "                                                  min_samples_split=2,\n",
       "                                                  min_weight_fraction_leaf=0.0,\n",
       "                                                  n_estimators=100,\n",
       "                                                  n_it...\n",
       "                                                  presort='auto',\n",
       "                                                  random_state=None,\n",
       "                                                  subsample=1.0, tol=0.0001,\n",
       "                                                  validation_fraction=0.1,\n",
       "                                                  verbose=0, warm_start=False),\n",
       "             iid='warn', n_jobs=None,\n",
       "             param_grid={'learning_rate': [0.001, 0.01, 0.1, 1, 10],\n",
       "                         'loss': ['deviance', 'exponential'],\n",
       "                         'max_depth': [3, 10, 50, 100],\n",
       "                         'n_estimators': [10, 100, 500, 1000]},\n",
       "             pre_dispatch='2*n_jobs', refit=True, return_train_score=False,\n",
       "             scoring=None, verbose=3)"
      ]
     },
     "execution_count": 284,
     "metadata": {},
     "output_type": "execute_result"
    }
   ],
   "source": [
    "grid.fit(X_train,y_train)"
   ]
  },
  {
   "cell_type": "code",
   "execution_count": 285,
   "metadata": {},
   "outputs": [
    {
     "data": {
      "text/plain": [
       "GradientBoostingClassifier(criterion='friedman_mse', init=None,\n",
       "                           learning_rate=0.1, loss='exponential', max_depth=3,\n",
       "                           max_features=None, max_leaf_nodes=None,\n",
       "                           min_impurity_decrease=0.0, min_impurity_split=None,\n",
       "                           min_samples_leaf=1, min_samples_split=2,\n",
       "                           min_weight_fraction_leaf=0.0, n_estimators=100,\n",
       "                           n_iter_no_change=None, presort='auto',\n",
       "                           random_state=None, subsample=1.0, tol=0.0001,\n",
       "                           validation_fraction=0.1, verbose=0,\n",
       "                           warm_start=False)"
      ]
     },
     "execution_count": 285,
     "metadata": {},
     "output_type": "execute_result"
    }
   ],
   "source": [
    "grid.best_estimator_"
   ]
  },
  {
   "cell_type": "code",
   "execution_count": 286,
   "metadata": {},
   "outputs": [],
   "source": [
    "predictions = grid.predict(X_test)"
   ]
  },
  {
   "cell_type": "markdown",
   "metadata": {},
   "source": [
    "<b><i> Checking model performance </i></b>"
   ]
  },
  {
   "cell_type": "code",
   "execution_count": 287,
   "metadata": {},
   "outputs": [
    {
     "name": "stdout",
     "output_type": "stream",
     "text": [
      "[[144  13]\n",
      " [ 37  74]]\n"
     ]
    }
   ],
   "source": [
    "print(confusion_matrix(y_test,predictions))"
   ]
  },
  {
   "cell_type": "code",
   "execution_count": 292,
   "metadata": {},
   "outputs": [
    {
     "name": "stdout",
     "output_type": "stream",
     "text": [
      "              precision    recall  f1-score   support\n",
      "\n",
      "           0       0.80      0.92      0.85       157\n",
      "           1       0.85      0.67      0.75       111\n",
      "\n",
      "    accuracy                           0.81       268\n",
      "   macro avg       0.82      0.79      0.80       268\n",
      "weighted avg       0.82      0.81      0.81       268\n",
      "\n"
     ]
    }
   ],
   "source": [
    "print(classification_report(y_test,predictions))"
   ]
  },
  {
   "cell_type": "markdown",
   "metadata": {},
   "source": [
    "<b><i> Submission file </i></b>"
   ]
  },
  {
   "cell_type": "code",
   "execution_count": 309,
   "metadata": {},
   "outputs": [],
   "source": [
    "predictions_k = grid.predict(X_test_k)"
   ]
  },
  {
   "cell_type": "code",
   "execution_count": 311,
   "metadata": {},
   "outputs": [],
   "source": [
    "submission = pd.DataFrame()\n",
    "passengerid = pd.read_csv('Titanic dataset/test.csv')\n",
    "submission['PassengerId'] = passengerid['PassengerId']\n",
    "submission['Survived']=predictions_k"
   ]
  },
  {
   "cell_type": "code",
   "execution_count": 312,
   "metadata": {},
   "outputs": [],
   "source": [
    "submission.to_csv('Submissions/GradientBoosting_grid.csv',index=False)"
   ]
  },
  {
   "cell_type": "markdown",
   "metadata": {},
   "source": [
    "It did not perform as well as the previous Gradient Boosting. It might be because the GridSearchCV overfitted the training set. The accuracy is <b>0.77511</b>."
   ]
  },
  {
   "cell_type": "code",
   "execution_count": null,
   "metadata": {},
   "outputs": [],
   "source": []
  }
 ],
 "metadata": {
  "kernelspec": {
   "display_name": "Python 3",
   "language": "python",
   "name": "python3"
  },
  "language_info": {
   "codemirror_mode": {
    "name": "ipython",
    "version": 3
   },
   "file_extension": ".py",
   "mimetype": "text/x-python",
   "name": "python",
   "nbconvert_exporter": "python",
   "pygments_lexer": "ipython3",
   "version": "3.7.4"
  }
 },
 "nbformat": 4,
 "nbformat_minor": 2
}
